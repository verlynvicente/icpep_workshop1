{
 "cells": [
  {
   "cell_type": "markdown",
   "metadata": {},
   "source": [
    "# Python Ecosystem for Machine Learning"
   ]
  },
  {
   "cell_type": "code",
   "execution_count": null,
   "metadata": {
    "ExecuteTime": {
     "end_time": "2019-10-04T00:51:27.284595Z",
     "start_time": "2019-10-04T00:51:26.431739Z"
    }
   },
   "outputs": [],
   "source": [
    "import scipy\n",
    "import numpy\n",
    "import matplotlib\n",
    "import pandas\n",
    "\n",
    "!python --version\n",
    "print('scipy version: %s'%(scipy.__version__))\n",
    "print('numpy version: %s'%(numpy.__version__))\n",
    "print('matplotlib version: %s'%(matplotlib.__version__))\n",
    "print('pandas version: %s'%(pandas.__version__))"
   ]
  },
  {
   "cell_type": "markdown",
   "metadata": {},
   "source": [
    "# Crash Course in Python and SciPy"
   ]
  },
  {
   "cell_type": "code",
   "execution_count": null,
   "metadata": {
    "ExecuteTime": {
     "end_time": "2019-10-04T00:51:33.278739Z",
     "start_time": "2019-10-04T00:51:33.266149Z"
    }
   },
   "outputs": [],
   "source": [
    "# Strings \n",
    "data = 'hello world' \n",
    "print(data[0]) \n",
    "print(len(data)) \n",
    "print(data)"
   ]
  },
  {
   "cell_type": "code",
   "execution_count": null,
   "metadata": {
    "ExecuteTime": {
     "end_time": "2019-10-04T00:51:33.836555Z",
     "start_time": "2019-10-04T00:51:33.829193Z"
    }
   },
   "outputs": [],
   "source": [
    "# Numbers \n",
    "value = 123.1\n",
    "print(value) \n",
    "value = 10 \n",
    "print(value)"
   ]
  },
  {
   "cell_type": "code",
   "execution_count": null,
   "metadata": {
    "ExecuteTime": {
     "end_time": "2019-10-04T00:51:34.352243Z",
     "start_time": "2019-10-04T00:51:34.343011Z"
    }
   },
   "outputs": [],
   "source": [
    "# Boolean \n",
    "a = True \n",
    "b = False \n",
    "print(a, b)"
   ]
  },
  {
   "cell_type": "code",
   "execution_count": null,
   "metadata": {
    "ExecuteTime": {
     "end_time": "2019-10-04T00:51:34.839152Z",
     "start_time": "2019-10-04T00:51:34.832639Z"
    }
   },
   "outputs": [],
   "source": [
    "# Multiple Assignment \n",
    "a, b, c = 1, 2, 3 \n",
    "print(a, b, c)"
   ]
  },
  {
   "cell_type": "code",
   "execution_count": null,
   "metadata": {
    "ExecuteTime": {
     "end_time": "2019-10-04T00:51:35.237857Z",
     "start_time": "2019-10-04T00:51:35.226392Z"
    }
   },
   "outputs": [],
   "source": [
    "# No value \n",
    "a = None \n",
    "print(a)"
   ]
  },
  {
   "cell_type": "code",
   "execution_count": null,
   "metadata": {
    "ExecuteTime": {
     "end_time": "2019-10-04T00:51:35.712465Z",
     "start_time": "2019-10-04T00:51:35.623220Z"
    }
   },
   "outputs": [],
   "source": [
    "# If-Then-Else Conditional\n",
    "value = 99 \n",
    "if value == 99: \n",
    "    print('That is fast')\n",
    "elif value > 200: \n",
    "    print('That is too fast' )\n",
    "else:\n",
    "    print('That is safe' )"
   ]
  },
  {
   "cell_type": "code",
   "execution_count": null,
   "metadata": {
    "ExecuteTime": {
     "end_time": "2019-10-04T00:51:36.111343Z",
     "start_time": "2019-10-04T00:51:35.909556Z"
    }
   },
   "outputs": [],
   "source": [
    "# For-Loop \n",
    "for i in range(10): \n",
    "    print(i)"
   ]
  },
  {
   "cell_type": "code",
   "execution_count": null,
   "metadata": {
    "ExecuteTime": {
     "end_time": "2019-10-04T00:51:36.152537Z",
     "start_time": "2019-10-04T00:51:36.143505Z"
    }
   },
   "outputs": [],
   "source": [
    "# While-Loop \n",
    "i = 0 \n",
    "while i < 10: \n",
    "    print(i) \n",
    "    i += 1"
   ]
  },
  {
   "cell_type": "code",
   "execution_count": null,
   "metadata": {
    "ExecuteTime": {
     "end_time": "2019-10-04T00:51:36.225620Z",
     "start_time": "2019-10-04T00:51:36.221447Z"
    }
   },
   "outputs": [],
   "source": [
    "# Tuple\n",
    "a = (1, 2, 3) \n",
    "print(a)"
   ]
  },
  {
   "cell_type": "code",
   "execution_count": null,
   "metadata": {
    "ExecuteTime": {
     "end_time": "2019-10-04T00:51:36.447497Z",
     "start_time": "2019-10-04T00:51:36.435225Z"
    }
   },
   "outputs": [],
   "source": [
    "# List\n",
    "mylist = [1, 2, 3] \n",
    "print(\"Zeroth Value: %d\" % mylist[0]) \n",
    "mylist.append(4) \n",
    "print(\"List Length: %d\" % len(mylist)) \n",
    "for value in mylist: \n",
    "    print(value)"
   ]
  },
  {
   "cell_type": "code",
   "execution_count": null,
   "metadata": {
    "ExecuteTime": {
     "end_time": "2019-10-04T00:51:36.674154Z",
     "start_time": "2019-10-04T00:51:36.663243Z"
    }
   },
   "outputs": [],
   "source": [
    "# Dictionary\n",
    "mydict = {' a' : 1, ' b' : 2, ' c' : 3} \n",
    "print(\"A value: %d\" % mydict[' a' ]) \n",
    "mydict[' a' ] = 11 \n",
    "print(\"A value: %d\" % mydict[' a' ]) \n",
    "print(\"Keys: %s\" % mydict.keys()) \n",
    "print(\"Values: %s\" % mydict.values()) \n",
    "for key in mydict.keys(): \n",
    "    print(mydict[key])"
   ]
  },
  {
   "cell_type": "code",
   "execution_count": null,
   "metadata": {
    "ExecuteTime": {
     "end_time": "2019-10-04T00:51:36.863414Z",
     "start_time": "2019-10-04T00:51:36.855359Z"
    }
   },
   "outputs": [],
   "source": [
    "# Sum function \n",
    "def mysum(x, y): \n",
    "    return x + y\n",
    "\n",
    "# Test sum function \n",
    "result = mysum(1, 3) \n",
    "print(result)"
   ]
  },
  {
   "cell_type": "code",
   "execution_count": null,
   "metadata": {
    "ExecuteTime": {
     "end_time": "2019-10-04T00:51:37.095759Z",
     "start_time": "2019-10-04T00:51:37.076604Z"
    }
   },
   "outputs": [],
   "source": [
    "# define an array \n",
    "import numpy \n",
    "mylist = [1, 2, 3] \n",
    "myarray = numpy.array(mylist) \n",
    "print(myarray) \n",
    "print(myarray.shape)"
   ]
  },
  {
   "cell_type": "code",
   "execution_count": null,
   "metadata": {
    "ExecuteTime": {
     "end_time": "2019-10-04T00:51:37.275188Z",
     "start_time": "2019-10-04T00:51:37.267935Z"
    }
   },
   "outputs": [],
   "source": [
    "# access values \n",
    "import numpy \n",
    "mylist = [[1, 2, 3], [3, 4, 5]] \n",
    "myarray = numpy.array(mylist) \n",
    "print(myarray) \n",
    "print(myarray.shape) \n",
    "print(\"First row: %s\" % myarray[0]) \n",
    "print(\"Last row: %s\" % myarray[-1]) \n",
    "print(\"Specific row and col: %s\" % myarray[0, 2]) \n",
    "print(\"Whole col: %s\" % myarray[:, 2])"
   ]
  },
  {
   "cell_type": "code",
   "execution_count": null,
   "metadata": {
    "ExecuteTime": {
     "end_time": "2019-10-04T00:51:37.460358Z",
     "start_time": "2019-10-04T00:51:37.451105Z"
    }
   },
   "outputs": [],
   "source": [
    "# arithmetic \n",
    "import numpy \n",
    "myarray1 = numpy.array([2, 2, 2]) \n",
    "myarray2 = numpy.array([3, 3, 3]) \n",
    "print(\"Addition: %s\" % (myarray1 + myarray2)) \n",
    "print(\"Multiplication: %s\" % (myarray1 * myarray2))"
   ]
  },
  {
   "cell_type": "code",
   "execution_count": null,
   "metadata": {
    "ExecuteTime": {
     "end_time": "2019-10-04T00:51:37.947581Z",
     "start_time": "2019-10-04T00:51:37.617700Z"
    }
   },
   "outputs": [],
   "source": [
    "# basic line plot \n",
    "import matplotlib.pyplot as plt \n",
    "import numpy \n",
    "myarray = numpy.array([1, 2, 3]) \n",
    "plt.plot(myarray) \n",
    "plt.xlabel(' some x axis' ) \n",
    "plt.ylabel(' some y axis' ) \n",
    "plt.show()"
   ]
  },
  {
   "cell_type": "code",
   "execution_count": null,
   "metadata": {
    "ExecuteTime": {
     "end_time": "2019-10-04T00:51:38.447575Z",
     "start_time": "2019-10-04T00:51:37.971976Z"
    }
   },
   "outputs": [],
   "source": [
    "# basic scatter plot \n",
    "import matplotlib.pyplot as plt \n",
    "import numpy \n",
    "x = numpy.array([1, 2, 3]) \n",
    "y = numpy.array([2, 4, 6]) \n",
    "plt.scatter(x,y) \n",
    "plt.xlabel(' some x axis' ) \n",
    "plt.ylabel(' some y axis' ) \n",
    "plt.show()"
   ]
  },
  {
   "cell_type": "code",
   "execution_count": null,
   "metadata": {
    "ExecuteTime": {
     "end_time": "2019-10-04T00:51:38.495873Z",
     "start_time": "2019-10-04T00:51:38.476593Z"
    }
   },
   "outputs": [],
   "source": [
    "# series\n",
    "import numpy \n",
    "import pandas \n",
    "myarray = numpy.array([1, 2, 3]) \n",
    "rownames = [' a' , ' b' , ' c' ] \n",
    "myseries = pandas.Series(myarray, index=rownames)\n",
    "print(myseries)"
   ]
  },
  {
   "cell_type": "code",
   "execution_count": null,
   "metadata": {
    "ExecuteTime": {
     "end_time": "2019-10-04T00:51:38.522192Z",
     "start_time": "2019-10-04T00:51:38.508750Z"
    }
   },
   "outputs": [],
   "source": [
    "print(myseries[0]) \n",
    "print(myseries[' a' ])"
   ]
  },
  {
   "cell_type": "code",
   "execution_count": null,
   "metadata": {
    "ExecuteTime": {
     "end_time": "2019-10-04T00:51:38.812450Z",
     "start_time": "2019-10-04T00:51:38.784744Z"
    }
   },
   "outputs": [],
   "source": [
    "# dataframe\n",
    "import numpy \n",
    "import pandas \n",
    "myarray = numpy.array([[1, 2, 3], [4, 5, 6]]) \n",
    "rownames = ['a' , 'b' ] \n",
    "colnames = ['one' , 'two' , 'three' ] \n",
    "mydataframe = pandas.DataFrame(myarray, index=rownames, columns=colnames) \n",
    "print(mydataframe)"
   ]
  },
  {
   "cell_type": "code",
   "execution_count": null,
   "metadata": {
    "ExecuteTime": {
     "end_time": "2019-10-04T00:51:39.472319Z",
     "start_time": "2019-10-04T00:51:39.463897Z"
    }
   },
   "outputs": [],
   "source": [
    "print(\"method 1:\") \n",
    "print(\"one column:\\n%s\" % mydataframe['one']) \n",
    "print(\"method 2:\") \n",
    "print(\"one column:\\n%s\" % mydataframe.one)"
   ]
  },
  {
   "cell_type": "markdown",
   "metadata": {},
   "source": [
    "# How To Load Machine Learning Data"
   ]
  },
  {
   "cell_type": "code",
   "execution_count": null,
   "metadata": {
    "ExecuteTime": {
     "end_time": "2019-10-04T00:51:40.244277Z",
     "start_time": "2019-10-04T00:51:40.217397Z"
    }
   },
   "outputs": [],
   "source": [
    "# Load CSV Using Python Standard Library \n",
    "import csv \n",
    "import numpy \n",
    "filename = 'pima-indians-diabetes.data.csv' \n",
    "raw_data = open(filename, 'rt' ) \n",
    "reader = csv.reader(raw_data, delimiter=',' , quoting=csv.QUOTE_NONE) \n",
    "x = list(reader) \n",
    "data = numpy.array(x).astype('float' ) \n",
    "print(data.shape)"
   ]
  },
  {
   "cell_type": "code",
   "execution_count": null,
   "metadata": {
    "ExecuteTime": {
     "end_time": "2019-10-04T00:51:40.800511Z",
     "start_time": "2019-10-04T00:51:40.770992Z"
    }
   },
   "outputs": [],
   "source": [
    "# Load CSV using NumPy \n",
    "from numpy import loadtxt \n",
    "filename = 'pima-indians-diabetes.data.csv' \n",
    "raw_data = open(filename, 'rt' ) \n",
    "data = loadtxt(raw_data, delimiter=\",\") \n",
    "print(data.shape)"
   ]
  },
  {
   "cell_type": "code",
   "execution_count": null,
   "metadata": {
    "ExecuteTime": {
     "end_time": "2019-10-04T00:53:13.018984Z",
     "start_time": "2019-10-04T00:53:10.626424Z"
    }
   },
   "outputs": [],
   "source": [
    "# Load CSV from URL using NumPy \n",
    "from numpy import loadtxt \n",
    "from urllib.request import urlopen \n",
    "url = 'https://goo.gl/bDdBiA' \n",
    "raw_data = urlopen(url) \n",
    "dataset = loadtxt(raw_data, delimiter=\",\") \n",
    "print(dataset.shape)"
   ]
  },
  {
   "cell_type": "code",
   "execution_count": null,
   "metadata": {
    "ExecuteTime": {
     "end_time": "2019-10-04T00:53:14.415631Z",
     "start_time": "2019-10-04T00:53:14.398229Z"
    }
   },
   "outputs": [],
   "source": [
    "# Load CSV using Pandas \n",
    "from urllib.request import urlopen\n",
    "from pandas import read_csv \n",
    "filename = 'pima-indians-diabetes.data.csv' \n",
    "names = ['preg', 'plas', 'pres', 'skin', 'test', 'mass', 'pedi', 'age', 'class'] \n",
    "data = read_csv(filename, names=names) \n",
    "print(data.shape)"
   ]
  },
  {
   "cell_type": "code",
   "execution_count": null,
   "metadata": {
    "ExecuteTime": {
     "end_time": "2019-10-04T00:53:17.263687Z",
     "start_time": "2019-10-04T00:53:15.222932Z"
    }
   },
   "outputs": [],
   "source": [
    "# Load CSV using Pandas from URL \n",
    "from pandas import read_csv \n",
    "url = 'https://goo.gl/bDdBiA' \n",
    "names = ['preg', 'plas', 'pres', 'skin', 'test', 'mass', 'pedi', 'age', 'class'] \n",
    "data = read_csv(url, names=names) \n",
    "print(data.shape)"
   ]
  },
  {
   "cell_type": "markdown",
   "metadata": {},
   "source": [
    "# Understand Your Data With Descriptive Statistics"
   ]
  },
  {
   "cell_type": "code",
   "execution_count": null,
   "metadata": {
    "ExecuteTime": {
     "end_time": "2019-09-26T07:21:00.307554Z",
     "start_time": "2019-09-26T07:21:00.277952Z"
    }
   },
   "outputs": [],
   "source": [
    "# View first 20 rows \n",
    "from pandas import read_csv \n",
    "filename = \"pima-indians-diabetes.data.csv\" \n",
    "names = ['preg', 'plas', 'pres', 'skin', 'test', 'mass', 'pedi', 'age', 'class'] \n",
    "data = read_csv(filename, names=names) \n",
    "peek = data.head(20)\n",
    "print(peek)"
   ]
  },
  {
   "cell_type": "code",
   "execution_count": null,
   "metadata": {
    "ExecuteTime": {
     "end_time": "2019-09-26T07:21:00.938854Z",
     "start_time": "2019-09-26T07:21:00.925224Z"
    }
   },
   "outputs": [],
   "source": [
    "# Dimensions of your data \n",
    "from pandas import read_csv \n",
    "filename = \"pima-indians-diabetes.data.csv\" \n",
    "names = ['preg', 'plas', 'pres', 'skin', 'test', 'mass', 'pedi', 'age', 'class'] \n",
    "data = read_csv(filename, names=names) \n",
    "shape = data.shape \n",
    "print(shape)"
   ]
  },
  {
   "cell_type": "code",
   "execution_count": null,
   "metadata": {
    "ExecuteTime": {
     "end_time": "2019-09-26T07:21:02.239169Z",
     "start_time": "2019-09-26T07:21:02.222833Z"
    }
   },
   "outputs": [],
   "source": [
    "# Data Types for Each Attribute \n",
    "from pandas import read_csv \n",
    "filename = \"pima-indians-diabetes.data.csv\" \n",
    "names = ['preg', 'plas', 'pres', 'skin', 'test', 'mass', 'pedi', 'age', 'class'] \n",
    "data = read_csv(filename, names=names) \n",
    "types = data.dtypes \n",
    "print(types)"
   ]
  },
  {
   "cell_type": "code",
   "execution_count": null,
   "metadata": {
    "ExecuteTime": {
     "end_time": "2019-09-26T07:21:02.760803Z",
     "start_time": "2019-09-26T07:21:02.675366Z"
    }
   },
   "outputs": [],
   "source": [
    "# Statistical Summary \n",
    "from pandas import read_csv \n",
    "from pandas import set_option \n",
    "filename = \"pima-indians-diabetes.data.csv\" \n",
    "names = ['preg', 'plas', 'pres', 'skin', 'test', 'mass', 'pedi', 'age', 'class'] \n",
    "data = read_csv(filename, names=names) \n",
    "set_option('display.width', 100) \n",
    "set_option('precision', 3) \n",
    "description = data.describe() \n",
    "print(description)"
   ]
  },
  {
   "cell_type": "code",
   "execution_count": null,
   "metadata": {
    "ExecuteTime": {
     "end_time": "2019-09-26T07:21:03.565039Z",
     "start_time": "2019-09-26T07:21:03.545390Z"
    }
   },
   "outputs": [],
   "source": [
    "# Class Distribution\n",
    "from pandas import read_csv \n",
    "filename = \"pima-indians-diabetes.data.csv\" \n",
    "names = ['preg', 'plas', 'pres', 'skin', 'test', 'mass', 'pedi', 'age', 'class'] \n",
    "data = read_csv(filename, names=names)\n",
    "class_counts = data.groupby('class').size() \n",
    "print(class_counts)"
   ]
  },
  {
   "cell_type": "code",
   "execution_count": null,
   "metadata": {
    "ExecuteTime": {
     "end_time": "2019-09-26T07:21:04.561624Z",
     "start_time": "2019-09-26T07:21:04.532593Z"
    }
   },
   "outputs": [],
   "source": [
    "# Pairwise Pearson correlations \n",
    "from pandas import read_csv \n",
    "from pandas import set_option \n",
    "filename = \"pima-indians-diabetes.data.csv\" \n",
    "names = ['preg', 'plas', 'pres', 'skin', 'test', 'mass', 'pedi', 'age', 'class'] \n",
    "data = read_csv(filename, names=names) \n",
    "set_option('display.width', 100) \n",
    "set_option('precision', 3) \n",
    "correlations = data.corr(method='pearson' ) \n",
    "print(correlations)"
   ]
  },
  {
   "cell_type": "code",
   "execution_count": null,
   "metadata": {
    "ExecuteTime": {
     "end_time": "2019-09-26T07:21:05.255950Z",
     "start_time": "2019-09-26T07:21:05.234700Z"
    }
   },
   "outputs": [],
   "source": [
    "# Skew for each attribute \n",
    "from pandas import read_csv \n",
    "filename = \"pima-indians-diabetes.data.csv\" \n",
    "names = ['preg', 'plas', 'pres', 'skin', 'test', 'mass', 'pedi', 'age', 'class'] \n",
    "data = read_csv(filename, names=names) \n",
    "skew = data.skew() \n",
    "print(skew)"
   ]
  },
  {
   "cell_type": "markdown",
   "metadata": {},
   "source": [
    "# Understand Your Data With Visualization"
   ]
  },
  {
   "cell_type": "code",
   "execution_count": null,
   "metadata": {
    "ExecuteTime": {
     "end_time": "2019-09-26T07:21:08.235528Z",
     "start_time": "2019-09-26T07:21:06.610949Z"
    },
    "scrolled": true
   },
   "outputs": [],
   "source": [
    "# Univariate Histograms \n",
    "from matplotlib import pyplot \n",
    "from pandas import read_csv \n",
    "filename = 'pima-indians-diabetes.data.csv' \n",
    "names = ['preg', 'plas', 'pres', 'skin', 'test', 'mass', 'pedi', 'age', 'class'] \n",
    "data = read_csv(filename, names=names) \n",
    "data.hist() \n",
    "pyplot.tight_layout()\n",
    "pyplot.show()"
   ]
  },
  {
   "cell_type": "code",
   "execution_count": null,
   "metadata": {
    "ExecuteTime": {
     "end_time": "2019-09-26T07:21:10.807237Z",
     "start_time": "2019-09-26T07:21:08.350666Z"
    }
   },
   "outputs": [],
   "source": [
    "# Univariate Density Plots \n",
    "from matplotlib import pyplot \n",
    "from pandas import read_csv \n",
    "filename = 'pima-indians-diabetes.data.csv' \n",
    "names = ['preg', 'plas', 'pres', 'skin', 'test', 'mass', 'pedi', 'age', 'class'] \n",
    "data = read_csv(filename, names=names) \n",
    "data.plot(kind='density' , subplots=True, layout=(3,3), sharex=False) \n",
    "pyplot.tight_layout()\n",
    "pyplot.show()"
   ]
  },
  {
   "cell_type": "code",
   "execution_count": null,
   "metadata": {
    "ExecuteTime": {
     "end_time": "2019-09-26T07:21:12.589293Z",
     "start_time": "2019-09-26T07:21:10.955755Z"
    }
   },
   "outputs": [],
   "source": [
    "# Box and Whisker Plots \n",
    "from matplotlib import pyplot \n",
    "from pandas import read_csv \n",
    "filename = \"pima-indians-diabetes.data.csv\" \n",
    "names = ['preg', 'plas', 'pres', 'skin', 'test', 'mass', 'pedi', 'age', 'class'] \n",
    "data = read_csv(filename, names=names) \n",
    "data.plot(kind='box' , subplots=True, layout=(3,3), sharex=False, sharey=False) \n",
    "pyplot.tight_layout()\n",
    "pyplot.show()"
   ]
  },
  {
   "cell_type": "code",
   "execution_count": null,
   "metadata": {
    "ExecuteTime": {
     "end_time": "2019-09-26T07:21:13.076377Z",
     "start_time": "2019-09-26T07:21:12.722105Z"
    }
   },
   "outputs": [],
   "source": [
    "# Correlation Matrix Plot \n",
    "from matplotlib import pyplot \n",
    "from pandas import read_csv \n",
    "import numpy \n",
    "filename = 'pima-indians-diabetes.data.csv' \n",
    "names = ['preg', 'plas', 'pres', 'skin', 'test', 'mass', 'pedi', 'age', 'class'] \n",
    "data = read_csv(filename, names=names) \n",
    "correlations = data.corr() \n",
    "\n",
    "# plot correlation matrix \n",
    "fig = pyplot.figure() \n",
    "ax = fig.add_subplot(111) \n",
    "cax = ax.matshow(correlations, vmin=-1, vmax=1) \n",
    "fig.colorbar(cax) \n",
    "ticks = numpy.arange(0,9,1) \n",
    "ax.set_xticks(ticks) \n",
    "ax.set_yticks(ticks) \n",
    "ax.set_xticklabels(names) \n",
    "ax.set_yticklabels(names) \n",
    "pyplot.show()"
   ]
  },
  {
   "cell_type": "code",
   "execution_count": null,
   "metadata": {
    "ExecuteTime": {
     "end_time": "2019-09-26T07:21:20.263291Z",
     "start_time": "2019-09-26T07:21:13.962415Z"
    }
   },
   "outputs": [],
   "source": [
    "# Scatterplot Matrix \n",
    "from matplotlib import pyplot \n",
    "from pandas import read_csv \n",
    "from pandas.plotting import scatter_matrix \n",
    "filename = \"pima-indians-diabetes.data.csv\" \n",
    "names = ['preg', 'plas', 'pres', 'skin', 'test', 'mass', 'pedi', 'age', 'class'] \n",
    "data = read_csv(filename, names=names) \n",
    "scatter_matrix(data) \n",
    "pyplot.show()"
   ]
  },
  {
   "cell_type": "code",
   "execution_count": null,
   "metadata": {},
   "outputs": [],
   "source": []
  }
 ],
 "metadata": {
  "kernelspec": {
   "display_name": "Python 3",
   "language": "python",
   "name": "python3"
  },
  "language_info": {
   "codemirror_mode": {
    "name": "ipython",
    "version": 3
   },
   "file_extension": ".py",
   "mimetype": "text/x-python",
   "name": "python",
   "nbconvert_exporter": "python",
   "pygments_lexer": "ipython3",
   "version": "3.7.1"
  },
  "latex_envs": {
   "LaTeX_envs_menu_present": true,
   "autoclose": false,
   "autocomplete": true,
   "bibliofile": "biblio.bib",
   "cite_by": "apalike",
   "current_citInitial": 1,
   "eqLabelWithNumbers": true,
   "eqNumInitial": 1,
   "hotkeys": {
    "equation": "Ctrl-E",
    "itemize": "Ctrl-I"
   },
   "labels_anchors": false,
   "latex_user_defs": false,
   "report_style_numbering": false,
   "user_envs_cfg": false
  },
  "toc": {
   "base_numbering": 1,
   "nav_menu": {},
   "number_sections": true,
   "sideBar": true,
   "skip_h1_title": false,
   "title_cell": "Table of Contents",
   "title_sidebar": "Contents",
   "toc_cell": false,
   "toc_position": {
    "height": "458px",
    "left": "198px",
    "top": "110px",
    "width": "277px"
   },
   "toc_section_display": true,
   "toc_window_display": true
  },
  "varInspector": {
   "cols": {
    "lenName": 16,
    "lenType": 16,
    "lenVar": 40
   },
   "kernels_config": {
    "python": {
     "delete_cmd_postfix": "",
     "delete_cmd_prefix": "del ",
     "library": "var_list.py",
     "varRefreshCmd": "print(var_dic_list())"
    },
    "r": {
     "delete_cmd_postfix": ") ",
     "delete_cmd_prefix": "rm(",
     "library": "var_list.r",
     "varRefreshCmd": "cat(var_dic_list()) "
    }
   },
   "types_to_exclude": [
    "module",
    "function",
    "builtin_function_or_method",
    "instance",
    "_Feature"
   ],
   "window_display": false
  }
 },
 "nbformat": 4,
 "nbformat_minor": 2
}
