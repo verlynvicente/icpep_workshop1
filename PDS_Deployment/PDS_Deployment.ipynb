{
 "cells": [
  {
   "cell_type": "markdown",
   "metadata": {},
   "source": [
    "# Welcome"
   ]
  },
  {
   "cell_type": "markdown",
   "metadata": {},
   "source": [
    "This notebook provides a comprehensive list of essential steps of building data science solutions based on CRISP-DM methodology.\n",
    "\n",
    "<img src=\"images/crisp-dm.png\" width=\"50%\">"
   ]
  },
  {
   "cell_type": "markdown",
   "metadata": {},
   "source": [
    "# Python Ecosystem for Machine Learning"
   ]
  },
  {
   "cell_type": "code",
   "execution_count": 1,
   "metadata": {
    "ExecuteTime": {
     "end_time": "2019-10-11T01:05:15.481997Z",
     "start_time": "2019-10-11T01:05:15.472231Z"
    }
   },
   "outputs": [],
   "source": [
    "# Suppress warnings\n",
    "import warnings\n",
    "warnings.filterwarnings('ignore')"
   ]
  },
  {
   "cell_type": "code",
   "execution_count": 2,
   "metadata": {
    "ExecuteTime": {
     "end_time": "2019-10-11T01:05:16.504632Z",
     "start_time": "2019-10-11T01:05:15.503375Z"
    }
   },
   "outputs": [
    {
     "name": "stdout",
     "output_type": "stream",
     "text": [
      "Python 3.6.7\n",
      "scipy version: 1.3.0\n",
      "numpy version: 1.16.4\n",
      "matplotlib version: 3.1.1\n",
      "pandas version: 0.25.0\n"
     ]
    }
   ],
   "source": [
    "import scipy\n",
    "import numpy\n",
    "import matplotlib\n",
    "import pandas\n",
    "\n",
    "!python --version\n",
    "print('scipy version: %s'%(scipy.__version__))\n",
    "print('numpy version: %s'%(numpy.__version__))\n",
    "print('matplotlib version: %s'%(matplotlib.__version__))\n",
    "print('pandas version: %s'%(pandas.__version__))"
   ]
  },
  {
   "cell_type": "markdown",
   "metadata": {},
   "source": [
    "# Crash Course in Python and SciPy"
   ]
  },
  {
   "cell_type": "code",
   "execution_count": 3,
   "metadata": {
    "ExecuteTime": {
     "end_time": "2019-10-11T01:05:16.519156Z",
     "start_time": "2019-10-11T01:05:16.509197Z"
    }
   },
   "outputs": [
    {
     "name": "stdout",
     "output_type": "stream",
     "text": [
      "h\n",
      "11\n",
      "hello world\n"
     ]
    }
   ],
   "source": [
    "# Strings \n",
    "data = 'hello world' \n",
    "print(data[0]) \n",
    "print(len(data)) \n",
    "print(data)"
   ]
  },
  {
   "cell_type": "code",
   "execution_count": 4,
   "metadata": {
    "ExecuteTime": {
     "end_time": "2019-10-11T01:05:16.534725Z",
     "start_time": "2019-10-11T01:05:16.525010Z"
    }
   },
   "outputs": [
    {
     "name": "stdout",
     "output_type": "stream",
     "text": [
      "123.1\n",
      "10\n"
     ]
    }
   ],
   "source": [
    "# Numbers \n",
    "value = 123.1\n",
    "print(value) \n",
    "value = 10 \n",
    "print(value)"
   ]
  },
  {
   "cell_type": "code",
   "execution_count": 5,
   "metadata": {
    "ExecuteTime": {
     "end_time": "2019-10-11T01:05:16.548627Z",
     "start_time": "2019-10-11T01:05:16.539705Z"
    }
   },
   "outputs": [
    {
     "name": "stdout",
     "output_type": "stream",
     "text": [
      "True False\n"
     ]
    }
   ],
   "source": [
    "# Boolean \n",
    "a = True \n",
    "b = False \n",
    "print(a, b)"
   ]
  },
  {
   "cell_type": "code",
   "execution_count": 6,
   "metadata": {
    "ExecuteTime": {
     "end_time": "2019-10-11T01:05:16.561994Z",
     "start_time": "2019-10-11T01:05:16.553306Z"
    }
   },
   "outputs": [
    {
     "name": "stdout",
     "output_type": "stream",
     "text": [
      "1 2 3\n"
     ]
    }
   ],
   "source": [
    "# Multiple Assignment \n",
    "a, b, c = 1, 2, 3 \n",
    "print(a, b, c)"
   ]
  },
  {
   "cell_type": "code",
   "execution_count": 7,
   "metadata": {
    "ExecuteTime": {
     "end_time": "2019-10-11T01:05:16.574682Z",
     "start_time": "2019-10-11T01:05:16.566501Z"
    }
   },
   "outputs": [
    {
     "name": "stdout",
     "output_type": "stream",
     "text": [
      "None\n"
     ]
    }
   ],
   "source": [
    "# No value \n",
    "a = None \n",
    "print(a)"
   ]
  },
  {
   "cell_type": "code",
   "execution_count": 8,
   "metadata": {
    "ExecuteTime": {
     "end_time": "2019-10-11T01:05:16.587047Z",
     "start_time": "2019-10-11T01:05:16.578329Z"
    }
   },
   "outputs": [
    {
     "name": "stdout",
     "output_type": "stream",
     "text": [
      "That is fast\n"
     ]
    }
   ],
   "source": [
    "# If-Then-Else Conditional\n",
    "value = 99 \n",
    "if value == 99: \n",
    "    print('That is fast')\n",
    "elif value > 200: \n",
    "    print('That is too fast' )\n",
    "else:\n",
    "    print('That is safe' )"
   ]
  },
  {
   "cell_type": "code",
   "execution_count": 9,
   "metadata": {
    "ExecuteTime": {
     "end_time": "2019-10-11T01:05:16.604799Z",
     "start_time": "2019-10-11T01:05:16.594141Z"
    }
   },
   "outputs": [
    {
     "name": "stdout",
     "output_type": "stream",
     "text": [
      "0\n",
      "1\n",
      "2\n",
      "3\n",
      "4\n",
      "5\n",
      "6\n",
      "7\n",
      "8\n",
      "9\n"
     ]
    }
   ],
   "source": [
    "# For-Loop \n",
    "for i in range(10): \n",
    "    print(i)"
   ]
  },
  {
   "cell_type": "code",
   "execution_count": 10,
   "metadata": {
    "ExecuteTime": {
     "end_time": "2019-10-11T01:05:16.620495Z",
     "start_time": "2019-10-11T01:05:16.610163Z"
    }
   },
   "outputs": [
    {
     "name": "stdout",
     "output_type": "stream",
     "text": [
      "0\n",
      "1\n",
      "2\n",
      "3\n",
      "4\n",
      "5\n",
      "6\n",
      "7\n",
      "8\n",
      "9\n"
     ]
    }
   ],
   "source": [
    "# While-Loop \n",
    "i = 0 \n",
    "while i < 10: \n",
    "    print(i) \n",
    "    i += 1"
   ]
  },
  {
   "cell_type": "code",
   "execution_count": 11,
   "metadata": {
    "ExecuteTime": {
     "end_time": "2019-10-11T01:05:16.631983Z",
     "start_time": "2019-10-11T01:05:16.624026Z"
    }
   },
   "outputs": [
    {
     "name": "stdout",
     "output_type": "stream",
     "text": [
      "(1, 2, 3)\n"
     ]
    }
   ],
   "source": [
    "# Tuple\n",
    "a = (1, 2, 3) \n",
    "print(a)"
   ]
  },
  {
   "cell_type": "code",
   "execution_count": 12,
   "metadata": {
    "ExecuteTime": {
     "end_time": "2019-10-11T01:05:16.646985Z",
     "start_time": "2019-10-11T01:05:16.636275Z"
    }
   },
   "outputs": [
    {
     "name": "stdout",
     "output_type": "stream",
     "text": [
      "Zeroth Value: 1\n",
      "List Length: 4\n",
      "1\n",
      "2\n",
      "3\n",
      "4\n"
     ]
    }
   ],
   "source": [
    "# List\n",
    "mylist = [1, 2, 3] \n",
    "print(\"Zeroth Value: %d\" % mylist[0]) \n",
    "mylist.append(4) \n",
    "print(\"List Length: %d\" % len(mylist)) \n",
    "for value in mylist: \n",
    "    print(value)"
   ]
  },
  {
   "cell_type": "code",
   "execution_count": 13,
   "metadata": {
    "ExecuteTime": {
     "end_time": "2019-10-11T01:05:16.665942Z",
     "start_time": "2019-10-11T01:05:16.652298Z"
    }
   },
   "outputs": [
    {
     "name": "stdout",
     "output_type": "stream",
     "text": [
      "A value: 1\n",
      "A value: 11\n",
      "Keys: dict_keys([' a', ' b', ' c'])\n",
      "Values: dict_values([11, 2, 3])\n",
      "11\n",
      "2\n",
      "3\n"
     ]
    }
   ],
   "source": [
    "# Dictionary\n",
    "mydict = {' a' : 1, ' b' : 2, ' c' : 3} \n",
    "print(\"A value: %d\" % mydict[' a' ]) \n",
    "mydict[' a' ] = 11 \n",
    "print(\"A value: %d\" % mydict[' a' ]) \n",
    "print(\"Keys: %s\" % mydict.keys()) \n",
    "print(\"Values: %s\" % mydict.values()) \n",
    "for key in mydict.keys(): \n",
    "    print(mydict[key])"
   ]
  },
  {
   "cell_type": "code",
   "execution_count": 14,
   "metadata": {
    "ExecuteTime": {
     "end_time": "2019-10-11T01:05:16.679294Z",
     "start_time": "2019-10-11T01:05:16.670160Z"
    }
   },
   "outputs": [
    {
     "name": "stdout",
     "output_type": "stream",
     "text": [
      "4\n"
     ]
    }
   ],
   "source": [
    "# Sum function \n",
    "def mysum(x, y): \n",
    "    return x + y\n",
    "\n",
    "# Test sum function \n",
    "result = mysum(1, 3) \n",
    "print(result)"
   ]
  },
  {
   "cell_type": "code",
   "execution_count": 15,
   "metadata": {
    "ExecuteTime": {
     "end_time": "2019-10-11T01:05:16.693371Z",
     "start_time": "2019-10-11T01:05:16.685456Z"
    }
   },
   "outputs": [
    {
     "name": "stdout",
     "output_type": "stream",
     "text": [
      "[1 2 3]\n",
      "(3,)\n"
     ]
    }
   ],
   "source": [
    "# define an array \n",
    "import numpy \n",
    "mylist = [1, 2, 3] \n",
    "myarray = numpy.array(mylist) \n",
    "print(myarray) \n",
    "print(myarray.shape)"
   ]
  },
  {
   "cell_type": "code",
   "execution_count": 16,
   "metadata": {
    "ExecuteTime": {
     "end_time": "2019-10-11T01:05:16.714790Z",
     "start_time": "2019-10-11T01:05:16.701805Z"
    }
   },
   "outputs": [
    {
     "name": "stdout",
     "output_type": "stream",
     "text": [
      "[[1 2 3]\n",
      " [3 4 5]]\n",
      "(2, 3)\n",
      "First row: [1 2 3]\n",
      "Last row: [3 4 5]\n",
      "Specific row and col: 3\n",
      "Whole col: [3 5]\n"
     ]
    }
   ],
   "source": [
    "# access values \n",
    "import numpy \n",
    "mylist = [[1, 2, 3], [3, 4, 5]] \n",
    "myarray = numpy.array(mylist) \n",
    "print(myarray) \n",
    "print(myarray.shape) \n",
    "print(\"First row: %s\" % myarray[0]) \n",
    "print(\"Last row: %s\" % myarray[-1]) \n",
    "print(\"Specific row and col: %s\" % myarray[0, 2]) \n",
    "print(\"Whole col: %s\" % myarray[:, 2])"
   ]
  },
  {
   "cell_type": "code",
   "execution_count": 17,
   "metadata": {
    "ExecuteTime": {
     "end_time": "2019-10-11T01:05:16.731114Z",
     "start_time": "2019-10-11T01:05:16.719467Z"
    }
   },
   "outputs": [
    {
     "name": "stdout",
     "output_type": "stream",
     "text": [
      "Addition: [5 5 5]\n",
      "Multiplication: [6 6 6]\n"
     ]
    }
   ],
   "source": [
    "# arithmetic \n",
    "import numpy \n",
    "myarray1 = numpy.array([2, 2, 2]) \n",
    "myarray2 = numpy.array([3, 3, 3]) \n",
    "print(\"Addition: %s\" % (myarray1 + myarray2)) \n",
    "print(\"Multiplication: %s\" % (myarray1 * myarray2))"
   ]
  },
  {
   "cell_type": "code",
   "execution_count": 18,
   "metadata": {
    "ExecuteTime": {
     "end_time": "2019-10-11T01:05:17.086450Z",
     "start_time": "2019-10-11T01:05:16.734785Z"
    }
   },
   "outputs": [
    {
     "data": {
      "text/plain": [
       "<Figure size 640x480 with 1 Axes>"
      ]
     },
     "metadata": {},
     "output_type": "display_data"
    }
   ],
   "source": [
    "# basic line plot \n",
    "import matplotlib.pyplot as plt \n",
    "import numpy \n",
    "myarray = numpy.array([1, 2, 3]) \n",
    "plt.plot(myarray) \n",
    "plt.xlabel(' some x axis' ) \n",
    "plt.ylabel(' some y axis' ) \n",
    "plt.show()"
   ]
  },
  {
   "cell_type": "code",
   "execution_count": 19,
   "metadata": {
    "ExecuteTime": {
     "end_time": "2019-10-11T01:05:17.503689Z",
     "start_time": "2019-10-11T01:05:17.090140Z"
    }
   },
   "outputs": [
    {
     "data": {
      "image/png": "[encoded data removed]",
      "text/plain": [
       "<Figure size 432x288 with 1 Axes>"
      ]
     },
     "metadata": {
      "needs_background": "light"
     },
     "output_type": "display_data"
    }
   ],
   "source": [
    "# basic scatter plot \n",
    "import matplotlib.pyplot as plt \n",
    "import numpy \n",
    "x = numpy.array([1, 2, 3]) \n",
    "y = numpy.array([2, 4, 6]) \n",
    "plt.scatter(x,y) \n",
    "plt.xlabel(' some x axis' ) \n",
    "plt.ylabel(' some y axis' ) \n",
    "plt.show()"
   ]
  },
  {
   "cell_type": "code",
   "execution_count": 20,
   "metadata": {
    "ExecuteTime": {
     "end_time": "2019-10-11T01:05:17.518112Z",
     "start_time": "2019-10-11T01:05:17.507052Z"
    }
   },
   "outputs": [
    {
     "name": "stdout",
     "output_type": "stream",
     "text": [
      " a    1\n",
      " b    2\n",
      " c    3\n",
      "dtype: int64\n"
     ]
    }
   ],
   "source": [
    "# series\n",
    "import numpy \n",
    "import pandas \n",
    "myarray = numpy.array([1, 2, 3]) \n",
    "rownames = [' a' , ' b' , ' c' ] \n",
    "myseries = pandas.Series(myarray, index=rownames)\n",
    "print(myseries)"
   ]
  },
  {
   "cell_type": "code",
   "execution_count": 21,
   "metadata": {
    "ExecuteTime": {
     "end_time": "2019-10-11T01:05:17.532420Z",
     "start_time": "2019-10-11T01:05:17.528126Z"
    }
   },
   "outputs": [
    {
     "name": "stdout",
     "output_type": "stream",
     "text": [
      "1\n",
      "1\n"
     ]
    }
   ],
   "source": [
    "print(myseries[0]) \n",
    "print(myseries[' a' ])"
   ]
  },
  {
   "cell_type": "code",
   "execution_count": 22,
   "metadata": {
    "ExecuteTime": {
     "end_time": "2019-10-11T01:05:17.554414Z",
     "start_time": "2019-10-11T01:05:17.535069Z"
    }
   },
   "outputs": [
    {
     "name": "stdout",
     "output_type": "stream",
     "text": [
      "   one  two  three\n",
      "a    1    2      3\n",
      "b    4    5      6\n"
     ]
    }
   ],
   "source": [
    "# dataframe\n",
    "import numpy \n",
    "import pandas \n",
    "myarray = numpy.array([[1, 2, 3], [4, 5, 6]]) \n",
    "rownames = ['a' , 'b' ] \n",
    "colnames = ['one' , 'two' , 'three' ] \n",
    "mydataframe = pandas.DataFrame(myarray, index=rownames, columns=colnames) \n",
    "print(mydataframe)"
   ]
  },
  {
   "cell_type": "code",
   "execution_count": 23,
   "metadata": {
    "ExecuteTime": {
     "end_time": "2019-10-11T01:05:17.571547Z",
     "start_time": "2019-10-11T01:05:17.558476Z"
    }
   },
   "outputs": [
    {
     "name": "stdout",
     "output_type": "stream",
     "text": [
      "method 1:\n",
      "one column:\n",
      "a    1\n",
      "b    4\n",
      "Name: one, dtype: int64\n",
      "method 2:\n",
      "one column:\n",
      "a    1\n",
      "b    4\n",
      "Name: one, dtype: int64\n"
     ]
    }
   ],
   "source": [
    "print(\"method 1:\") \n",
    "print(\"one column:\\n%s\" % mydataframe['one']) \n",
    "print(\"method 2:\") \n",
    "print(\"one column:\\n%s\" % mydataframe.one)"
   ]
  },
  {
   "cell_type": "markdown",
   "metadata": {},
   "source": [
    "# How To Load Machine Learning Data"
   ]
  },
  {
   "cell_type": "code",
   "execution_count": 24,
   "metadata": {
    "ExecuteTime": {
     "end_time": "2019-10-11T01:05:17.595771Z",
     "start_time": "2019-10-11T01:05:17.576934Z"
    }
   },
   "outputs": [
    {
     "name": "stdout",
     "output_type": "stream",
     "text": [
      "(768, 9)\n"
     ]
    }
   ],
   "source": [
    "# Load CSV Using Python Standard Library \n",
    "import csv \n",
    "import numpy \n",
    "filename = 'pima-indians-diabetes.data.csv' \n",
    "raw_data = open(filename, 'rt' ) \n",
    "reader = csv.reader(raw_data, delimiter=',' , quoting=csv.QUOTE_NONE) \n",
    "x = list(reader) \n",
    "data = numpy.array(x).astype('float' ) \n",
    "print(data.shape)"
   ]
  },
  {
   "cell_type": "code",
   "execution_count": 25,
   "metadata": {
    "ExecuteTime": {
     "end_time": "2019-10-11T01:05:17.627469Z",
     "start_time": "2019-10-11T01:05:17.600372Z"
    }
   },
   "outputs": [
    {
     "name": "stdout",
     "output_type": "stream",
     "text": [
      "(768, 9)\n"
     ]
    }
   ],
   "source": [
    "# Load CSV using NumPy \n",
    "from numpy import loadtxt \n",
    "filename = 'pima-indians-diabetes.data.csv' \n",
    "raw_data = open(filename, 'rt' ) \n",
    "data = loadtxt(raw_data, delimiter=\",\") \n",
    "print(data.shape)"
   ]
  },
  {
   "cell_type": "code",
   "execution_count": 26,
   "metadata": {
    "ExecuteTime": {
     "end_time": "2019-10-11T01:05:24.595213Z",
     "start_time": "2019-10-11T01:05:17.630561Z"
    }
   },
   "outputs": [
    {
     "name": "stdout",
     "output_type": "stream",
     "text": [
      "(768, 9)\n"
     ]
    }
   ],
   "source": [
    "# Load CSV from URL using NumPy \n",
    "from numpy import loadtxt \n",
    "from urllib.request import urlopen \n",
    "url = 'https://goo.gl/bDdBiA' \n",
    "raw_data = urlopen(url) \n",
    "dataset = loadtxt(raw_data, delimiter=\",\") \n",
    "print(dataset.shape)"
   ]
  },
  {
   "cell_type": "code",
   "execution_count": 27,
   "metadata": {
    "ExecuteTime": {
     "end_time": "2019-10-11T01:05:24.615313Z",
     "start_time": "2019-10-11T01:05:24.598648Z"
    }
   },
   "outputs": [
    {
     "name": "stdout",
     "output_type": "stream",
     "text": [
      "(768, 9)\n"
     ]
    }
   ],
   "source": [
    "# Load CSV using Pandas \n",
    "from urllib.request import urlopen\n",
    "from pandas import read_csv \n",
    "filename = 'pima-indians-diabetes.data.csv' \n",
    "names = ['preg' , 'plas' , 'pres' , 'skin' , 'test' , 'mass' , 'pedi' , 'age' , 'class'] \n",
    "data = read_csv(filename, names=names) \n",
    "print(data.shape)"
   ]
  },
  {
   "cell_type": "code",
   "execution_count": 28,
   "metadata": {
    "ExecuteTime": {
     "end_time": "2019-10-11T01:05:26.584867Z",
     "start_time": "2019-10-11T01:05:24.624985Z"
    }
   },
   "outputs": [
    {
     "name": "stdout",
     "output_type": "stream",
     "text": [
      "(768, 9)\n"
     ]
    }
   ],
   "source": [
    "# Load CSV using Pandas from URL \n",
    "from pandas import read_csv \n",
    "url = 'https://goo.gl/bDdBiA' \n",
    "names = ['preg' , 'plas' , 'pres' , 'skin' , 'test' , 'mass' , 'pedi' , 'age' , 'class'] \n",
    "data = read_csv(url, names=names) \n",
    "print(data.shape)"
   ]
  },
  {
   "cell_type": "markdown",
   "metadata": {},
   "source": [
    "# Understand Your Data With Descriptive Statistics"
   ]
  },
  {
   "cell_type": "code",
   "execution_count": 29,
   "metadata": {
    "ExecuteTime": {
     "end_time": "2019-10-11T01:05:26.614998Z",
     "start_time": "2019-10-11T01:05:26.588609Z"
    }
   },
   "outputs": [
    {
     "name": "stdout",
     "output_type": "stream",
     "text": [
      "    preg  plas  pres  skin  test  mass   pedi  age  class\n",
      "0      6   148    72    35     0  33.6  0.627   50      1\n",
      "1      1    85    66    29     0  26.6  0.351   31      0\n",
      "2      8   183    64     0     0  23.3  0.672   32      1\n",
      "3      1    89    66    23    94  28.1  0.167   21      0\n",
      "4      0   137    40    35   168  43.1  2.288   33      1\n",
      "5      5   116    74     0     0  25.6  0.201   30      0\n",
      "6      3    78    50    32    88  31.0  0.248   26      1\n",
      "7     10   115     0     0     0  35.3  0.134   29      0\n",
      "8      2   197    70    45   543  30.5  0.158   53      1\n",
      "9      8   125    96     0     0   0.0  0.232   54      1\n",
      "10     4   110    92     0     0  37.6  0.191   30      0\n",
      "11    10   168    74     0     0  38.0  0.537   34      1\n",
      "12    10   139    80     0     0  27.1  1.441   57      0\n",
      "13     1   189    60    23   846  30.1  0.398   59      1\n",
      "14     5   166    72    19   175  25.8  0.587   51      1\n",
      "15     7   100     0     0     0  30.0  0.484   32      1\n",
      "16     0   118    84    47   230  45.8  0.551   31      1\n",
      "17     7   107    74     0     0  29.6  0.254   31      1\n",
      "18     1   103    30    38    83  43.3  0.183   33      0\n",
      "19     1   115    70    30    96  34.6  0.529   32      1\n"
     ]
    }
   ],
   "source": [
    "# View first 20 rows \n",
    "from pandas import read_csv \n",
    "filename = \"pima-indians-diabetes.data.csv\" \n",
    "names = ['preg' , 'plas' , 'pres' , 'skin' , 'test' , 'mass' , 'pedi' , 'age' , 'class'] \n",
    "data = read_csv(filename, names=names) \n",
    "peek = data.head(20)\n",
    "print(peek)"
   ]
  },
  {
   "cell_type": "code",
   "execution_count": 30,
   "metadata": {
    "ExecuteTime": {
     "end_time": "2019-10-11T01:05:26.633488Z",
     "start_time": "2019-10-11T01:05:26.619363Z"
    }
   },
   "outputs": [
    {
     "name": "stdout",
     "output_type": "stream",
     "text": [
      "(768, 9)\n"
     ]
    }
   ],
   "source": [
    "# Dimensions of your data \n",
    "from pandas import read_csv \n",
    "filename = \"pima-indians-diabetes.data.csv\" \n",
    "names = ['preg' , 'plas' , 'pres' , 'skin' , 'test' , 'mass' , 'pedi' , 'age' , 'class' ] \n",
    "data = read_csv(filename, names=names) \n",
    "shape = data.shape \n",
    "print(shape)"
   ]
  },
  {
   "cell_type": "code",
   "execution_count": 31,
   "metadata": {
    "ExecuteTime": {
     "end_time": "2019-10-11T01:05:26.654322Z",
     "start_time": "2019-10-11T01:05:26.638019Z"
    }
   },
   "outputs": [
    {
     "name": "stdout",
     "output_type": "stream",
     "text": [
      "preg       int64\n",
      "plas       int64\n",
      "pres       int64\n",
      "skin       int64\n",
      "test       int64\n",
      "mass     float64\n",
      "pedi     float64\n",
      "age        int64\n",
      "class      int64\n",
      "dtype: object\n"
     ]
    }
   ],
   "source": [
    "# Data Types for Each Attribute \n",
    "from pandas import read_csv \n",
    "filename = \"pima-indians-diabetes.data.csv\" \n",
    "names = ['preg' , 'plas' , 'pres' , 'skin' , 'test' , 'mass' , 'pedi' , 'age' , 'class' ] \n",
    "data = read_csv(filename, names=names) \n",
    "types = data.dtypes \n",
    "print(types)"
   ]
  },
  {
   "cell_type": "markdown",
   "metadata": {},
   "source": [
    "## Gaussian and summary statistics\n",
    "\n",
    "- The Gaussian distribution describes many observations, including many observations seen during applied machine learning.\n",
    "- The central tendency of a distribution is the most likely observation and can be estimated from a sample of data as the mean or median.\n",
    "- The variance is the average deviation from the mean in a distribution and can be estimated from a sample of data as the variance and standard deviation."
   ]
  },
  {
   "cell_type": "markdown",
   "metadata": {},
   "source": [
    "## Mean\n",
    "\n",
    "- The mean of a sample is calculated as the sum of the observations divided by the total number of observations in the sample.\n",
    "\n",
    "![](images/mean.png)"
   ]
  },
  {
   "cell_type": "markdown",
   "metadata": {},
   "source": [
    "## Variance\n",
    "\n",
    "- The variance of a distribution refers to how much on average that observations vary or differ from the mean value. \n",
    "- It is useful to think of the variance as a measure of the spread of a distribution. \n",
    "- A low variance will have values grouped around the mean (e.g. a narrow bell shape), whereas a high variance will have values spread out from the mean (e.g. a wide bell shape.)\n",
    "\n",
    "![](images/variance.png)"
   ]
  },
  {
   "cell_type": "markdown",
   "metadata": {},
   "source": [
    "## Standard deviation\n",
    "\n",
    "- It is hard to interpret the variance because the units are the squared units of the observations.\n",
    "- We can return the units to the original units of the observations by taking the square root of the result. - - Often, when the spread of a Gaussian distribution is summarized, it is described using the square root of the variance. This is called the standard deviation. \n",
    "- The standard deviation, along with the mean, are the two key parameters required to specify any Gaussian distribution.\n",
    "\n",
    "![](images/std.png)"
   ]
  },
  {
   "cell_type": "code",
   "execution_count": 32,
   "metadata": {
    "ExecuteTime": {
     "end_time": "2019-10-11T01:05:26.751331Z",
     "start_time": "2019-10-11T01:05:26.658176Z"
    }
   },
   "outputs": [
    {
     "name": "stdout",
     "output_type": "stream",
     "text": [
      "          preg     plas     pres     skin     test     mass     pedi      age    class\n",
      "count  768.000  768.000  768.000  768.000  768.000  768.000  768.000  768.000  768.000\n",
      "mean     3.845  120.895   69.105   20.536   79.799   31.993    0.472   33.241    0.349\n",
      "std      3.370   31.973   19.356   15.952  115.244    7.884    0.331   11.760    0.477\n",
      "min      0.000    0.000    0.000    0.000    0.000    0.000    0.078   21.000    0.000\n",
      "25%      1.000   99.000   62.000    0.000    0.000   27.300    0.244   24.000    0.000\n",
      "50%      3.000  117.000   72.000   23.000   30.500   32.000    0.372   29.000    0.000\n",
      "75%      6.000  140.250   80.000   32.000  127.250   36.600    0.626   41.000    1.000\n",
      "max     17.000  199.000  122.000   99.000  846.000   67.100    2.420   81.000    1.000\n"
     ]
    }
   ],
   "source": [
    "# Statistical Summary \n",
    "from pandas import read_csv \n",
    "from pandas import set_option \n",
    "filename = \"pima-indians-diabetes.data.csv\" \n",
    "names = ['preg' , 'plas' , 'pres' , 'skin' , 'test' , 'mass' , 'pedi' , 'age' , 'class'] \n",
    "data = read_csv(filename, names=names) \n",
    "set_option('display.width', 100) \n",
    "set_option('precision', 3) \n",
    "description = data.describe() \n",
    "print(description)"
   ]
  },
  {
   "cell_type": "markdown",
   "metadata": {},
   "source": [
    "## Probability\n",
    "\n",
    "- Probability is a measure that quantifies the likelihood that an event will occur. \n",
    "- The probability of an event can be calculated directly by counting all of the occurrences of the event, dividing them by the total possible outcomes of the event.\n",
    "\n",
    "![](images/probability.png)"
   ]
  },
  {
   "cell_type": "markdown",
   "metadata": {},
   "source": [
    "## Joint probability, marginal probability, and conditional probability\n",
    "\n",
    "- Joint probability is the probability of two or more events occurring simultaneously.\n",
    "- Marginal probability is the probability of an event irrespective of the outcome of other variables.\n",
    "- Conditional probability is the probability of one event occurring in the presence of one or more other events."
   ]
  },
  {
   "cell_type": "code",
   "execution_count": 33,
   "metadata": {
    "ExecuteTime": {
     "end_time": "2019-10-11T01:05:26.775876Z",
     "start_time": "2019-10-11T01:05:26.756396Z"
    }
   },
   "outputs": [
    {
     "name": "stdout",
     "output_type": "stream",
     "text": [
      "class\n",
      "0    500\n",
      "1    268\n",
      "dtype: int64\n"
     ]
    }
   ],
   "source": [
    "# Class Distribution\n",
    "from pandas import read_csv \n",
    "filename = \"pima-indians-diabetes.data.csv\" \n",
    "names = ['preg' , 'plas' , 'pres' , 'skin' , 'test' , 'mass' , 'pedi' , 'age' , 'class'] \n",
    "data = read_csv(filename, names=names)\n",
    "class_counts = data.groupby('class').size() \n",
    "print(class_counts)"
   ]
  },
  {
   "cell_type": "markdown",
   "metadata": {},
   "source": [
    "## Covariance\n",
    "\n",
    "- In probability, covariance is the measure of the joint probability for two random variables. It describes how the two variables change together. \n",
    "- It is denoted as the function cov(X, Y), where X and Y are the two random variables being considered.\n",
    "\n",
    "![](images/covariance_sample.png)"
   ]
  },
  {
   "cell_type": "markdown",
   "metadata": {},
   "source": [
    "## Pearson's correlation coefficient\n",
    "\n",
    "- The covariance can be normalized to a score between -1 and 1 to make the magnitude interpretable by dividing it by the standard deviation of X and Y. \n",
    "- The result is called the correlation of the variables, also called the Pearson’s correlation coefficient, named for the developer of the method.\n",
    "\n",
    "![](images/pearson.png)"
   ]
  },
  {
   "cell_type": "code",
   "execution_count": 34,
   "metadata": {
    "ExecuteTime": {
     "end_time": "2019-10-11T01:05:26.810859Z",
     "start_time": "2019-10-11T01:05:26.779241Z"
    }
   },
   "outputs": [
    {
     "name": "stdout",
     "output_type": "stream",
     "text": [
      "        preg   plas   pres   skin   test   mass   pedi    age  class\n",
      "preg   1.000  0.129  0.141 -0.082 -0.074  0.018 -0.034  0.544  0.222\n",
      "plas   0.129  1.000  0.153  0.057  0.331  0.221  0.137  0.264  0.467\n",
      "pres   0.141  0.153  1.000  0.207  0.089  0.282  0.041  0.240  0.065\n",
      "skin  -0.082  0.057  0.207  1.000  0.437  0.393  0.184 -0.114  0.075\n",
      "test  -0.074  0.331  0.089  0.437  1.000  0.198  0.185 -0.042  0.131\n",
      "mass   0.018  0.221  0.282  0.393  0.198  1.000  0.141  0.036  0.293\n",
      "pedi  -0.034  0.137  0.041  0.184  0.185  0.141  1.000  0.034  0.174\n",
      "age    0.544  0.264  0.240 -0.114 -0.042  0.036  0.034  1.000  0.238\n",
      "class  0.222  0.467  0.065  0.075  0.131  0.293  0.174  0.238  1.000\n"
     ]
    }
   ],
   "source": [
    "# Pairwise Pearson correlations \n",
    "from pandas import read_csv \n",
    "from pandas import set_option \n",
    "filename = \"pima-indians-diabetes.data.csv\" \n",
    "names = ['preg' , 'plas' , 'pres' , 'skin' , 'test' , 'mass' , 'pedi' , 'age' , 'class'] \n",
    "data = read_csv(filename, names=names) \n",
    "set_option('display.width', 100) \n",
    "set_option('precision', 3) \n",
    "correlations = data.corr(method='pearson' ) \n",
    "print(correlations)"
   ]
  },
  {
   "cell_type": "code",
   "execution_count": 35,
   "metadata": {
    "ExecuteTime": {
     "end_time": "2019-10-11T01:05:26.831661Z",
     "start_time": "2019-10-11T01:05:26.814657Z"
    }
   },
   "outputs": [
    {
     "name": "stdout",
     "output_type": "stream",
     "text": [
      "preg     0.902\n",
      "plas     0.174\n",
      "pres    -1.844\n",
      "skin     0.109\n",
      "test     2.272\n",
      "mass    -0.429\n",
      "pedi     1.920\n",
      "age      1.130\n",
      "class    0.635\n",
      "dtype: float64\n"
     ]
    }
   ],
   "source": [
    "# Skew for each attribute \n",
    "from pandas import read_csv \n",
    "filename = \"pima-indians-diabetes.data.csv\" \n",
    "names = ['preg' , 'plas' , 'pres' , 'skin' , 'test' , 'mass' , 'pedi' , 'age' , 'class'] \n",
    "data = read_csv(filename, names=names) \n",
    "skew = data.skew() \n",
    "print(skew)"
   ]
  },
  {
   "cell_type": "markdown",
   "metadata": {},
   "source": [
    "## Hypothesis testing\n",
    "\n",
    "- A test that assumes that data has a normal distribution.\n",
    "- A test that assumes that two samples were drawn from the same underlying population distribution.\n",
    "\n",
    "Steps (intuition):\n",
    "0. Default action\n",
    "1. Null hypothesis\n",
    "2. Create model\n",
    "3. Do calculation\n",
    "4. Decide (reject or do not reject?)"
   ]
  },
  {
   "cell_type": "code",
   "execution_count": 36,
   "metadata": {
    "ExecuteTime": {
     "end_time": "2019-10-11T01:05:27.313252Z",
     "start_time": "2019-10-11T01:05:26.835402Z"
    }
   },
   "outputs": [
    {
     "name": "stdout",
     "output_type": "stream",
     "text": [
      "The Pearson correlation coefficient is 0.12945867149927248 with a p-value of 0.00032194913520398817\n"
     ]
    }
   ],
   "source": [
    "# Hypothesis testing using Pearson\n",
    "from matplotlib import pyplot \n",
    "from pandas import read_csv \n",
    "import numpy \n",
    "from scipy import stats\n",
    "\n",
    "filename = 'pima-indians-diabetes.data.csv' \n",
    "names = ['preg' , 'plas' , 'pres' , 'skin' , 'test' , 'mass' , 'pedi' , 'age' , 'class'] \n",
    "data = read_csv(filename, names=names) \n",
    "\n",
    "# Compute p-value\n",
    "pearson_coef, p_value = stats.pearsonr(data['preg'], data['plas'])\n",
    "print(\"The Pearson correlation coefficient is\", pearson_coef, \"with a p-value of\", p_value)  "
   ]
  },
  {
   "cell_type": "code",
   "execution_count": 37,
   "metadata": {
    "ExecuteTime": {
     "end_time": "2019-10-11T01:05:27.342079Z",
     "start_time": "2019-10-11T01:05:27.315450Z"
    }
   },
   "outputs": [
    {
     "name": "stdout",
     "output_type": "stream",
     "text": [
      "The t-value is -6.792688071649956 with a p-value of 2.2099754606654358e-11\n"
     ]
    }
   ],
   "source": [
    "# Hypothesis testing using t-test independent samples (for 2 groups only)\n",
    "from matplotlib import pyplot \n",
    "from pandas import read_csv \n",
    "import numpy \n",
    "from scipy import stats\n",
    "\n",
    "filename = 'pima-indians-diabetes.data.csv' \n",
    "names = ['preg' , 'plas' , 'pres' , 'skin' , 'test' , 'mass' , 'pedi' , 'age' , 'class'] \n",
    "data = read_csv(filename, names=names) \n",
    "\n",
    "# Group the data\n",
    "grouped_data = data[['class', 'age']].groupby(['class'])\n",
    "\n",
    "# Find p-value\n",
    "t_value, p_value = stats.ttest_ind(grouped_data.get_group(0)['age'], grouped_data.get_group(1)['age'])  \n",
    "print(\"The t-value is\", t_value, \"with a p-value of\", p_value)  "
   ]
  },
  {
   "cell_type": "code",
   "execution_count": 38,
   "metadata": {
    "ExecuteTime": {
     "end_time": "2019-10-11T01:05:27.379774Z",
     "start_time": "2019-10-11T01:05:27.347409Z"
    }
   },
   "outputs": [
    {
     "name": "stdout",
     "output_type": "stream",
     "text": [
      "The f-value is 46.14061123873557 with a p-value of 2.2099754606650332e-11\n"
     ]
    }
   ],
   "source": [
    "# Hypothesis testing using ANOVA (note: for more than 2 groups)\n",
    "from matplotlib import pyplot \n",
    "from pandas import read_csv \n",
    "import numpy \n",
    "from scipy import stats\n",
    "\n",
    "filename = 'pima-indians-diabetes.data.csv' \n",
    "names = ['preg' , 'plas' , 'pres' , 'skin' , 'test' , 'mass' , 'pedi' , 'age' , 'class'] \n",
    "data = read_csv(filename, names=names) \n",
    "\n",
    "# Group the data\n",
    "grouped_data = data[['class', 'age']].groupby(['class'])\n",
    "\n",
    "# Find p-value\n",
    "f_value, p_value = stats.f_oneway(grouped_data.get_group(0)['age'], grouped_data.get_group(1)['age'])  \n",
    "print(\"The f-value is\", f_value, \"with a p-value of\", p_value)  "
   ]
  },
  {
   "cell_type": "code",
   "execution_count": 39,
   "metadata": {
    "ExecuteTime": {
     "end_time": "2019-10-11T01:05:27.663933Z",
     "start_time": "2019-10-11T01:05:27.385366Z"
    }
   },
   "outputs": [
    {
     "name": "stdout",
     "output_type": "stream",
     "text": [
      "The chi-square value is 0.3376924345573169 with a p-value of 0.5611642304634235\n"
     ]
    }
   ],
   "source": [
    "# Hypothesis testing using chi-square test (Note: code is not good)\n",
    "from matplotlib import pyplot \n",
    "from pandas import read_csv \n",
    "import numpy \n",
    "from scipy import stats\n",
    "from sklearn.preprocessing import Binarizer \n",
    "\n",
    "filename = 'pima-indians-diabetes.data.csv' \n",
    "names = ['preg' , 'plas' , 'pres' , 'skin' , 'test' , 'mass' , 'pedi' , 'age' , 'class'] \n",
    "data = read_csv(filename, names=names) \n",
    "array = data.values\n",
    "# data\n",
    "\n",
    "# separate array into input and output components \n",
    "X = array[:,0:8] \n",
    "Y = array[:,8] \n",
    "binarizer = Binarizer(threshold=0.0).fit(X) \n",
    "binary_data = binarizer.transform(X) \n",
    "binary_data = pandas.DataFrame(binary_data, columns=names[:-1])\n",
    "binary_data['class'] = data['class']\n",
    "# binary_data\n",
    "\n",
    "# Group the data\n",
    "grouped_data = binary_data[['class', 'age', 'test']].groupby(['class']).sum()\n",
    "# grouped_data.values\n",
    "\n",
    "# Find p-value\n",
    "x_value, p_value, _, _ = stats.chi2_contingency(grouped_data.values)  \n",
    "print(\"The chi-square value is\", x_value, \"with a p-value of\", p_value)  "
   ]
  },
  {
   "cell_type": "markdown",
   "metadata": {},
   "source": [
    "# Understand Your Data With Visualization"
   ]
  },
  {
   "cell_type": "markdown",
   "metadata": {},
   "source": [
    "## Important charts\n",
    "\n",
    "- Line Plot\n",
    "- Bar Chart\n",
    "- Histogram Plot \n",
    "- Box and Whisker Plot \n",
    "- Scatter Plot"
   ]
  },
  {
   "cell_type": "code",
   "execution_count": 40,
   "metadata": {
    "ExecuteTime": {
     "end_time": "2019-10-11T01:05:29.965320Z",
     "start_time": "2019-10-11T01:05:27.667599Z"
    },
    "scrolled": true
   },
   "outputs": [
    {
     "data": {
      "image/png": "[encoded data removed]",
      "text/plain": [
       "<Figure size 432x288 with 9 Axes>"
      ]
     },
     "metadata": {
      "needs_background": "light"
     },
     "output_type": "display_data"
    }
   ],
   "source": [
    "# Univariate Histograms \n",
    "from matplotlib import pyplot \n",
    "from pandas import read_csv \n",
    "filename = 'pima-indians-diabetes.data.csv' \n",
    "names = ['preg' , 'plas' , 'pres' , 'skin' , 'test' , 'mass' , 'pedi' , 'age' , 'class'] \n",
    "data = read_csv(filename, names=names) \n",
    "data.hist() \n",
    "pyplot.tight_layout()\n",
    "pyplot.show()"
   ]
  },
  {
   "cell_type": "code",
   "execution_count": 41,
   "metadata": {
    "ExecuteTime": {
     "end_time": "2019-10-11T01:05:32.870292Z",
     "start_time": "2019-10-11T01:05:29.970498Z"
    }
   },
   "outputs": [
    {
     "data": {
      "image/png": "[encoded data removed]",
      "text/plain": [
       "<Figure size 432x288 with 9 Axes>"
      ]
     },
     "metadata": {
      "needs_background": "light"
     },
     "output_type": "display_data"
    }
   ],
   "source": [
    "# Univariate Density Plots \n",
    "from matplotlib import pyplot \n",
    "from pandas import read_csv \n",
    "filename = 'pima-indians-diabetes.data.csv' \n",
    "names = ['preg' , 'plas' , 'pres' , 'skin' , 'test' , 'mass' , 'pedi' , 'age' , 'class'] \n",
    "data = read_csv(filename, names=names) \n",
    "data.plot(kind='density' , subplots=True, layout=(3,3), sharex=False) \n",
    "pyplot.tight_layout()\n",
    "pyplot.show()"
   ]
  },
  {
   "cell_type": "code",
   "execution_count": 42,
   "metadata": {
    "ExecuteTime": {
     "end_time": "2019-10-11T01:05:34.537875Z",
     "start_time": "2019-10-11T01:05:32.874798Z"
    }
   },
   "outputs": [
    {
     "data": {
      "image/png": "[encoded data removed]",
      "text/plain": [
       "<Figure size 432x288 with 9 Axes>"
      ]
     },
     "metadata": {
      "needs_background": "light"
     },
     "output_type": "display_data"
    }
   ],
   "source": [
    "# Box and Whisker Plots \n",
    "from matplotlib import pyplot \n",
    "from pandas import read_csv \n",
    "filename = \"pima-indians-diabetes.data.csv\" \n",
    "names = ['preg' , 'plas' , 'pres' , 'skin' , 'test' , 'mass' , 'pedi' , 'age' , 'class'] \n",
    "data = read_csv(filename, names=names) \n",
    "data.plot(kind='box' , subplots=True, layout=(3,3), sharex=False, sharey=False) \n",
    "pyplot.tight_layout()\n",
    "pyplot.show()"
   ]
  },
  {
   "cell_type": "code",
   "execution_count": 43,
   "metadata": {
    "ExecuteTime": {
     "end_time": "2019-10-11T01:05:35.005327Z",
     "start_time": "2019-10-11T01:05:34.545381Z"
    }
   },
   "outputs": [
    {
     "data": {
      "image/png": "[encoded data removed]",
      "text/plain": [
       "<Figure size 432x288 with 2 Axes>"
      ]
     },
     "metadata": {
      "needs_background": "light"
     },
     "output_type": "display_data"
    }
   ],
   "source": [
    "# Correlation Matrix Plot \n",
    "from matplotlib import pyplot \n",
    "from pandas import read_csv \n",
    "import numpy \n",
    "filename = 'pima-indians-diabetes.data.csv' \n",
    "names = ['preg' , 'plas' , 'pres' , 'skin' , 'test' , 'mass' , 'pedi' , 'age' , 'class'] \n",
    "data = read_csv(filename, names=names) \n",
    "correlations = data.corr() \n",
    "\n",
    "# plot correlation matrix \n",
    "fig = pyplot.figure() \n",
    "ax = fig.add_subplot(111) \n",
    "cax = ax.matshow(correlations, vmin=-1, vmax=1) \n",
    "fig.colorbar(cax) \n",
    "ticks = numpy.arange(0,9,1) \n",
    "ax.set_xticks(ticks) \n",
    "ax.set_yticks(ticks) \n",
    "ax.set_xticklabels(names) \n",
    "ax.set_yticklabels(names) \n",
    "pyplot.show()"
   ]
  },
  {
   "cell_type": "code",
   "execution_count": 44,
   "metadata": {
    "ExecuteTime": {
     "end_time": "2019-10-11T01:05:45.497562Z",
     "start_time": "2019-10-11T01:05:35.015194Z"
    }
   },
   "outputs": [
    {
     "data": {
      "image/png": "[encoded data removed]",
      "text/plain": [
       "<Figure size 432x288 with 81 Axes>"
      ]
     },
     "metadata": {
      "needs_background": "light"
     },
     "output_type": "display_data"
    }
   ],
   "source": [
    "# Scatterplot Matrix \n",
    "from matplotlib import pyplot \n",
    "from pandas import read_csv \n",
    "from pandas.plotting import scatter_matrix \n",
    "filename = \"pima-indians-diabetes.data.csv\" \n",
    "names = ['preg' , 'plas' , 'pres' , 'skin' , 'test' , 'mass' , 'pedi' , 'age' , 'class'] \n",
    "data = read_csv(filename, names=names) \n",
    "scatter_matrix(data) \n",
    "pyplot.show()"
   ]
  },
  {
   "cell_type": "markdown",
   "metadata": {},
   "source": [
    "# Prepare Your Data For Machine Learning"
   ]
  },
  {
   "cell_type": "markdown",
   "metadata": {},
   "source": [
    "## Rescaling\n",
    "\n",
    "- When your data is comprised of attributes with varying scales, many machine learning algorithms can benefit from rescaling the attributes to all have the same scale. \n",
    "- Often this is referred to as normalization and attributes are often rescaled into the range between 0 and 1. \n",
    "- This is useful for optimization algorithms used in the core of machine learning algorithms like gradient descent. \n",
    "- It is also useful for algorithms that weight inputs like regression and neural networks and algorithms that use distance measures like k-Nearest Neighbors.\n",
    "\n",
    "![](images/scaled_value.png)"
   ]
  },
  {
   "cell_type": "code",
   "execution_count": 45,
   "metadata": {
    "ExecuteTime": {
     "end_time": "2019-10-11T01:05:45.524463Z",
     "start_time": "2019-10-11T01:05:45.500298Z"
    }
   },
   "outputs": [
    {
     "name": "stdout",
     "output_type": "stream",
     "text": [
      "[[0.353 0.744 0.59  0.354 0.    0.501 0.234 0.483]\n",
      " [0.059 0.427 0.541 0.293 0.    0.396 0.117 0.167]\n",
      " [0.471 0.92  0.525 0.    0.    0.347 0.254 0.183]\n",
      " [0.059 0.447 0.541 0.232 0.111 0.419 0.038 0.   ]\n",
      " [0.    0.688 0.328 0.354 0.199 0.642 0.944 0.2  ]]\n"
     ]
    }
   ],
   "source": [
    "# Rescale data (between 0 and 1) \n",
    "from pandas import read_csv \n",
    "from numpy import set_printoptions \n",
    "from sklearn.preprocessing import MinMaxScaler \n",
    "filename = 'pima-indians-diabetes.data.csv' \n",
    "names = ['preg' , 'plas' , 'pres' , 'skin' , 'test' , 'mass' , 'pedi' , 'age' , 'class'] \n",
    "dataframe = read_csv(filename, names=names) \n",
    "array = dataframe.values \n",
    "\n",
    "# separate array into input and output components \n",
    "X = array[:,0:8] \n",
    "Y = array[:,8] \n",
    "scaler = MinMaxScaler(feature_range=(0, 1)) \n",
    "rescaledX = scaler.fit_transform(X) \n",
    "\n",
    "# summarize transformed data \n",
    "set_printoptions(precision=3)\n",
    "print(rescaledX[0:5,:])"
   ]
  },
  {
   "cell_type": "markdown",
   "metadata": {},
   "source": [
    "## Standardization\n",
    "\n",
    "- Standardization is a useful technique to transform attributes with a Gaussian distribution and differing means and standard deviations to a standard Gaussian distribution with a mean of 0 and a standard deviation of 1. \n",
    "- It is most suitable for techniques that assume a Gaussian distribution in the input variables and work better with rescaled data, such as linear regression, logistic regression and linear discriminate analysis.\n",
    "\n",
    "![](images/standard_mean.png)\n",
    "\n",
    "![](images/standard_dev.png)\n",
    "\n",
    "![](images/standardized_value.png)"
   ]
  },
  {
   "cell_type": "code",
   "execution_count": 46,
   "metadata": {
    "ExecuteTime": {
     "end_time": "2019-10-11T01:05:45.550230Z",
     "start_time": "2019-10-11T01:05:45.529999Z"
    }
   },
   "outputs": [
    {
     "name": "stdout",
     "output_type": "stream",
     "text": [
      "[[ 0.64   0.848  0.15   0.907 -0.693  0.204  0.468  1.426]\n",
      " [-0.845 -1.123 -0.161  0.531 -0.693 -0.684 -0.365 -0.191]\n",
      " [ 1.234  1.944 -0.264 -1.288 -0.693 -1.103  0.604 -0.106]\n",
      " [-0.845 -0.998 -0.161  0.155  0.123 -0.494 -0.921 -1.042]\n",
      " [-1.142  0.504 -1.505  0.907  0.766  1.41   5.485 -0.02 ]]\n"
     ]
    }
   ],
   "source": [
    "# Standardize data (0 mean, 1 stdev) \n",
    "from sklearn.preprocessing import StandardScaler \n",
    "from pandas import read_csv \n",
    "from numpy import set_printoptions \n",
    "filename = 'pima-indians-diabetes.data.csv' \n",
    "names = ['preg' , 'plas' , 'pres' , 'skin' , 'test' , 'mass' , 'pedi' , 'age' , 'class'] \n",
    "dataframe = read_csv(filename, names=names) \n",
    "array = dataframe.values \n",
    "\n",
    "# separate array into input and output components \n",
    "X = array[:,0:8] \n",
    "Y = array[:,8] \n",
    "scaler = StandardScaler().fit(X) \n",
    "rescaledX = scaler.transform(X) \n",
    "\n",
    "# summarize transformed data \n",
    "set_printoptions(precision=3) \n",
    "print(rescaledX[0:5,:])"
   ]
  },
  {
   "cell_type": "markdown",
   "metadata": {},
   "source": [
    "## Normalization\n",
    "\n",
    "- Normalizing in scikit-learn refers to rescaling each observation (row) to have a length of 1 (called a unit norm or a vector with the length of 1 in linear algebra). \n",
    "- This pre-processing method can be useful for sparse datasets (lots of zeros) with attributes of varying scales when using algorithms that weight input values such as neural networks and algorithms that use distance measures such as k-Nearest Neighbors."
   ]
  },
  {
   "cell_type": "code",
   "execution_count": 47,
   "metadata": {
    "ExecuteTime": {
     "end_time": "2019-10-11T01:05:45.571292Z",
     "start_time": "2019-10-11T01:05:45.553763Z"
    }
   },
   "outputs": [
    {
     "name": "stdout",
     "output_type": "stream",
     "text": [
      "[[0.034 0.828 0.403 0.196 0.    0.188 0.004 0.28 ]\n",
      " [0.008 0.716 0.556 0.244 0.    0.224 0.003 0.261]\n",
      " [0.04  0.924 0.323 0.    0.    0.118 0.003 0.162]\n",
      " [0.007 0.588 0.436 0.152 0.622 0.186 0.001 0.139]\n",
      " [0.    0.596 0.174 0.152 0.731 0.188 0.01  0.144]]\n"
     ]
    }
   ],
   "source": [
    "# Normalize data (length of 1) \n",
    "from sklearn.preprocessing import Normalizer \n",
    "from pandas import read_csv \n",
    "from numpy import set_printoptions \n",
    "filename = 'pima-indians-diabetes.data.csv' \n",
    "names = ['preg' , 'plas' , 'pres' , 'skin' , 'test' , 'mass' , 'pedi' , 'age' , 'class'] \n",
    "dataframe = read_csv(filename, names=names) \n",
    "array = dataframe.values \n",
    "\n",
    "# separate array into input and output components \n",
    "X = array[:,0:8] \n",
    "Y = array[:,8] \n",
    "scaler = Normalizer().fit(X) \n",
    "normalizedX = scaler.transform(X) \n",
    "\n",
    "# summarize transformed data \n",
    "set_printoptions(precision=3) \n",
    "print(normalizedX[0:5,:])"
   ]
  },
  {
   "cell_type": "markdown",
   "metadata": {},
   "source": [
    "## Binarization\n",
    "\n",
    "- You can transform your data using a binary threshold. \n",
    "- All values above the threshold are marked 1 and all equal to or below are marked as 0. \n",
    "- This is called binarizing your data or thresholding your data. \n",
    "- It can be useful when you have probabilities that you want to make into crisp values. \n",
    "- It is also useful when feature engineering and you want to add new features that indicate something meaningful."
   ]
  },
  {
   "cell_type": "code",
   "execution_count": 48,
   "metadata": {
    "ExecuteTime": {
     "end_time": "2019-10-11T01:05:45.592598Z",
     "start_time": "2019-10-11T01:05:45.575069Z"
    }
   },
   "outputs": [
    {
     "name": "stdout",
     "output_type": "stream",
     "text": [
      "[[1. 1. 1. 1. 0. 1. 1. 1.]\n",
      " [1. 1. 1. 1. 0. 1. 1. 1.]\n",
      " [1. 1. 1. 0. 0. 1. 1. 1.]\n",
      " [1. 1. 1. 1. 1. 1. 1. 1.]\n",
      " [0. 1. 1. 1. 1. 1. 1. 1.]]\n"
     ]
    }
   ],
   "source": [
    "# binarization \n",
    "from sklearn.preprocessing import Binarizer \n",
    "from pandas import read_csv\n",
    "from numpy import set_printoptions \n",
    "filename = 'pima-indians-diabetes.data.csv' \n",
    "names = ['preg' , 'plas' , 'pres' , 'skin' , 'test' , 'mass' , 'pedi' , 'age' , 'class'] \n",
    "dataframe = read_csv(filename, names=names) \n",
    "array = dataframe.values \n",
    "\n",
    "# separate array into input and output components \n",
    "X = array[:,0:8] \n",
    "Y = array[:,8] \n",
    "binarizer = Binarizer(threshold=0.0).fit(X) \n",
    "binaryX = binarizer.transform(X) \n",
    "\n",
    "# summarize transformed data \n",
    "set_printoptions(precision=3) \n",
    "print(binaryX[0:5,:])"
   ]
  },
  {
   "cell_type": "markdown",
   "metadata": {},
   "source": [
    "# Feature Selection For Machine Learning"
   ]
  },
  {
   "cell_type": "markdown",
   "metadata": {},
   "source": [
    "## Univariate selection\n",
    "\n",
    "- The Pearson’s Chi-Squared test, or just Chi-Squared test for short, is named for Karl Pearson, although there are variations on the test. \n",
    "- The Chi-Squared test is a statistical hypothesis test that assumes (the null hypothesis) that the observed frequencies for a categorical variable match the expected frequencies for the categorical variable. \n",
    "- The test calculates a statistic that has a Chi-Squared distribution, named for the Greek lowercase letter chi (χ) pronounced “ki” as in “kite”.\n",
    "- Statistical tests can be used to select those features that have the strongest relationship with the output variable."
   ]
  },
  {
   "cell_type": "code",
   "execution_count": 49,
   "metadata": {
    "ExecuteTime": {
     "end_time": "2019-10-11T01:05:45.851138Z",
     "start_time": "2019-10-11T01:05:45.596543Z"
    }
   },
   "outputs": [
    {
     "name": "stdout",
     "output_type": "stream",
     "text": [
      "[ 111.52  1411.887   17.605   53.108 2175.565  127.669    5.393  181.304]\n",
      "[[148.    0.   33.6  50. ]\n",
      " [ 85.    0.   26.6  31. ]\n",
      " [183.    0.   23.3  32. ]\n",
      " [ 89.   94.   28.1  21. ]\n",
      " [137.  168.   43.1  33. ]]\n"
     ]
    },
    {
     "data": {
      "text/html": [
       "<div>\n",
       "<style scoped>\n",
       "    .dataframe tbody tr th:only-of-type {\n",
       "        vertical-align: middle;\n",
       "    }\n",
       "\n",
       "    .dataframe tbody tr th {\n",
       "        vertical-align: top;\n",
       "    }\n",
       "\n",
       "    .dataframe thead th {\n",
       "        text-align: right;\n",
       "    }\n",
       "</style>\n",
       "<table border=\"1\" class=\"dataframe\">\n",
       "  <thead>\n",
       "    <tr style=\"text-align: right;\">\n",
       "      <th></th>\n",
       "      <th>0</th>\n",
       "    </tr>\n",
       "  </thead>\n",
       "  <tbody>\n",
       "    <tr>\n",
       "      <th>test</th>\n",
       "      <td>2175.565</td>\n",
       "    </tr>\n",
       "    <tr>\n",
       "      <th>plas</th>\n",
       "      <td>1411.887</td>\n",
       "    </tr>\n",
       "    <tr>\n",
       "      <th>age</th>\n",
       "      <td>181.304</td>\n",
       "    </tr>\n",
       "    <tr>\n",
       "      <th>mass</th>\n",
       "      <td>127.669</td>\n",
       "    </tr>\n",
       "    <tr>\n",
       "      <th>preg</th>\n",
       "      <td>111.520</td>\n",
       "    </tr>\n",
       "    <tr>\n",
       "      <th>skin</th>\n",
       "      <td>53.108</td>\n",
       "    </tr>\n",
       "    <tr>\n",
       "      <th>pres</th>\n",
       "      <td>17.605</td>\n",
       "    </tr>\n",
       "    <tr>\n",
       "      <th>pedi</th>\n",
       "      <td>5.393</td>\n",
       "    </tr>\n",
       "  </tbody>\n",
       "</table>\n",
       "</div>"
      ],
      "text/plain": [
       "             0\n",
       "test  2175.565\n",
       "plas  1411.887\n",
       "age    181.304\n",
       "mass   127.669\n",
       "preg   111.520\n",
       "skin    53.108\n",
       "pres    17.605\n",
       "pedi     5.393"
      ]
     },
     "execution_count": 49,
     "metadata": {},
     "output_type": "execute_result"
    }
   ],
   "source": [
    "# Feature Extraction with Univariate Statistical Tests (Chi-squared for classification) \n",
    "from pandas import read_csv \n",
    "from numpy import set_printoptions \n",
    "from sklearn.feature_selection import SelectKBest \n",
    "from sklearn.feature_selection import chi2 \n",
    "\n",
    "# load data \n",
    "filename = 'pima-indians-diabetes.data.csv' \n",
    "names = ['preg' , 'plas' , 'pres' , 'skin' , 'test' , 'mass' , 'pedi' , 'age' , 'class'] \n",
    "dataframe = read_csv(filename, names=names) \n",
    "array = dataframe.values \n",
    "X = array[:,0:8] \n",
    "Y = array[:,8] \n",
    "\n",
    "# feature extraction \n",
    "test = SelectKBest(score_func=chi2, k=4) \n",
    "fit = test.fit(X, Y) \n",
    "\n",
    "# summarize scores\n",
    "set_printoptions(precision=3) \n",
    "print(fit.scores_) \n",
    "features = fit.transform(X) \n",
    "\n",
    "# summarize selected features \n",
    "print(features[0:5,:])\n",
    "pandas.DataFrame(fit.scores_.reshape(1, 8).tolist(), columns=names[:-1]).T.sort_values(0, ascending=False)"
   ]
  },
  {
   "cell_type": "markdown",
   "metadata": {},
   "source": [
    "## Recursive feature elimination\n",
    "\n",
    "- The Recursive Feature Elimination (or RFE) works by recursively removing attributes and building a model on those attributes that remain. \n",
    "- It uses the model accuracy to identify which attributes (and combination of attributes) contribute the most to predicting the target attribute."
   ]
  },
  {
   "cell_type": "code",
   "execution_count": 50,
   "metadata": {
    "ExecuteTime": {
     "end_time": "2019-10-11T01:05:45.937091Z",
     "start_time": "2019-10-11T01:05:45.856814Z"
    }
   },
   "outputs": [
    {
     "name": "stdout",
     "output_type": "stream",
     "text": [
      "Num Features: 3\n",
      "Selected Features: [ True False False False False  True  True False]\n",
      "Feature Ranking: [1 2 3 5 6 1 1 4]\n"
     ]
    }
   ],
   "source": [
    "# Feature Extraction with RFE \n",
    "from pandas import read_csv \n",
    "from sklearn.feature_selection import RFE \n",
    "from sklearn.linear_model import LogisticRegression \n",
    "\n",
    "# load data \n",
    "filename = 'pima-indians-diabetes.data.csv' \n",
    "names = ['preg' , 'plas' , 'pres' , 'skin' , 'test' , 'mass' , 'pedi' , 'age' , 'class' ] \n",
    "dataframe = read_csv(filename, names=names) \n",
    "array = dataframe.values \n",
    "X = array[:,0:8] \n",
    "Y = array[:,8] \n",
    "\n",
    "# feature extraction \n",
    "model = LogisticRegression() \n",
    "rfe = RFE(model, 3) \n",
    "fit = rfe.fit(X, Y) \n",
    "print(\"Num Features: %d\" % fit.n_features_) \n",
    "print(\"Selected Features: %s\" % fit.support_) \n",
    "print(\"Feature Ranking: %s\" % fit.ranking_)\n",
    "# pd.DataFrame(fit.ranking_.reshape(1, 8).tolist(), columns=names[:-1]).T.sort_values(0, ascending=True)"
   ]
  },
  {
   "cell_type": "markdown",
   "metadata": {},
   "source": [
    "## Principal component analysis\n",
    "\n",
    "- Principal Component Analysis (or PCA) uses linear algebra to transform the dataset into a compressed form. \n",
    "- Generally this is called a data reduction technique. \n",
    "- A property of PCA is that you can choose the number of dimensions or principal components in the transformed result.\n",
    "\n",
    "As intuition:\n",
    "- It can be thought of as a projection method where data with m-columns (features) is projected into a subspace with m or fewer columns, whilst retaining the essence of the original data. \n",
    "- The PCA method can be described and implemented using the tools of linear algebra.\n",
    "\n",
    "![](images/pca01.png)\n",
    "![](images/pca02.png)\n",
    "![](images/pca03.png)\n",
    "![](images/pca04.png)\n",
    "![](images/pca05.png)\n",
    "![](images/pca06.png)\n",
    "![](images/pca07.png)\n",
    "\n",
    "- Where $A$ is the original data that we wish to project, $B^T$ is the transpose of the chosen principal components and $P$ is the projection of $A$. \n",
    "- This is called the covariance method for calculating the PCA, although there are alternative ways to calculate it.\n",
    "\n",
    "Also:\n",
    "\n",
    "- The eigenvectors represent the directions or components for the reduced subspace of $B$, whereas the eigenvalues represent the magnitudes for the directions. \n",
    "- The eigenvectors can be sorted by the eigenvalues in descending order to provide a ranking of the components or axes of the new subspace for $A$. \n",
    "- If all eigenvalues have a similar value, then we know that the existing representation may already be reasonably compressed or dense and that the projection may offer little. \n",
    "- If there are eigenvalues close to zero, they represent components or axes of $B$ that may be discarded. \n",
    "- A total of $m$ or less components must be selected to comprise the chosen subspace. Ideally, we would select k eigenvectors, called principal components, that have the $k$ largest eigenvalues."
   ]
  },
  {
   "cell_type": "code",
   "execution_count": 51,
   "metadata": {
    "ExecuteTime": {
     "end_time": "2019-10-11T01:05:45.981946Z",
     "start_time": "2019-10-11T01:05:45.940257Z"
    }
   },
   "outputs": [
    {
     "name": "stdout",
     "output_type": "stream",
     "text": [
      "Explained Variance: [0.889 0.062 0.026]\n",
      "[[-2.022e-03  9.781e-02  1.609e-02  6.076e-02  9.931e-01  1.401e-02\n",
      "   5.372e-04 -3.565e-03]\n",
      " [-2.265e-02 -9.722e-01 -1.419e-01  5.786e-02  9.463e-02 -4.697e-02\n",
      "  -8.168e-04 -1.402e-01]\n",
      " [-2.246e-02  1.434e-01 -9.225e-01 -3.070e-01  2.098e-02 -1.324e-01\n",
      "  -6.400e-04 -1.255e-01]]\n"
     ]
    }
   ],
   "source": [
    "# Feature Extraction with PCA \n",
    "from pandas import read_csv \n",
    "from sklearn.decomposition import PCA \n",
    "\n",
    "# load data \n",
    "filename = 'pima-indians-diabetes.data.csv' \n",
    "names = ['preg' , 'plas' , 'pres' , 'skin' , 'test' , 'mass' , 'pedi' , 'age' , 'class']\n",
    "\n",
    "dataframe = read_csv(filename, names=names) \n",
    "array = dataframe.values \n",
    "X = array[:,0:8] \n",
    "Y = array[:,8] \n",
    "\n",
    "# feature extraction \n",
    "pca = PCA(n_components=3) \n",
    "fit = pca.fit(X) \n",
    "\n",
    "# summarize components \n",
    "print(\"Explained Variance: %s\" % fit.explained_variance_ratio_) \n",
    "print(fit.components_)\n",
    "# pd.DataFrame(fit.components_[0].reshape(1, 8).tolist(), columns=names[:-1]).T.sort_values(0, ascending=False)"
   ]
  },
  {
   "cell_type": "markdown",
   "metadata": {},
   "source": [
    "## Feature importance \n",
    "\n",
    "- Bagged decision trees like Random Forest and Extra Trees can be used to estimate the importance of features.\n",
    "\n",
    "This is based on information theory:\n",
    "- Information theory is concerned with data compression and transmission and builds upon probability and supports machine learning.\n",
    "- Information provides a way to quantify the amount of surprise for an event measured in bits.\n",
    "\n",
    "![](images/entropy.png)\n",
    "\n",
    "- Entropy provides a measure of the average amount of information needed to represent an event drawn from a probability distribution for a random variable.\n",
    "\n",
    "\n",
    "### Information gain\n",
    "- Information gain is the reduction in entropy or surprise by transforming a dataset and is often used in training decision trees.\n",
    "- Information gain is calculated by comparing the entropy of the dataset before and after a transformation.\n",
    "\n",
    "![](images/information_gain.png)\n",
    "\n",
    "- Where $IG(S, a)$ is the information for the dataset $S$ for the variable $a$ for a random variable, conditional entropy for the dataset given the variable $a$. \n",
    "- This calculation describes the gain in $H(S)$ is the entropy for the dataset before any change (described above) and $H(S|a)$ is the the dataset $S$ for the variable $a$. \n",
    "- It is the number of bits saved when transforming the dataset. \n",
    "- The conditional entropy can be calculated by splitting the dataset into groups for each observed value of $a$ and calculating the sum of the ratio of examples in each group out of the entire dataset multiplied by the entropy of each group.\n",
    "\n",
    "![](images/entropy_grouped_samples.png)\n",
    "\n",
    "- Where $\\frac{Sa(v)}{S}$ is the ratio of the number of examples in the dataset with variable $a$ has the value $v$, and $H(Sa(v))$ is the entropy of group of samples where variable $a$ has the value $v$.\n",
    "\n",
    "![](images/information_gain_dataset.png)\n",
    "\n",
    "### Mutual information\n",
    "- Mutual information calculates the statistical dependence between two variables and is the name given to information gain when applied to variable selection.\n",
    "\n",
    "![](images/mutual_information.png)\n",
    "\n",
    "- Where $I(X; Y)$ is the mutual information for $X$ and $Y, H(X)$ is the entropy for $X$ and information is a measure of dependence or mutual dependence between two random variables.\n",
    "- $H(X|Y)$ is the conditional entropy for $X$ given $Y$. The result has the units of bits. \n",
    "- As such, the measure is symmetrical, meaning that $I(X; Y) = I(Y;X)$.\n",
    "\n",
    "Also:\n",
    "- Mutual information is always larger than or equal to zero, where the larger the value, the greater the relationship between the two variables. \n",
    "- If the calculated result is zero, then the variables are independent. \n",
    "- Mutual information is often used as a general form of a correlation coefficient, e.g. a measure of the dependence between random variables. \n",
    "- It is also used as an aspect in some machine learning algorithms."
   ]
  },
  {
   "cell_type": "code",
   "execution_count": 52,
   "metadata": {
    "ExecuteTime": {
     "end_time": "2019-10-11T01:05:46.130233Z",
     "start_time": "2019-10-11T01:05:45.992245Z"
    }
   },
   "outputs": [
    {
     "name": "stdout",
     "output_type": "stream",
     "text": [
      "[0.113 0.251 0.095 0.075 0.072 0.138 0.117 0.138]\n"
     ]
    }
   ],
   "source": [
    "# Feature Importance with Extra Trees Classifier \n",
    "from pandas import read_csv \n",
    "from sklearn.ensemble import ExtraTreesClassifier \n",
    "\n",
    "# load data \n",
    "filename = 'pima-indians-diabetes.data.csv' \n",
    "names = ['preg' , 'plas' , 'pres' , 'skin' , 'test' , 'mass' , 'pedi' , 'age' , 'class'] \n",
    "dataframe = read_csv(filename, names=names) \n",
    "array = dataframe.values \n",
    "X = array[:,0:8] \n",
    "Y = array[:,8] \n",
    "\n",
    "# feature extraction \n",
    "model = ExtraTreesClassifier() \n",
    "model.fit(X, Y) \n",
    "print(model.feature_importances_)\n",
    "# pd.DataFrame(model.feature_importances_.reshape(1, 8).tolist(), columns=names[:-1]).T.sort_values(0, ascending=False)"
   ]
  },
  {
   "cell_type": "markdown",
   "metadata": {},
   "source": [
    "# Evaluate the Performance of Machine Learning Algorithms with Resampling"
   ]
  },
  {
   "cell_type": "markdown",
   "metadata": {},
   "source": [
    "## Train set and test set\n",
    "\n",
    "- The simplest method that we can use to evaluate the performance of a machine learning algorithm is to use different training and testing datasets. \n",
    "- We can take our original dataset and split it into two parts. Train the algorithm on the first part, make predictions on the second part and evaluate the predictions against the expected results. \n",
    "- The size of the split can depend on the size and specifics of your dataset.\n",
    "- This algorithm evaluation technique is very fast. \n",
    "- It is ideal for large datasets (millions of records) where there is strong evidence that both splits of the data are representative of the underlying problem. \n",
    "- Because of the speed, it is useful to use this approach when the algorithm you are investigating is slow to train. \n",
    "- A downside of this technique is that it can have a high variance. \n",
    "- This means that differences in the training and test dataset can result in meaningful differences in the estimate of accuracy."
   ]
  },
  {
   "cell_type": "code",
   "execution_count": 53,
   "metadata": {
    "ExecuteTime": {
     "end_time": "2019-10-11T01:05:46.164629Z",
     "start_time": "2019-10-11T01:05:46.133431Z"
    }
   },
   "outputs": [
    {
     "name": "stdout",
     "output_type": "stream",
     "text": [
      "Accuracy: 75.591%\n"
     ]
    }
   ],
   "source": [
    "# Evaluate using a train and a test set \n",
    "from pandas import read_csv \n",
    "from sklearn.model_selection import train_test_split \n",
    "from sklearn.linear_model import LogisticRegression \n",
    "filename = 'pima-indians-diabetes.data.csv' \n",
    "names = ['preg' , 'plas' , 'pres' , 'skin' , 'test' , 'mass' , 'pedi' , 'age' , 'class'] \n",
    "dataframe = read_csv(filename, names=names) \n",
    "array = dataframe.values \n",
    "X = array[:,0:8] \n",
    "Y = array[:,8] \n",
    "test_size = 0.33 \n",
    "seed = 7 \n",
    "X_train, X_test, Y_train, Y_test = train_test_split(X, Y, test_size=test_size, random_state=seed)\n",
    "model = LogisticRegression() \n",
    "model.fit(X_train, Y_train) \n",
    "result = model.score(X_test, Y_test) \n",
    "print(\"Accuracy: %.3f%%\" % (result*100.0))"
   ]
  },
  {
   "cell_type": "markdown",
   "metadata": {},
   "source": [
    "## Cross validation\n",
    "\n",
    "- Cross-validation is an approach that you can use to estimate the performance of a machine learning algorithm with less variance than a single train-test set split. \n",
    "- It works by splitting the dataset into $k$-parts. \n",
    "- Each split of the data is called a fold. \n",
    "- The algorithm is trained on $k − 1$ folds with one held back and tested on the held back fold. \n",
    "- This is repeated so that each fold of the dataset is given a chance to be the held back test set. \n",
    "- After running cross-validation you end up with $k$ different performance scores that you can summarize using a mean and a standard deviation. \n",
    "- The result is a more reliable estimate of the performance of the algorithm on new data. \n",
    "- It is more accurate because the algorithm is trained and evaluated multiple times on different data. \n",
    "- The choice of $k$ must allow the size of each test partition to be large enough to be a reasonable sample of the problem, while allowing enough repetitions of the train-test evaluation of the algorithm to provide a fair estimate of the algorithms performance on unseen data.\n",
    "\n",
    "![](images/fold_size.png)"
   ]
  },
  {
   "cell_type": "code",
   "execution_count": 54,
   "metadata": {
    "ExecuteTime": {
     "end_time": "2019-10-11T01:05:46.330186Z",
     "start_time": "2019-10-11T01:05:46.167640Z"
    }
   },
   "outputs": [
    {
     "name": "stdout",
     "output_type": "stream",
     "text": [
      "Accuracy: 76.951% (4.841%)\n"
     ]
    }
   ],
   "source": [
    "# Evaluate using Cross Validation \n",
    "from pandas import read_csv \n",
    "from sklearn.model_selection import KFold \n",
    "from sklearn.model_selection import cross_val_score \n",
    "from sklearn.linear_model import LogisticRegression \n",
    "filename = 'pima-indians-diabetes.data.csv' \n",
    "names = ['preg' , 'plas' , 'pres' , 'skin' , 'test' , 'mass' , 'pedi' , 'age' , 'class'] \n",
    "dataframe = read_csv(filename, names=names) \n",
    "array = dataframe.values \n",
    "X = array[:,0:8] \n",
    "Y = array[:,8] \n",
    "kfold = KFold(n_splits=10, random_state=7) \n",
    "model = LogisticRegression() \n",
    "results = cross_val_score(model, X, Y, cv=kfold) \n",
    "print(\"Accuracy: %.3f%% (%.3f%%)\" % (results.mean()*100.0, results.std()*100.0))"
   ]
  },
  {
   "cell_type": "markdown",
   "metadata": {},
   "source": [
    "## Leave one out cross-validation\n",
    "\n",
    "- You can configure cross-validation so that the size of the fold is 1 (k is set to the number of observations in your dataset). \n",
    "- This variation of cross-validation is called leave-one-out cross- validation. \n",
    "- The result is a large number of performance measures that can be summarized in an effort to give a more reasonable estimate of the accuracy of your model on unseen data. \n",
    "- A downside is that it can be a computationally more expensive procedure than $k$-fold cross-validation."
   ]
  },
  {
   "cell_type": "code",
   "execution_count": 55,
   "metadata": {
    "ExecuteTime": {
     "end_time": "2019-10-11T01:05:57.761156Z",
     "start_time": "2019-10-11T01:05:46.333381Z"
    },
    "scrolled": true
   },
   "outputs": [
    {
     "name": "stdout",
     "output_type": "stream",
     "text": [
      "Accuracy: 76.823% (42.196%)\n"
     ]
    }
   ],
   "source": [
    "# Evaluate using Leave One Out Cross Validation \n",
    "from pandas import read_csv \n",
    "from sklearn.model_selection import LeaveOneOut \n",
    "from sklearn.model_selection import cross_val_score \n",
    "from sklearn.linear_model import LogisticRegression \n",
    "filename = 'pima-indians-diabetes.data.csv' \n",
    "names = ['preg' , 'plas' , 'pres' , 'skin' , 'test' , 'mass' , 'pedi' , 'age' , 'class'] \n",
    "dataframe = read_csv(filename, names=names) \n",
    "array = dataframe.values \n",
    "X = array[:,0:8] \n",
    "Y = array[:,8] \n",
    "loocv = LeaveOneOut() \n",
    "model = LogisticRegression() \n",
    "results = cross_val_score(model, X, Y, cv=loocv) \n",
    "print(\"Accuracy: %.3f%% (%.3f%%)\" % (results.mean()*100.0, results.std()*100.0))"
   ]
  },
  {
   "cell_type": "markdown",
   "metadata": {},
   "source": [
    "## Repeated random train-test split\n",
    "\n",
    "- Another variation on $k$-fold cross-validation is to create a random split of the data like the train/test split described above, but repeat the process of splitting and evaluation of the algorithm multiple times, like cross-validation. \n",
    "- This has the speed of using a train/test split and the reduction in variance in the estimated performance of $k$-fold cross-validation. \n",
    "- You can also repeat the process many more times as needed to improve the accuracy. \n",
    "- A down side is that repetitions may include much of the same data in the train or the test split from run to run, introducing redundancy into the evaluation."
   ]
  },
  {
   "cell_type": "code",
   "execution_count": 56,
   "metadata": {
    "ExecuteTime": {
     "end_time": "2019-10-11T01:05:57.885816Z",
     "start_time": "2019-10-11T01:05:57.764797Z"
    }
   },
   "outputs": [
    {
     "name": "stdout",
     "output_type": "stream",
     "text": [
      "Accuracy: 76.496% (1.698%)\n"
     ]
    }
   ],
   "source": [
    "# Evaluate using Shuffle Split Cross Validation \n",
    "from pandas import read_csv \n",
    "from sklearn.model_selection import ShuffleSplit \n",
    "from sklearn.model_selection import cross_val_score \n",
    "from sklearn.linear_model import LogisticRegression \n",
    "filename = 'pima-indians-diabetes.data.csv' \n",
    "names = ['preg' , 'plas' , 'pres' , 'skin' , 'test' , 'mass' , 'pedi' , 'age' , 'class'] \n",
    "dataframe = read_csv(filename, names=names) \n",
    "array = dataframe.values \n",
    "X = array[:,0:8] \n",
    "Y = array[:,8] \n",
    "n_splits = 10 \n",
    "test_size = 0.33 \n",
    "seed = 7 \n",
    "kfold = ShuffleSplit(n_splits=n_splits, test_size=test_size, random_state=seed)\n",
    "model = LogisticRegression() \n",
    "results = cross_val_score(model, X, Y, cv=kfold) \n",
    "print(\"Accuracy: %.3f%% (%.3f%%)\" % (results.mean()*100.0, results.std()*100.0))"
   ]
  },
  {
   "cell_type": "markdown",
   "metadata": {},
   "source": [
    "# Machine Learning Algorithm Performance Metrics\n",
    "\n",
    "Classification metrics\n",
    "- Classification Accuracy\n",
    "- Logarithmic Loss\n",
    "- Area Under ROC Curve \n",
    "- Confusion Matrix\n",
    "- Classification Report\n",
    "\n",
    "Regression metrics\n",
    "- Mean Absolute Error\n",
    "- Mean Squared Error\n",
    "- $R^2$."
   ]
  },
  {
   "cell_type": "markdown",
   "metadata": {},
   "source": [
    "## Classification accuracy\n",
    "\n",
    "- Classification accuracy is the number of correct predictions made as a ratio of all predictions made. \n",
    "- This is the most common evaluation metric for classification problems, it is also the most misused. \n",
    "- It is really only suitable when there are an equal number of observations in each class (which is rarely the case) and that all predictions and prediction errors are equally important, which is often not the case. \n",
    "\n",
    "![](images/classification_accuracy.png)\n",
    "\n",
    "- This accuracy can be calculated based on a hold-out dataset not seen by the model during training, such as a validation or test dataset. \n",
    "- Classification accuracy or classification error is a proportion or a ratio. It describes the proportion of correct or incorrect predictions made by the model. \n",
    "- Each prediction is a binary decision that could be correct or incorrect. \n",
    "- Technically, this is called a Bernoulli trial, named for Jacob Bernoulli. \n",
    "- The proportions in a Bernoulli trial have a specific distribution called a binomial distribution. \n",
    "- With large sample sizes (more than 30), we can approximate the distribution with a Gaussian."
   ]
  },
  {
   "cell_type": "code",
   "execution_count": 57,
   "metadata": {
    "ExecuteTime": {
     "end_time": "2019-10-11T01:05:58.031125Z",
     "start_time": "2019-10-11T01:05:57.888859Z"
    }
   },
   "outputs": [
    {
     "name": "stdout",
     "output_type": "stream",
     "text": [
      "Accuracy: 0.770 (0.048)\n"
     ]
    }
   ],
   "source": [
    "# Cross Validation Classification Accuracy \n",
    "from pandas import read_csv \n",
    "from sklearn.model_selection import KFold \n",
    "from sklearn.model_selection import cross_val_score \n",
    "from sklearn.linear_model import LogisticRegression \n",
    "filename = 'pima-indians-diabetes.data.csv' \n",
    "names = ['preg' , 'plas' , 'pres' , 'skin' , 'test' , 'mass' , 'pedi' , 'age' , 'class'] \n",
    "dataframe = read_csv(filename, names=names) \n",
    "array = dataframe.values \n",
    "X = array[:,0:8] \n",
    "Y = array[:,8] \n",
    "kfold = KFold(n_splits=10, random_state=7) \n",
    "model = LogisticRegression() \n",
    "scoring = 'accuracy' \n",
    "results = cross_val_score(model, X, Y, cv=kfold, scoring=scoring) \n",
    "print(\"Accuracy: %.3f (%.3f)\" % (results.mean(), results.std()))"
   ]
  },
  {
   "cell_type": "markdown",
   "metadata": {},
   "source": [
    "## Logarithmic loss\n",
    "\n",
    "- Logarithmic loss (or logloss) is a performance metric for evaluating the predictions of probabilities of membership to a given class. \n",
    "- The scalar probability between 0 and 1 can be seen as a measure of confidence for a prediction by an algorithm. \n",
    "- Predictions that are correct or incorrect are rewarded or punished proportionally to the confidence of the prediction.\n",
    "\n",
    "![](images/log_loss.png)\n",
    "\n",
    "Also:\n",
    "- Log loss, also called logistic loss, logarithmic loss, or cross-entropy can be used as a measure for evaluating predicted probabilities. \n",
    "- Each predicted probability is compared to the actual class output value (0 or 1) and a score is calculated that penalizes the probability based on the distance from the expected value. \n",
    "- The penalty is logarithmic, offering a small score for small differences (0.1 or 0.2) and enormous score for a large difference (0.9 or 1.0). \n",
    "- A model with perfect skill has a log loss score of 0.0. \n",
    "- In order to summarize the skill of a model using log loss, the log loss is calculated for each predicted probability, and the average loss is reported. \n",
    "- In the binary classification case, the function takes a list of true outcome values and a list of probabilities as arguments and calculates the average log loss for the predictions. \n",
    "\n",
    "Thus:\n",
    "- Model skill is reported as the average log loss across the predictions in a test dataset.\n",
    "- As an average, we can expect that the score will be suitable with a balanced dataset and misleading when there is a large imbalance between the two classes in the test set. \n",
    "- This is because predicting 0 or small probabilities will result in a small loss. \n",
    "- We can demonstrate this by comparing the distribution of loss values when predicting different constant probabilities for a balanced and an imbalanced dataset. \n",
    "- First, the example below predicts values from 0.0 to 1.0 in 0.1 increments for a balanced dataset of 50 examples of class 0 and 1."
   ]
  },
  {
   "cell_type": "code",
   "execution_count": 58,
   "metadata": {
    "ExecuteTime": {
     "end_time": "2019-10-11T01:05:58.208553Z",
     "start_time": "2019-10-11T01:05:58.035051Z"
    }
   },
   "outputs": [
    {
     "name": "stdout",
     "output_type": "stream",
     "text": [
      "Logloss: -0.493 (0.047)\n"
     ]
    }
   ],
   "source": [
    "# Cross Validation Classification LogLoss \n",
    "from pandas import read_csv \n",
    "from sklearn.model_selection import KFold \n",
    "from sklearn.model_selection import cross_val_score \n",
    "from sklearn.linear_model import LogisticRegression \n",
    "filename = 'pima-indians-diabetes.data.csv' \n",
    "names = ['preg' , 'plas' , 'pres' , 'skin' , 'test' , 'mass' , 'pedi' , 'age' , 'class'] \n",
    "dataframe = read_csv(filename, names=names) \n",
    "array = dataframe.values \n",
    "X = array[:,0:8] \n",
    "Y = array[:,8] \n",
    "kfold = KFold(n_splits=10, random_state=7) \n",
    "model = LogisticRegression() \n",
    "scoring = 'neg_log_loss' \n",
    "results = cross_val_score(model, X, Y, cv=kfold, scoring=scoring) \n",
    "print(\"Logloss: %.3f (%.3f)\" % (results.mean(), results.std()))"
   ]
  },
  {
   "cell_type": "markdown",
   "metadata": {},
   "source": [
    "## Receiver operating characteristics-area under curve\n",
    "\n",
    "- Area under ROC Curve (or AUC for short) is a performance metric for binary classification problems. \n",
    "- The AUC represents a model’s ability to discriminate between positive and negative classes. \n",
    "- An area of 1.0 represents a model that made all predictions perfectly. \n",
    "- An area of 0.5 represents a model that is as good as random. \n",
    "- ROC can be broken down into sensitivity and specificity. \n",
    "- A binary classification problem is really a trade-off between sensitivity and specificity.\n",
    "\n",
    "![](images/roc-auc.png)\n",
    "\n",
    "- Sensitivity is the true positive rate, also called the recall. It is the number of instances from the positive (first) class that were actually predicted correctly.\n",
    "- Specificity is also called the true negative rate. It is the number of instances from the negative (second) class that were actually predicted correctly."
   ]
  },
  {
   "cell_type": "code",
   "execution_count": 59,
   "metadata": {
    "ExecuteTime": {
     "end_time": "2019-10-11T01:05:58.437998Z",
     "start_time": "2019-10-11T01:05:58.212654Z"
    },
    "scrolled": true
   },
   "outputs": [
    {
     "name": "stdout",
     "output_type": "stream",
     "text": [
      "AUC: 0.824 (0.041)\n"
     ]
    }
   ],
   "source": [
    "# Cross Validation Classification ROC AUC \n",
    "from pandas import read_csv \n",
    "from sklearn.model_selection import KFold \n",
    "from sklearn.model_selection import cross_val_score \n",
    "from sklearn.linear_model import LogisticRegression \n",
    "filename = 'pima-indians-diabetes.data.csv' \n",
    "names = ['preg' , 'plas' , 'pres' , 'skin' , 'test' , 'mass' , 'pedi' , 'age' , 'class'] \n",
    "dataframe = read_csv(filename, names=names) \n",
    "array = dataframe.values \n",
    "X = array[:,0:8] \n",
    "Y = array[:,8] \n",
    "kfold = KFold(n_splits=10, random_state=7) \n",
    "model = LogisticRegression() \n",
    "scoring = 'roc_auc' \n",
    "results = cross_val_score(model, X, Y, cv=kfold, scoring=scoring) \n",
    "print(\"AUC: %.3f (%.3f)\" % (results.mean(), results.std()))"
   ]
  },
  {
   "cell_type": "markdown",
   "metadata": {},
   "source": [
    "## Confusion matrix\n",
    "\n",
    "- The confusion matrix is a handy presentation of the accuracy of a model with two or more classes. \n",
    "- The table presents predictions on the x-axis and true outcomes on the y-axis. \n",
    "- The cells of the table are the number of predictions made by a machine learning algorithm. \n",
    "- For example, a machine learning algorithm can predict 0 or 1 and each prediction may actually have been a 0 or 1. \n",
    "- Predictions for 0 that were actually 0 appear in the cell for $prediction = 0$ and $actual = 0$, whereas predictions for 0 that were actually 1 appear in the cell for $prediction = 0$ and $actual = 1$.\n",
    "\n",
    "![](images/confusion_matrix.png)"
   ]
  },
  {
   "cell_type": "code",
   "execution_count": 60,
   "metadata": {
    "ExecuteTime": {
     "end_time": "2019-10-11T01:05:58.477437Z",
     "start_time": "2019-10-11T01:05:58.447418Z"
    }
   },
   "outputs": [
    {
     "name": "stdout",
     "output_type": "stream",
     "text": [
      "[[141  21]\n",
      " [ 41  51]]\n"
     ]
    }
   ],
   "source": [
    "# Cross Validation Classification Confusion Matrix \n",
    "from pandas import read_csv \n",
    "from sklearn.model_selection import train_test_split \n",
    "from sklearn.linear_model import LogisticRegression \n",
    "from sklearn.metrics import confusion_matrix \n",
    "filename = 'pima-indians-diabetes.data.csv' \n",
    "names = ['preg' , 'plas' , 'pres' , 'skin' , 'test' , 'mass' , 'pedi' , 'age' , 'class'] \n",
    "dataframe = read_csv(filename, names=names) \n",
    "array = dataframe.values \n",
    "X = array[:,0:8] \n",
    "Y = array[:,8] \n",
    "test_size = 0.33\n",
    "seed = 7 \n",
    "X_train, X_test, Y_train, Y_test = train_test_split(X, Y, test_size=test_size, random_state=seed)\n",
    "model = LogisticRegression() \n",
    "model.fit(X_train, Y_train) \n",
    "predicted = model.predict(X_test) \n",
    "matrix = confusion_matrix(Y_test, predicted) \n",
    "print(matrix)"
   ]
  },
  {
   "cell_type": "markdown",
   "metadata": {},
   "source": [
    "## Classification report\n",
    "\n",
    "- The scikit-learn library provides a convenience report when working on classification problems to give you a quick idea of the accuracy of a model using a number of measures. \n",
    "- The `classification_report()` function displays the precision, recall, F1-score and support for each class."
   ]
  },
  {
   "cell_type": "code",
   "execution_count": 61,
   "metadata": {
    "ExecuteTime": {
     "end_time": "2019-10-11T01:05:58.529096Z",
     "start_time": "2019-10-11T01:05:58.480601Z"
    }
   },
   "outputs": [
    {
     "name": "stdout",
     "output_type": "stream",
     "text": [
      "              precision    recall  f1-score   support\n",
      "\n",
      "         0.0       0.77      0.87      0.82       162\n",
      "         1.0       0.71      0.55      0.62        92\n",
      "\n",
      "    accuracy                           0.76       254\n",
      "   macro avg       0.74      0.71      0.72       254\n",
      "weighted avg       0.75      0.76      0.75       254\n",
      "\n"
     ]
    }
   ],
   "source": [
    "# Cross Validation Classification Report \n",
    "from pandas import read_csv \n",
    "from sklearn.model_selection import train_test_split \n",
    "from sklearn.linear_model import LogisticRegression \n",
    "from sklearn.metrics import classification_report \n",
    "filename = 'pima-indians-diabetes.data.csv' \n",
    "names = ['preg' , 'plas' , 'pres' , 'skin' , 'test' , 'mass' , 'pedi' , 'age' , 'class'] \n",
    "dataframe = read_csv(filename, names=names) \n",
    "array = dataframe.values \n",
    "X = array[:,0:8] \n",
    "Y = array[:,8] \n",
    "test_size = 0.33 \n",
    "seed = 7 \n",
    "X_train, X_test, Y_train, Y_test = train_test_split(X, Y, test_size=test_size, random_state=seed)\n",
    "model = LogisticRegression() \n",
    "model.fit(X_train, Y_train) \n",
    "predicted = model.predict(X_test) \n",
    "report = classification_report(Y_test, predicted) \n",
    "print(report)"
   ]
  },
  {
   "cell_type": "markdown",
   "metadata": {},
   "source": [
    "## Mean absolute error\n",
    "\n",
    "- The Mean Absolute Error (or MAE) is the sum of the absolute differences between predictions and actual values. \n",
    "- It gives an idea of how wrong the predictions were. \n",
    "- The measure gives an idea of the magnitude of the error, but no idea of the direction (e.g. over or under predicting).\n",
    "\n",
    "<!-- ![](images/mae.png) -->\n",
    "![](images/mean_absolute_error.png)"
   ]
  },
  {
   "cell_type": "code",
   "execution_count": 62,
   "metadata": {
    "ExecuteTime": {
     "end_time": "2019-10-11T01:05:58.581806Z",
     "start_time": "2019-10-11T01:05:58.533844Z"
    }
   },
   "outputs": [
    {
     "name": "stdout",
     "output_type": "stream",
     "text": [
      "MAE: -4.005 (2.084)\n"
     ]
    }
   ],
   "source": [
    "# Cross Validation Regression MAE \n",
    "from pandas import read_csv \n",
    "from sklearn.model_selection import KFold \n",
    "from sklearn.model_selection import cross_val_score \n",
    "from sklearn.linear_model import LinearRegression \n",
    "filename = 'housing.csv' \n",
    "names = ['CRIM' , 'ZN' , 'INDUS' , 'CHAS' , 'NOX' , 'RM' , 'AGE' , 'DIS' , 'RAD' , 'TAX' , 'PTRATIO' , 'B' , 'LSTAT' , 'MEDV' ]\n",
    "dataframe = read_csv(filename, delim_whitespace=True, names=names) \n",
    "array = dataframe.values \n",
    "X = array[:,0:13] \n",
    "Y = array[:,13] \n",
    "kfold = KFold(n_splits=10, random_state=7) \n",
    "model = LinearRegression() \n",
    "scoring = 'neg_mean_absolute_error' \n",
    "results = cross_val_score(model, X, Y, cv=kfold, scoring=scoring) \n",
    "print(\"MAE: %.3f (%.3f)\" % (results.mean(), results.std()))"
   ]
  },
  {
   "cell_type": "markdown",
   "metadata": {},
   "source": [
    "## Mean squared error\n",
    "\n",
    "- The Mean Squared Error (or MSE) is much like the mean absolute error in that it provides a gross idea of the magnitude of error. \n",
    "- Taking the square root of the mean squared error converts the units back to the original units of the output variable and can be meaningful for description and presentation. This is called the Root Mean Squared Error (or RMSE).\n",
    "\n",
    "<!--![](images/mse.png)\n",
    "![](images/mse_itsl.png)-->\n",
    "\n",
    "![](images/root_mean_squared_error.png)"
   ]
  },
  {
   "cell_type": "code",
   "execution_count": 63,
   "metadata": {
    "ExecuteTime": {
     "end_time": "2019-10-11T01:05:58.617154Z",
     "start_time": "2019-10-11T01:05:58.585575Z"
    }
   },
   "outputs": [
    {
     "name": "stdout",
     "output_type": "stream",
     "text": [
      "MSE: -34.705 (45.574)\n"
     ]
    }
   ],
   "source": [
    "# Cross Validation Regression MSE \n",
    "from pandas import read_csv \n",
    "from sklearn.model_selection import KFold \n",
    "from sklearn.model_selection import cross_val_score \n",
    "from sklearn.linear_model import LinearRegression \n",
    "filename = 'housing.csv'\n",
    "names = ['CRIM' , 'ZN' , 'INDUS' , 'CHAS' , 'NOX' , 'RM' , 'AGE' , 'DIS' , 'RAD' , 'TAX' , 'PTRATIO' , 'B' , 'LSTAT' , 'MEDV' ]\n",
    "dataframe = read_csv(filename, delim_whitespace=True, names=names) \n",
    "array = dataframe.values \n",
    "X = array[:,0:13] \n",
    "Y = array[:,13] \n",
    "kfold = KFold(n_splits=10, random_state=7) \n",
    "model = LinearRegression() \n",
    "scoring = 'neg_mean_squared_error' \n",
    "results = cross_val_score(model, X, Y, cv=kfold, scoring=scoring) \n",
    "print(\"MSE: %.3f (%.3f)\" % (results.mean(), results.std()))"
   ]
  },
  {
   "cell_type": "markdown",
   "metadata": {},
   "source": [
    "## R-squared metric\n",
    "\n",
    "- The $R^2$ (or R Squared) metric provides an indication of the goodness of fit of a set of predictions to the actual values. \n",
    "- In statistical literature this measure is called the coefficient of determination. This is a value between 0 and 1 for no-fit and perfect fit respectively.\n",
    "\n",
    "![](images/00_residuals.png)\n",
    "![](images/01_mean_observed_data.png)\n",
    "![](images/02_total_sum_of_squares.png)\n",
    "![](images/03_explained_sum_of_squares.png)\n",
    "![](images/04_residual_sum_of_squares.png)\n",
    "![](images/05_coefficient_of_determination.png)"
   ]
  },
  {
   "cell_type": "code",
   "execution_count": 64,
   "metadata": {
    "ExecuteTime": {
     "end_time": "2019-10-11T01:05:58.659681Z",
     "start_time": "2019-10-11T01:05:58.620529Z"
    }
   },
   "outputs": [
    {
     "name": "stdout",
     "output_type": "stream",
     "text": [
      "R^2: 0.203 (0.595)\n"
     ]
    }
   ],
   "source": [
    "# Cross Validation Regression R^2 \n",
    "from pandas import read_csv \n",
    "from sklearn.model_selection import KFold \n",
    "from sklearn.model_selection import cross_val_score \n",
    "from sklearn.linear_model import LinearRegression \n",
    "filename = 'housing.csv' \n",
    "names = ['CRIM' , 'ZN' , 'INDUS' , 'CHAS' , 'NOX' , 'RM' , 'AGE' , 'DIS' , 'RAD' , 'TAX' , 'PTRATIO' , 'B' , 'LSTAT' , 'MEDV']\n",
    "dataframe = read_csv(filename, delim_whitespace=True, names=names) \n",
    "array = dataframe.values \n",
    "X = array[:,0:13] \n",
    "Y = array[:,13] \n",
    "kfold = KFold(n_splits=10, random_state=7)\n",
    "model = LinearRegression() \n",
    "scoring = 'r2' \n",
    "results = cross_val_score(model, X, Y, cv=kfold, scoring=scoring) \n",
    "print(\"R^2: %.3f (%.3f)\" % (results.mean(), results.std()))"
   ]
  },
  {
   "cell_type": "markdown",
   "metadata": {},
   "source": [
    "# Spot-Check Classification Algorithms\n",
    "\n",
    "Linear\n",
    "- Logistic Regression\n",
    "- Linear Discriminant Analysis\n",
    "\n",
    "\n",
    "Non-linear\n",
    "- k-Nearest Neighbors\n",
    "- Naive Bayes\n",
    "- Classification and Regression Trees\n",
    "- Support Vector Machines"
   ]
  },
  {
   "cell_type": "markdown",
   "metadata": {},
   "source": [
    "## Logistic regression\n",
    "\n",
    "- Logistic regression assumes a Gaussian distribution for the numeric input variables and can model binary classification problems.\n",
    "\n",
    "![](images/lr_yhat.png)\n",
    "![](images/lr_yhat_simplified.png)\n",
    "\n",
    "![](images/logistic_curve.png)\n",
    "![](images/sigmoid_function.png)\n",
    "\n",
    "![](images/logistic_regression.png)"
   ]
  },
  {
   "cell_type": "code",
   "execution_count": 65,
   "metadata": {
    "ExecuteTime": {
     "end_time": "2019-10-11T01:05:58.785984Z",
     "start_time": "2019-10-11T01:05:58.663026Z"
    }
   },
   "outputs": [
    {
     "name": "stdout",
     "output_type": "stream",
     "text": [
      "0.7695146958304853\n"
     ]
    }
   ],
   "source": [
    "# Logistic Regression Classification \n",
    "from pandas import read_csv \n",
    "from sklearn.model_selection import KFold \n",
    "from sklearn.model_selection import cross_val_score \n",
    "from sklearn.linear_model import LogisticRegression \n",
    "filename = 'pima-indians-diabetes.data.csv' \n",
    "names = ['preg' , 'plas' , 'pres' , 'skin' , 'test' , 'mass' , 'pedi' , 'age' , 'class'] \n",
    "dataframe = read_csv(filename, names=names) \n",
    "array = dataframe.values \n",
    "X = array[:,0:8] \n",
    "Y = array[:,8] \n",
    "kfold = KFold(n_splits=10, random_state=7)\n",
    "model = LogisticRegression() \n",
    "results = cross_val_score(model, X, Y, cv=kfold) \n",
    "print(results.mean())"
   ]
  },
  {
   "cell_type": "markdown",
   "metadata": {},
   "source": [
    "## Linear discriminant analysis\n",
    "\n",
    "- Linear Discriminant Analysis or LDA is a statistical technique for binary and multiclass classification. \n",
    "- It assumes a Gaussian distribution for the numerical input variables.\n",
    "\n",
    "![](images/lda_bayes_theorem.png)\n",
    "\n",
    "When to use LDA?\n",
    "- When the classes are well-separated, the parameter estimates for the logistic regression model are surprisingly unstable. Linear discriminant analysis does not suffer from this problem.\n",
    "- If $n$ is small and the distribution of the predictors $X$ is approximately normal in each of the classes, the linear discriminant model is again more stable than the logistic regression model.\n",
    "\n",
    "![](images/lda_3_classes.png)"
   ]
  },
  {
   "cell_type": "code",
   "execution_count": 66,
   "metadata": {
    "ExecuteTime": {
     "end_time": "2019-10-11T01:05:58.840735Z",
     "start_time": "2019-10-11T01:05:58.789273Z"
    }
   },
   "outputs": [
    {
     "name": "stdout",
     "output_type": "stream",
     "text": [
      "0.773462064251538\n"
     ]
    }
   ],
   "source": [
    "# LDA Classification \n",
    "from pandas import read_csv \n",
    "from sklearn.model_selection import KFold \n",
    "from sklearn.model_selection import cross_val_score \n",
    "from sklearn.discriminant_analysis import LinearDiscriminantAnalysis \n",
    "filename = 'pima-indians-diabetes.data.csv' \n",
    "names = ['preg' , 'plas' , 'pres' , 'skin' , 'test' , 'mass' , 'pedi' , 'age' , 'class'] \n",
    "dataframe = read_csv(filename, names=names) \n",
    "array = dataframe.values \n",
    "X = array[:,0:8]\n",
    "Y = array[:,8] \n",
    "kfold = KFold(n_splits=10, random_state=7) \n",
    "model = LinearDiscriminantAnalysis() \n",
    "results = cross_val_score(model, X, Y, cv=kfold) \n",
    "print(results.mean())"
   ]
  },
  {
   "cell_type": "markdown",
   "metadata": {},
   "source": [
    "## k-Nearest Neighbors\n",
    "\n",
    "- The k-Nearest Neighbors algorithm (or KNN) uses a distance metric to find the $k$ most similar instances in the training data for a new instance and takes the mean outcome of the neighbors as the prediction.\n",
    "\n",
    "This can be simplified as steps:\n",
    "\n",
    "1. Calculate Euclidean distance\n",
    "1. Get neighbors\n",
    "1. Make predictions\n",
    "\n",
    "Euclidean distance: \n",
    "- The first step needed is to calculate the distance between two rows in a dataset. \n",
    "- Rows of data are mostly made up of numbers and an easy way to calculate the distance between two rows or vectors of numbers is to draw a straight line. \n",
    "- This makes sense in 2D or 3D and scales nicely to higher dimensions. \n",
    "- We can calculate the straight line distance between two vectors using the Euclidean distance measure. \n",
    "- It is calculated as the square root of the sum of the squared differences between the two vectors.\n",
    "\n",
    "![](images/minkowski_distance.png)\n",
    "\n",
    "![](images/knn_distance.png)\n",
    "\n",
    "Get neighbors:\n",
    "- Neighbors for a new piece of data in the dataset are the $k$ closest instances, as defined by our distance measure. \n",
    "- To locate the neighbors for a new piece of data within a dataset we must first calculate the distance between each record in the dataset to the new piece of data. \n",
    "- We can do this using our distance function above. \n",
    "- Once distances are calculated, we must sort all of the records in the training dataset by their distance to the new data. \n",
    "- We can then select the top $k$ to return as the most similar neighbors.\n",
    "\n",
    "Make predictions:\n",
    "- The most similar neighbors collected from the training dataset can be used to make predictions. \n",
    "- In the case of classification, we can return the most represented class among the neighbors. \n",
    "- We can achieve this by getting the maximum on the list of output values from the neighbors. \n",
    "- Given a list of class values observed in the neighbors, the getting the maximum takes a set of unique class values and calls the count on the list of class values for each class value in the set."
   ]
  },
  {
   "cell_type": "code",
   "execution_count": 67,
   "metadata": {
    "ExecuteTime": {
     "end_time": "2019-10-11T01:05:58.967507Z",
     "start_time": "2019-10-11T01:05:58.849725Z"
    }
   },
   "outputs": [
    {
     "name": "stdout",
     "output_type": "stream",
     "text": [
      "0.7265550239234451\n"
     ]
    }
   ],
   "source": [
    "## KNN Classification\n",
    "from pandas import read_csv \n",
    "from sklearn.model_selection import KFold \n",
    "from sklearn.model_selection import cross_val_score \n",
    "from sklearn.neighbors import KNeighborsClassifier \n",
    "filename = 'pima-indians-diabetes.data.csv' \n",
    "names = ['preg' , 'plas' , 'pres' , 'skin' , 'test' , 'mass' , 'pedi' , 'age' , 'class'] \n",
    "dataframe = read_csv(filename, names=names) \n",
    "array = dataframe.values \n",
    "X = array[:,0:8] \n",
    "Y = array[:,8] \n",
    "kfold = KFold(n_splits=10, random_state=7) \n",
    "model = KNeighborsClassifier() \n",
    "results = cross_val_score(model, X, Y, cv=kfold) \n",
    "print(results.mean())"
   ]
  },
  {
   "cell_type": "markdown",
   "metadata": {},
   "source": [
    "## Naive Bayes \n",
    "\n",
    "- Naive Bayes calculates the probability of each class and the conditional probability of each class given each input value. \n",
    "- These probabilities are estimated for new data and multiplied together, assuming that they are all independent (a simple or naive assumption). \n",
    "- When working with real-valued data, a Gaussian distribution is assumed to easily estimate the probabilities for input variables using the Gaussian Probability Density Function.\n",
    "\n",
    "Also: \n",
    "- Bayes’ Theorem provides a way that we can calculate the probability of a piece of data belonging to a given class, given our prior knowledge.\n",
    "\n",
    "![](images/nb_bayes_theorem.png)\n",
    "\n",
    "- Where $P(class|data)$ is the probability of class given the provided data. \n",
    "- Naive Bayes is a classification algorithm for binary (two-class) and multiclass classification problems. \n",
    "- It is called Naive Bayes or idiot Bayes because the calculations of the probabilities for each class are simplified to make their calculations tractable. \n",
    "- Rather than attempting to calculate the probabilities of each attribute value, they are assumed to be conditionally independent given the class value. \n",
    "- This is a very strong assumption that is most unlikely in real data such that the attributes do not interact. \n",
    "- Nevertheless, the approach performs surprisingly well on data where this assumption does not hold.\n",
    "\n",
    "![](images/nb_mean.png)\n",
    "![](images/nb_standard_deviation.png)\n",
    "![](images/nb_gaussian_probability.png)\n",
    "![](images/nb_class_probability.png)\n",
    "![](images/nb_class_0.png)"
   ]
  },
  {
   "cell_type": "code",
   "execution_count": 68,
   "metadata": {
    "ExecuteTime": {
     "end_time": "2019-10-11T01:05:59.012370Z",
     "start_time": "2019-10-11T01:05:58.971403Z"
    }
   },
   "outputs": [
    {
     "name": "stdout",
     "output_type": "stream",
     "text": [
      "0.7551777170198223\n"
     ]
    }
   ],
   "source": [
    "# Gaussian Naive Bayes Classification \n",
    "from pandas import read_csv \n",
    "from sklearn.model_selection import KFold \n",
    "from sklearn.model_selection import cross_val_score \n",
    "from sklearn.naive_bayes import GaussianNB \n",
    "filename = 'pima-indians-diabetes.data.csv' \n",
    "names = ['preg' , 'plas' , 'pres' , 'skin' , 'test' , 'mass' , 'pedi' , 'age' , 'class' ] \n",
    "dataframe = read_csv(filename, names=names) \n",
    "array = dataframe.values \n",
    "X = array[:,0:8] \n",
    "Y = array[:,8] \n",
    "kfold = KFold(n_splits=10, random_state=7) \n",
    "model = GaussianNB() \n",
    "results = cross_val_score(model, X, Y, cv=kfold) \n",
    "print(results.mean())"
   ]
  },
  {
   "cell_type": "markdown",
   "metadata": {},
   "source": [
    "## Classification and regression trees\n",
    "\n",
    "- Classification and Regression Trees (CART or just decision trees) construct a binary tree from the training data. \n",
    "- Split points are chosen greedily by evaluating each attribute and each value of each attribute in the training data in order to minimize a cost function (like the Gini index).\n",
    "\n",
    "Note:\n",
    "- For classification, the Gini cost function is used which provides an indication of how pure the nodes are, where node purity refers to how mixed the training data assigned to each node is.\n",
    "\n",
    "Creating a split involves three parts:\n",
    "\n",
    "1. Calculate the Gini score\n",
    "1. Split a dataset\n",
    "1. Evaluate all splits\n",
    "\n",
    "Calculate the Gini score:\n",
    "- The Gini index is the name of the cost function used to evaluate splits in the dataset. \n",
    "- A split in the dataset involves one input attribute and one value for that attribute. \n",
    "- It can be used to divide training patterns into two groups of rows. \n",
    "- A Gini score gives an idea of how good a split is by how mixed the classes are in the two groups created by the split. \n",
    "- A perfect separation results in a Gini score of 0, whereas the worst case split that results in 50/50 classes in each group results in a Gini score of 0.5 (for a 2 class problem).\n",
    "\n",
    "![](images/gini_index_proportion.png)\n",
    "![](images/gini_index_child_node.png)\n",
    "![](images/gini_index_group.png)\n",
    "\n",
    "Split a dataset:\n",
    "- Splitting a dataset means separating a dataset into two lists of rows given the index of an attribute and a split value for that attribute. \n",
    "- Once we have the two groups, we can then use our Gini score above to evaluate the cost of the split. \n",
    "- Splitting a dataset involves iterating over each row, checking if the attribute value is below or above the split value and assigning it to the left or right group respectively.\n",
    "\n",
    "Evaluate all splits:\n",
    "- Given a dataset, we must check every value on each attribute as a candidate split, evaluate the cost of the split and find the best possible split we could make. Once the best split is found, we can use it as a node in our decision tree.\n",
    "\n",
    "Note: **This is an exhaustive and greedy algorithm.**"
   ]
  },
  {
   "cell_type": "code",
   "execution_count": 69,
   "metadata": {
    "ExecuteTime": {
     "end_time": "2019-10-11T01:05:59.085993Z",
     "start_time": "2019-10-11T01:05:59.015754Z"
    }
   },
   "outputs": [
    {
     "name": "stdout",
     "output_type": "stream",
     "text": [
      "0.683526999316473\n"
     ]
    }
   ],
   "source": [
    "# CART Classification \n",
    "from pandas import read_csv \n",
    "from sklearn.model_selection import KFold \n",
    "from sklearn.model_selection import cross_val_score \n",
    "from sklearn.tree import DecisionTreeClassifier \n",
    "filename = 'pima-indians-diabetes.data.csv' \n",
    "names = ['preg' , 'plas' , 'pres' , 'skin' , 'test' , 'mass' , 'pedi' , 'age' , 'class'] \n",
    "dataframe = read_csv(filename, names=names) \n",
    "array = dataframe.values \n",
    "X = array[:,0:8] \n",
    "Y = array[:,8] \n",
    "kfold = KFold(n_splits=10, random_state=7) \n",
    "model = DecisionTreeClassifier() \n",
    "results = cross_val_score(model, X, Y, cv=kfold) \n",
    "print(results.mean())"
   ]
  },
  {
   "cell_type": "markdown",
   "metadata": {},
   "source": [
    "## Support vector machines\n",
    "\n",
    "- Support Vector Machines (or SVM) seek a line that best separates two classes. \n",
    "- Those data instances that are closest to the line that best separates the classes are called support vectors and influence where the line is placed. \n",
    "- SVM has been extended to support multiple classes. \n",
    "- Of particular importance is the use of different kernel functions via the kernel parameter. \n",
    "- A powerful Radial Basis Function is used by default.\n",
    "\n",
    "![](images/svm_itsl.png)\n",
    "![](images/svm_support_vectors_01.png)\n",
    "![](images/svm_support_vectors_02.png)\n",
    "![](images/svm_polynomial.png)\n",
    "\n",
    "C is a nonnegative tuning parameter:\n",
    "\n",
    "![](images/svm_c_tuning_parameter.png)"
   ]
  },
  {
   "cell_type": "code",
   "execution_count": 70,
   "metadata": {
    "ExecuteTime": {
     "end_time": "2019-10-11T01:05:59.571448Z",
     "start_time": "2019-10-11T01:05:59.089352Z"
    }
   },
   "outputs": [
    {
     "name": "stdout",
     "output_type": "stream",
     "text": [
      "0.6510252904989747\n"
     ]
    }
   ],
   "source": [
    "# SVM Classification \n",
    "from pandas import read_csv \n",
    "from sklearn.model_selection import KFold \n",
    "from sklearn.model_selection import cross_val_score\n",
    "from sklearn.svm import SVC \n",
    "filename = 'pima-indians-diabetes.data.csv' \n",
    "names = ['preg' , 'plas' , 'pres' , 'skin' , 'test' , 'mass' , 'pedi' , 'age' , 'class'] \n",
    "dataframe = read_csv(filename, names=names) \n",
    "array = dataframe.values \n",
    "X = array[:,0:8] \n",
    "Y = array[:,8] \n",
    "kfold = KFold(n_splits=10, random_state=7) \n",
    "model = SVC() \n",
    "results = cross_val_score(model, X, Y, cv=kfold) \n",
    "print(results.mean())"
   ]
  },
  {
   "cell_type": "markdown",
   "metadata": {},
   "source": [
    "# Spot-Check Regression Algorithms\n",
    "\n",
    "Linear \n",
    "- Linear Regression\n",
    "- Ridge Regression\n",
    "- LASSO Linear Regression\n",
    "- Elastic Net Regression\n",
    "\n",
    "Nonlinear \n",
    "- k-Nearest Neighbors\n",
    "- Classification and Regression Trees\n",
    "- Support Vector Machines"
   ]
  },
  {
   "cell_type": "markdown",
   "metadata": {},
   "source": [
    "## Linear regression \n",
    "\n",
    "- Linear regression assumes that the input variables have a Gaussian distribution. \n",
    "- It is also assumed that input variables are relevant to the output variable and that they are not highly correlated with each other (a problem called collinearity).\n",
    "\n",
    "![](images/simple_linear_regression.png)\n",
    "![](images/simple_linear_regression_mean.png)\n",
    "![](images/simple_linear_regression_variance.png)\n",
    "![](images/simple_linear_regression_covariance.png)\n",
    "![](images/simple_linear_regression_b1.png)\n",
    "![](images/simple_linear_regression_b1_2.png)\n",
    "![](images/simple_linear_regression_b0.png)\n",
    "\n",
    "![](images/simple_linear_regression_actual.png)\n",
    "![](images/simple_linear_regression_predicted.png)\n",
    "\n",
    "<!--![](images/simple_linear_regression_coefficients.png)-->"
   ]
  },
  {
   "cell_type": "code",
   "execution_count": 71,
   "metadata": {
    "ExecuteTime": {
     "end_time": "2019-10-11T01:05:59.626113Z",
     "start_time": "2019-10-11T01:05:59.576533Z"
    }
   },
   "outputs": [
    {
     "name": "stdout",
     "output_type": "stream",
     "text": [
      "-34.70525594452488\n"
     ]
    }
   ],
   "source": [
    "# Linear Regression \n",
    "from pandas import read_csv \n",
    "from sklearn.model_selection import KFold \n",
    "from sklearn.model_selection import cross_val_score \n",
    "from sklearn.linear_model import LinearRegression \n",
    "filename = 'housing.csv'\n",
    "names = ['CRIM' , 'ZN' , 'INDUS' , 'CHAS' , 'NOX' , 'RM' , 'AGE' , 'DIS' , 'RAD' , 'TAX' , 'PTRATIO' , 'B' , 'LSTAT' , 'MEDV']\n",
    "dataframe = read_csv(filename, delim_whitespace=True, names=names) \n",
    "array = dataframe.values \n",
    "X = array[:,0:13] \n",
    "Y = array[:,13] \n",
    "kfold = KFold(n_splits=10, random_state=7) \n",
    "model = LinearRegression() \n",
    "scoring = 'neg_mean_squared_error' \n",
    "results = cross_val_score(model, X, Y, cv=kfold, scoring=scoring) \n",
    "print(results.mean())"
   ]
  },
  {
   "cell_type": "markdown",
   "metadata": {},
   "source": [
    "## Ridge regression\n",
    "\n",
    "- Ridge regression is an extension of linear regression where the loss function is modified to minimize the complexity of the model measured as the sum squared value of the coefficient values (also called the $L^2$-norm).\n",
    "\n",
    "Also:\n",
    "- The length of the vector is always a positive number, except for a vector of all zero values.\n",
    "- It is calculated using some measure that summarizes the distance of the vector from the origin of the vector space. \n",
    "- For example, the origin of a vector space for a vector with 3 elements is (0, 0, 0).\n",
    "\n",
    "Then:\n",
    "- The length of a vector can be calculated using the $L^2$ norm, where the $2$ is a superscript of the $L$. \n",
    "- The notation for the $L^2$ norm of a vector is $||v||_2$ where $2$ is a subscript.\n",
    "\n",
    "![](images/l2_norm.png)\n",
    "\n",
    "- The $L^2$ norm calculates the distance of the vector coordinate from the origin of the vector space. \n",
    "- As such, it is also known as the Euclidean norm as it is calculated as the Euclidean distance from the origin. \n",
    "- The result is a positive distance value. \n",
    "- The $L^2$ norm is calculated as the square root of the sum of the squared vector values.\n",
    "\n",
    "![](images/l2_vector.png)\n",
    "\n",
    "Note: The $L^2$ norm that is calculated as the square root of the sum of the squared vector values.\n",
    "\n",
    "**$\\lambda \\ge 0$ is a tuning parameter:**\n",
    "\n",
    "![](images/ridge_rss.png)\n",
    "![](images/ridge_lambda.png)"
   ]
  },
  {
   "cell_type": "code",
   "execution_count": 72,
   "metadata": {
    "ExecuteTime": {
     "end_time": "2019-10-11T01:05:59.681336Z",
     "start_time": "2019-10-11T01:05:59.630173Z"
    }
   },
   "outputs": [
    {
     "name": "stdout",
     "output_type": "stream",
     "text": [
      "-34.07824620925939\n"
     ]
    }
   ],
   "source": [
    "# Ridge Regression \n",
    "from pandas import read_csv \n",
    "from sklearn.model_selection import KFold \n",
    "from sklearn.model_selection import cross_val_score \n",
    "from sklearn.linear_model import Ridge \n",
    "filename = 'housing.csv' \n",
    "names = ['CRIM' , 'ZN' , 'INDUS' , 'CHAS' , 'NOX' , 'RM' , 'AGE' , 'DIS' , 'RAD' , 'TAX' , 'PTRATIO' , 'B' , 'LSTAT' , 'MEDV']\n",
    "dataframe = read_csv(filename, delim_whitespace=True, names=names) \n",
    "array = dataframe.values \n",
    "X = array[:,0:13] \n",
    "Y = array[:,13] \n",
    "kfold = KFold(n_splits=10, random_state=7) \n",
    "model = Ridge() \n",
    "scoring = 'neg_mean_squared_error' \n",
    "results = cross_val_score(model, X, Y, cv=kfold, scoring=scoring) \n",
    "print(results.mean())"
   ]
  },
  {
   "cell_type": "markdown",
   "metadata": {},
   "source": [
    "## LASSO Regression\n",
    "\n",
    "- The Least Absolute Shrinkage and Selection Operator (or LASSO for short) is a modification of linear regression, like ridge regression, where the loss function is modified to minimize the complexity of the model measured as the sum absolute value of the coefficient values (also called the $L^1$-norm).\n",
    "\n",
    "Also:\n",
    "- The length of the vector is always a positive number, except for a vector of all zero values.\n",
    "- It is calculated using some measure that summarizes the distance of the vector from the origin of the vector space. \n",
    "- For example, the origin of a vector space for a vector with 3 elements is (0, 0, 0).\n",
    "\n",
    "Then:\n",
    "\n",
    "- The length of a vector can be calculated using the $L^1$ norm, where the $1$ is a superscript of the $L$. \n",
    "- The notation for the $L^1$ norm of a vector is $||v||_1$, where $1$ is a subscript. \n",
    "- As such, this length is sometimes called the taxicab norm or the Manhattan norm.\n",
    "\n",
    "![](images/l1_norm.png)\n",
    "\n",
    "- The $L^1$ norm is calculated as the sum of the absolute vector values, where the absolute value of a scalar uses the notation $|a1|$. \n",
    "- In effect, the norm is a calculation of the Manhattan distance from the origin of the vector space.\n",
    "\n",
    "![](images/l1_vector.png)\n",
    "\n",
    "- The $L^1$ norm is often used when fitting machine learning algorithms as a regularization method, for example, a method to keep the coefficients of the model small, and in turn, the model less complex.\n",
    "\n",
    "Note: The $L^1$ norm that is calculated as the sum of the absolute values of the vector.\n",
    "\n",
    "**Where $\\lambda \\ge 0$ is a tuning parameter:**\n",
    "\n",
    "![](images/ridge_rss.png)\n",
    "![](images/lasso_lambda.png)\n",
    "![](images/lasso_ridge_contours.png)"
   ]
  },
  {
   "cell_type": "code",
   "execution_count": 73,
   "metadata": {
    "ExecuteTime": {
     "end_time": "2019-10-11T01:05:59.742347Z",
     "start_time": "2019-10-11T01:05:59.684777Z"
    }
   },
   "outputs": [
    {
     "name": "stdout",
     "output_type": "stream",
     "text": [
      "-34.46408458830232\n"
     ]
    }
   ],
   "source": [
    "# Lasso Regression \n",
    "from pandas import read_csv \n",
    "from sklearn.model_selection import KFold \n",
    "from sklearn.model_selection import cross_val_score \n",
    "from sklearn.linear_model import Lasso \n",
    "filename = 'housing.csv' \n",
    "names = ['CRIM' , 'ZN' , 'INDUS' , 'CHAS' , 'NOX' , 'RM' , 'AGE' , 'DIS' , 'RAD' , 'TAX' , 'PTRATIO' , 'B' , 'LSTAT' , 'MEDV']\n",
    "dataframe = read_csv(filename, delim_whitespace=True, names=names) \n",
    "array = dataframe.values \n",
    "X = array[:,0:13] \n",
    "Y = array[:,13]\n",
    "kfold = KFold(n_splits=10, random_state=7) \n",
    "model = Lasso() \n",
    "scoring = 'neg_mean_squared_error' \n",
    "results = cross_val_score(model, X, Y, cv=kfold, scoring=scoring) \n",
    "print(results.mean())"
   ]
  },
  {
   "cell_type": "markdown",
   "metadata": {},
   "source": [
    "## ElasticNet regression \n",
    "\n",
    "- ElasticNet is a form of regularization regression that combines the properties of both Ridge Regression and LASSO regression. \n",
    "- It seeks to minimize the complexity of the regression model (magnitude and number of regression coefficients) by penalizing the model using both the L2-norm (sum squared coefficient values) and the L1-norm (sum absolute coefficient values)."
   ]
  },
  {
   "cell_type": "code",
   "execution_count": 74,
   "metadata": {
    "ExecuteTime": {
     "end_time": "2019-10-11T01:05:59.800961Z",
     "start_time": "2019-10-11T01:05:59.745650Z"
    }
   },
   "outputs": [
    {
     "name": "stdout",
     "output_type": "stream",
     "text": [
      "-31.164573714249762\n"
     ]
    }
   ],
   "source": [
    "# ElasticNet Regression \n",
    "from pandas import read_csv \n",
    "from sklearn.model_selection import KFold \n",
    "from sklearn.model_selection import cross_val_score \n",
    "from sklearn.linear_model import ElasticNet \n",
    "filename = 'housing.csv'\n",
    "names = ['CRIM' , 'ZN' , 'INDUS' , 'CHAS' , 'NOX' , 'RM' , 'AGE' , 'DIS' , 'RAD' , 'TAX' , 'PTRATIO' , 'B' , 'LSTAT' , 'MEDV']\n",
    "dataframe = read_csv(filename, delim_whitespace=True, names=names) \n",
    "array = dataframe.values \n",
    "X = array[:,0:13] \n",
    "Y = array[:,13] \n",
    "kfold = KFold(n_splits=10, random_state=7) \n",
    "model = ElasticNet() \n",
    "scoring = 'neg_mean_squared_error' \n",
    "results = cross_val_score(model, X, Y, cv=kfold, scoring=scoring) \n",
    "print(results.mean())"
   ]
  },
  {
   "cell_type": "markdown",
   "metadata": {},
   "source": [
    "## K-Nearest Neighbors \n",
    "\n",
    "- The k-Nearest Neighbors algorithm (or KNN) locates the k most similar instances in the training dataset for a new data instance. \n",
    "- From the k neighbors, the mean or median output variable is taken as the prediction. Of note is the distance metric used (the metric argument). \n",
    "- The Minkowski distance is used by default, which is a generalization of both the Euclidean distance (used when all inputs have the same scale) and Manhattan distance (used when the scales of the input variables differ)."
   ]
  },
  {
   "cell_type": "code",
   "execution_count": 75,
   "metadata": {
    "ExecuteTime": {
     "end_time": "2019-10-11T01:05:59.851965Z",
     "start_time": "2019-10-11T01:05:59.804411Z"
    }
   },
   "outputs": [
    {
     "name": "stdout",
     "output_type": "stream",
     "text": [
      "-107.28683898039215\n"
     ]
    }
   ],
   "source": [
    "# KNN Regression \n",
    "from pandas import read_csv \n",
    "from sklearn.model_selection import KFold \n",
    "from sklearn.model_selection import cross_val_score \n",
    "from sklearn.neighbors import KNeighborsRegressor \n",
    "filename = 'housing.csv'\n",
    "names = ['CRIM' , 'ZN' , 'INDUS' , 'CHAS' , 'NOX' , 'RM' , 'AGE' , 'DIS' , 'RAD' , 'TAX' , 'PTRATIO' , 'B' , 'LSTAT' , 'MEDV']\n",
    "dataframe = read_csv(filename, delim_whitespace=True, names=names) \n",
    "array = dataframe.values \n",
    "X = array[:,0:13] \n",
    "Y = array[:,13] \n",
    "kfold = KFold(n_splits=10, random_state=7) \n",
    "model = KNeighborsRegressor() \n",
    "scoring = 'neg_mean_squared_error' \n",
    "results = cross_val_score(model, X, Y, cv=kfold, scoring=scoring) \n",
    "print(results.mean())"
   ]
  },
  {
   "cell_type": "markdown",
   "metadata": {},
   "source": [
    "## Classification and regression trees \n",
    "\n",
    "- Decision trees or the Classification and Regression Trees (CART as they are known) use the training data to select the best points to split the data in order to minimize a cost metric. \n",
    "- The default cost metric for regression decision trees is the mean squared error, specified in the `criterion` parameter.\n",
    "\n",
    "Note:\n",
    "- For regression, the cost function that is minimized to choose split points is the sum squared error across all training samples that fall within the rectangle.\n"
   ]
  },
  {
   "cell_type": "code",
   "execution_count": 76,
   "metadata": {
    "ExecuteTime": {
     "end_time": "2019-10-11T01:05:59.944507Z",
     "start_time": "2019-10-11T01:05:59.854712Z"
    }
   },
   "outputs": [
    {
     "name": "stdout",
     "output_type": "stream",
     "text": [
      "-35.16272705882352\n"
     ]
    }
   ],
   "source": [
    "# Decision Tree Regression \n",
    "from pandas import read_csv \n",
    "from sklearn.model_selection import KFold \n",
    "from sklearn.model_selection import cross_val_score \n",
    "from sklearn.tree import DecisionTreeRegressor \n",
    "filename = 'housing.csv'\n",
    "names = ['CRIM' , 'ZN' , 'INDUS' , 'CHAS' , 'NOX' , 'RM' , 'AGE' , 'DIS' , 'RAD' , 'TAX' , 'PTRATIO' , 'B' , 'LSTAT' , 'MEDV']\n",
    "dataframe = read_csv(filename, delim_whitespace=True, names=names) \n",
    "array = dataframe.values \n",
    "X = array[:,0:13] \n",
    "Y = array[:,13] \n",
    "kfold = KFold(n_splits=10, random_state=7) \n",
    "model = DecisionTreeRegressor() \n",
    "scoring = 'neg_mean_squared_error' \n",
    "results = cross_val_score(model, X, Y, cv=kfold, scoring=scoring) \n",
    "print(results.mean())"
   ]
  },
  {
   "cell_type": "markdown",
   "metadata": {},
   "source": [
    "## Support Vector Machines\n",
    "\n",
    "- Support Vector Machines (SVM) were developed for binary classification. \n",
    "- The technique has been extended for the prediction real-valued problems called Support Vector Regression (SVR)."
   ]
  },
  {
   "cell_type": "code",
   "execution_count": 77,
   "metadata": {
    "ExecuteTime": {
     "end_time": "2019-10-11T01:06:00.211501Z",
     "start_time": "2019-10-11T01:05:59.947843Z"
    }
   },
   "outputs": [
    {
     "name": "stdout",
     "output_type": "stream",
     "text": [
      "-91.04782433324428\n"
     ]
    }
   ],
   "source": [
    "# SVM Regression \n",
    "from pandas import read_csv \n",
    "from sklearn.model_selection import KFold \n",
    "from sklearn.model_selection import cross_val_score \n",
    "from sklearn.svm import SVR \n",
    "filename = 'housing.csv'\n",
    "names = ['CRIM' , 'ZN' , 'INDUS' , 'CHAS' , 'NOX' , 'RM' , 'AGE' , 'DIS' , 'RAD' , 'TAX' , 'PTRATIO' , 'B' , 'LSTAT' , 'MEDV']\n",
    "dataframe = read_csv(filename, delim_whitespace=True, names=names) \n",
    "array = dataframe.values \n",
    "X = array[:,0:13] \n",
    "Y = array[:,13] \n",
    "kfold = KFold(n_splits=10, random_state=7) \n",
    "model = SVR() \n",
    "scoring = 'neg_mean_squared_error' \n",
    "results = cross_val_score(model, X, Y, cv=kfold, scoring=scoring) \n",
    "print(results.mean())"
   ]
  },
  {
   "cell_type": "markdown",
   "metadata": {},
   "source": [
    "<div class=\"alert-danger\">\n",
    "\n",
    "# End\n",
    "</div>"
   ]
  },
  {
   "cell_type": "markdown",
   "metadata": {},
   "source": [
    "# Compare Machine Learning Algorithms"
   ]
  },
  {
   "cell_type": "markdown",
   "metadata": {},
   "source": [
    "- The key to a fair comparison of machine learning algorithms is ensuring that each algorithm is evaluated in the same way on the same data. \n",
    "- You can achieve this by forcing each algorithm to be evaluated on a consistent test harness. \n",
    "- For example, we can compare six different classification algorithms are compared on a single dataset:\n",
    "    - Logistic Regression\n",
    "    - Linear Discriminant Analysis\n",
    "    - k-Nearest Neighbors\n",
    "    - Classification and Regression Trees\n",
    "    - Naive Bayes\n",
    "    - Support Vector Machines"
   ]
  },
  {
   "cell_type": "code",
   "execution_count": 78,
   "metadata": {
    "ExecuteTime": {
     "end_time": "2019-10-11T01:06:01.488792Z",
     "start_time": "2019-10-11T01:06:00.214724Z"
    }
   },
   "outputs": [
    {
     "name": "stdout",
     "output_type": "stream",
     "text": [
      " LR: 0.769515 (0.048411)\n",
      " LDA: 0.773462 (0.051592)\n",
      " KNN: 0.726555 (0.061821)\n",
      " CART: 0.693951 (0.048714)\n",
      " NB: 0.755178 (0.042766)\n",
      " SVM: 0.651025 (0.072141)\n"
     ]
    },
    {
     "data": {
      "image/png": "[encoded data removed]",
      "text/plain": [
       "<Figure size 432x288 with 1 Axes>"
      ]
     },
     "metadata": {
      "needs_background": "light"
     },
     "output_type": "display_data"
    }
   ],
   "source": [
    "# Compare Algorithms \n",
    "from pandas import read_csv \n",
    "from matplotlib import pyplot \n",
    "from sklearn.model_selection import KFold \n",
    "from sklearn.model_selection import cross_val_score \n",
    "from sklearn.linear_model import LogisticRegression \n",
    "from sklearn.tree import DecisionTreeClassifier \n",
    "from sklearn.neighbors import KNeighborsClassifier \n",
    "from sklearn.discriminant_analysis import LinearDiscriminantAnalysis \n",
    "from sklearn.naive_bayes import GaussianNB \n",
    "from sklearn.svm import SVC \n",
    "\n",
    "# load dataset \n",
    "filename = 'pima-indians-diabetes.data.csv' \n",
    "names = ['preg' , 'plas' , 'pres' , 'skin' , 'test' , 'mass' , 'pedi' , 'age' , 'class'] \n",
    "dataframe = read_csv(filename, names=names) \n",
    "array = dataframe.values \n",
    "X = array[:,0:8] \n",
    "Y = array[:,8] \n",
    "\n",
    "# prepare models \n",
    "models = [] \n",
    "models.append((' LR' , LogisticRegression())) \n",
    "models.append((' LDA' , LinearDiscriminantAnalysis())) \n",
    "models.append((' KNN' , KNeighborsClassifier())) \n",
    "models.append((' CART' , DecisionTreeClassifier())) \n",
    "models.append((' NB' , GaussianNB())) \n",
    "models.append((' SVM' , SVC()))\n",
    "\n",
    "# evaluate each model in turn \n",
    "results = [] \n",
    "names = [] \n",
    "scoring = 'accuracy' \n",
    "for name, model in models: \n",
    "    kfold = KFold(n_splits=10, random_state=7) \n",
    "    cv_results = cross_val_score(model, X, Y, cv=kfold, scoring=scoring) \n",
    "    results.append(cv_results)\n",
    "    names.append(name) \n",
    "    msg = \"%s: %f (%f)\" % (name, cv_results.mean(), cv_results.std()) \n",
    "    print(msg)\n",
    "# boxplot algorithm comparison \n",
    "fig = pyplot.figure() \n",
    "fig.suptitle('Algorithm Comparison') \n",
    "ax = fig.add_subplot(111) \n",
    "pyplot.boxplot(results) \n",
    "ax.set_xticklabels(names)\n",
    "pyplot.show()"
   ]
  },
  {
   "cell_type": "markdown",
   "metadata": {},
   "source": [
    "# Automate Machine Learning Workflows with Pipelines\n",
    "\n",
    "- An easy trap to fall into in applied machine learning is leaking data from your training dataset to your test dataset. \n",
    "- To avoid this trap you need a robust test harness with strong separation of training and testing."
   ]
  },
  {
   "cell_type": "markdown",
   "metadata": {},
   "source": [
    "## Pipeline with data preprocessing\n",
    "\n",
    "- Data preparation is one easy way to leak knowledge of the whole training dataset to the algorithm. \n",
    "- For example, preparing your data using normalization or standardization on the entire training dataset before learning would not be a valid test because the training dataset would have been influenced by the scale of the data in the test set. \n",
    "- Pipelines help you prevent data leakage in your test harness by ensuring that data preparation like standardization is constrained to each fold of your cross-validation procedure."
   ]
  },
  {
   "cell_type": "code",
   "execution_count": 79,
   "metadata": {
    "ExecuteTime": {
     "end_time": "2019-10-11T01:06:01.573225Z",
     "start_time": "2019-10-11T01:06:01.491365Z"
    }
   },
   "outputs": [
    {
     "name": "stdout",
     "output_type": "stream",
     "text": [
      "0.773462064251538\n"
     ]
    }
   ],
   "source": [
    "# Create a pipeline that standardizes the data then creates a model \n",
    "from pandas import read_csv \n",
    "from sklearn.model_selection import KFold \n",
    "from sklearn.model_selection import cross_val_score \n",
    "from sklearn.preprocessing import StandardScaler \n",
    "from sklearn.pipeline import Pipeline \n",
    "from sklearn.discriminant_analysis import LinearDiscriminantAnalysis \n",
    "\n",
    "# load data \n",
    "filename = 'pima-indians-diabetes.data.csv' \n",
    "names = ['preg' , 'plas' , 'pres' , 'skin' , 'test' , 'mass' , 'pedi' , 'age' , 'class'] \n",
    "dataframe = read_csv(filename, names=names) \n",
    "array = dataframe.values \n",
    "X = array[:,0:8] \n",
    "Y = array[:,8] \n",
    "\n",
    "# create pipeline \n",
    "estimators = [] \n",
    "estimators.append(('standardize' , StandardScaler())) \n",
    "estimators.append(('lda' , LinearDiscriminantAnalysis())) \n",
    "model = Pipeline(estimators) \n",
    "\n",
    "# evaluate pipeline \n",
    "kfold = KFold(n_splits=10, random_state=7) \n",
    "results = cross_val_score(model, X, Y, cv=kfold) \n",
    "print(results.mean())"
   ]
  },
  {
   "cell_type": "markdown",
   "metadata": {},
   "source": [
    "## Pipeline with feature extraction\n",
    "\n",
    "Feature extraction is another procedure that is susceptible to data leakage. Like data preparation, feature extraction procedures must be restricted to the data in your training dataset. The pipeline provides a handy tool called the FeatureUnion which allows the results of multiple feature selection and extraction procedures to be combined into a larger dataset on which a model can be trained. Importantly, all the feature extraction and the feature union occurs within each fold of the cross-validation procedure. The"
   ]
  },
  {
   "cell_type": "code",
   "execution_count": 80,
   "metadata": {
    "ExecuteTime": {
     "end_time": "2019-10-11T01:06:01.879814Z",
     "start_time": "2019-10-11T01:06:01.576608Z"
    }
   },
   "outputs": [
    {
     "name": "stdout",
     "output_type": "stream",
     "text": [
      "0.7760423786739576\n"
     ]
    }
   ],
   "source": [
    "# Create a pipeline that extracts features from the data then creates a model \n",
    "from pandas import read_csv \n",
    "from sklearn.model_selection import KFold \n",
    "from sklearn.model_selection import cross_val_score \n",
    "from sklearn.pipeline import Pipeline \n",
    "from sklearn.pipeline import FeatureUnion \n",
    "from sklearn.linear_model import LogisticRegression \n",
    "from sklearn.decomposition import PCA \n",
    "from sklearn.feature_selection import SelectKBest \n",
    "\n",
    "# load data \n",
    "filename = 'pima-indians-diabetes.data.csv' \n",
    "names = ['preg' , 'plas' , 'pres' , 'skin' , 'test' , 'mass' , 'pedi' , 'age' , 'class'] \n",
    "dataframe = read_csv(filename, names=names) \n",
    "array = dataframe.values \n",
    "X = array[:,0:8] \n",
    "Y = array[:,8] \n",
    "\n",
    "# create feature union \n",
    "features = [] \n",
    "features.append(('pca' , PCA(n_components=3))) \n",
    "features.append(('select_best' , SelectKBest(k=6))) \n",
    "feature_union = FeatureUnion(features) \n",
    "\n",
    "# create pipeline \n",
    "estimators = [] \n",
    "estimators.append(('feature_union' , feature_union)) \n",
    "estimators.append(('logistic' , LogisticRegression())) \n",
    "model = Pipeline(estimators)\n",
    "\n",
    "# evaluate pipeline \n",
    "kfold = KFold(n_splits=10, random_state=7) \n",
    "results = cross_val_score(model, X, Y, cv=kfold) \n",
    "print(results.mean())"
   ]
  },
  {
   "cell_type": "markdown",
   "metadata": {},
   "source": [
    "# Improve Performance with Ensembles\n",
    "\n",
    "- Bagging\n",
    "- Boosting\n",
    "- Voting"
   ]
  },
  {
   "cell_type": "markdown",
   "metadata": {},
   "source": [
    "## Bagging\n",
    "\n",
    "- Building multiple models (typically of the same type) from different subsamples of the training dataset.\n",
    "- Also known as Bootstrap Aggregation (or Bagging), it involves taking multiple samples from your training dataset (with replacement) and training a model for each sample. \n",
    "- The final output prediction is averaged across the predictions of all of the sub-models.\n",
    "- The three bagging models covered in this section are as follows:\n",
    "    - Bagged Decision Trees\n",
    "    - Random Forest\n",
    "    - Extra Trees"
   ]
  },
  {
   "cell_type": "markdown",
   "metadata": {},
   "source": [
    "### Bagged decision trees\n",
    "\n",
    "- Bagging performs best with algorithms that have high variance. \n",
    "- A popular example are decision trees, often constructed without pruning."
   ]
  },
  {
   "cell_type": "code",
   "execution_count": 81,
   "metadata": {
    "ExecuteTime": {
     "end_time": "2019-10-11T01:06:05.865944Z",
     "start_time": "2019-10-11T01:06:01.882527Z"
    }
   },
   "outputs": [
    {
     "name": "stdout",
     "output_type": "stream",
     "text": [
      "0.770745044429255\n"
     ]
    }
   ],
   "source": [
    "# Bagged Decision Trees for Classification \n",
    "from pandas import read_csv \n",
    "from sklearn.model_selection import KFold \n",
    "from sklearn.model_selection import cross_val_score \n",
    "from sklearn.ensemble import BaggingClassifier \n",
    "from sklearn.tree import DecisionTreeClassifier \n",
    "filename = 'pima-indians-diabetes.data.csv' \n",
    "names = ['preg' , 'plas' , 'pres' , 'skin' , 'test' , 'mass' , 'pedi' , 'age' , 'class'] \n",
    "dataframe = read_csv(filename, names=names) \n",
    "array = dataframe.values \n",
    "X = array[:,0:8] \n",
    "Y = array[:,8] \n",
    "seed = 7 \n",
    "kfold = KFold(n_splits=10, random_state=seed) \n",
    "cart = DecisionTreeClassifier() \n",
    "num_trees = 100 \n",
    "model = BaggingClassifier(base_estimator=cart, n_estimators=num_trees, random_state=seed) \n",
    "results = cross_val_score(model, X, Y, cv=kfold) \n",
    "print(results.mean())"
   ]
  },
  {
   "cell_type": "markdown",
   "metadata": {},
   "source": [
    "### Random forests\n",
    "\n",
    "- Random Forests is an extension of bagged decision trees. \n",
    "- Samples of the training dataset are taken with replacement, but the trees are constructed in a way that reduces the correlation between individual classifiers. \n",
    "- Specifically, rather than greedily choosing the best split point in the construction of each tree, only a random subset of features are considered for each split."
   ]
  },
  {
   "cell_type": "code",
   "execution_count": 82,
   "metadata": {
    "ExecuteTime": {
     "end_time": "2019-10-11T01:06:08.624514Z",
     "start_time": "2019-10-11T01:06:05.869136Z"
    }
   },
   "outputs": [
    {
     "name": "stdout",
     "output_type": "stream",
     "text": [
      "0.7694463431305537\n"
     ]
    }
   ],
   "source": [
    "# Random Forest Classification \n",
    "from pandas import read_csv \n",
    "from sklearn.model_selection import KFold \n",
    "from sklearn.model_selection import cross_val_score \n",
    "from sklearn.ensemble import RandomForestClassifier \n",
    "filename = 'pima-indians-diabetes.data.csv' \n",
    "names = ['preg' , 'plas' , 'pres' , 'skin' , 'test' , 'mass' , 'pedi' , 'age' , 'class'] \n",
    "dataframe = read_csv(filename, names=names) \n",
    "array = dataframe.values \n",
    "X = array[:,0:8] \n",
    "Y = array[:,8] \n",
    "num_trees = 100 \n",
    "max_features = 3 \n",
    "kfold = KFold(n_splits=10, random_state=7) \n",
    "model = RandomForestClassifier(n_estimators=num_trees, max_features=max_features) \n",
    "results = cross_val_score(model, X, Y, cv=kfold) \n",
    "print(results.mean())"
   ]
  },
  {
   "cell_type": "markdown",
   "metadata": {},
   "source": [
    "### Extra Trees\n",
    "\n",
    "- Extra Trees are another modification of bagging where random trees are constructed from samples of the training dataset."
   ]
  },
  {
   "cell_type": "code",
   "execution_count": 83,
   "metadata": {
    "ExecuteTime": {
     "end_time": "2019-10-11T01:06:10.851167Z",
     "start_time": "2019-10-11T01:06:08.627289Z"
    }
   },
   "outputs": [
    {
     "name": "stdout",
     "output_type": "stream",
     "text": [
      "0.7603212576896787\n"
     ]
    }
   ],
   "source": [
    "# Extra Trees Classification \n",
    "from pandas import read_csv \n",
    "from sklearn.model_selection import KFold \n",
    "from sklearn.model_selection import cross_val_score \n",
    "from sklearn.ensemble import ExtraTreesClassifier \n",
    "filename = 'pima-indians-diabetes.data.csv' \n",
    "names = ['preg' , 'plas' , 'pres' , 'skin' , 'test' , 'mass' , 'pedi' , 'age' , 'class']\n",
    "\n",
    "dataframe = read_csv(filename, names=names) \n",
    "array = dataframe.values \n",
    "X = array[:,0:8] \n",
    "Y = array[:,8] \n",
    "num_trees = 100 \n",
    "max_features = 7 \n",
    "kfold = KFold(n_splits=10, random_state=7) \n",
    "model = ExtraTreesClassifier(n_estimators=num_trees, max_features=max_features) \n",
    "results = cross_val_score(model, X, Y, cv=kfold) \n",
    "print(results.mean())"
   ]
  },
  {
   "cell_type": "markdown",
   "metadata": {},
   "source": [
    "## Boosting\n",
    "\n",
    "- Building multiple models (typically of the same type) each of which learns to fix the prediction errors of a prior model in the sequence of models.\n",
    "- Boosting ensemble algorithms create a sequence of models that attempt to correct the mistakes of the models before them in the sequence. \n",
    "- Once created, the models make predictions which may be weighted by their demonstrated accuracy and the results are combined to create a final output prediction. \n",
    "- The two most common boosting ensemble machine learning algorithms are:\n",
    "    - AdaBoost\n",
    "    - Stochastic Gradient Boosting"
   ]
  },
  {
   "cell_type": "markdown",
   "metadata": {},
   "source": [
    "### AdaBoost\n",
    "\n",
    "- AdaBoost was perhaps the first successful boosting ensemble algorithm. \n",
    "- It generally works by weighting instances in the dataset by how easy or difficult they are to classify, allowing the algorithm to pay less or more attention to them in the construction of subsequent models."
   ]
  },
  {
   "cell_type": "code",
   "execution_count": 84,
   "metadata": {
    "ExecuteTime": {
     "end_time": "2019-10-11T01:06:11.505713Z",
     "start_time": "2019-10-11T01:06:10.853364Z"
    }
   },
   "outputs": [
    {
     "name": "stdout",
     "output_type": "stream",
     "text": [
      "0.760457963089542\n"
     ]
    }
   ],
   "source": [
    "# AdaBoost Classification \n",
    "from pandas import read_csv \n",
    "from sklearn.model_selection import KFold \n",
    "from sklearn.model_selection import cross_val_score \n",
    "from sklearn.ensemble import AdaBoostClassifier \n",
    "filename = 'pima-indians-diabetes.data.csv' \n",
    "names = ['preg' , 'plas' , 'pres' , 'skin' , 'test' , 'mass' , 'pedi' , 'age' , 'class'] \n",
    "dataframe = read_csv(filename, names=names) \n",
    "array = dataframe.values \n",
    "X = array[:,0:8] \n",
    "Y = array[:,8]\n",
    "num_trees = 30 \n",
    "seed=7 \n",
    "kfold = KFold(n_splits=10, random_state=seed) \n",
    "model = AdaBoostClassifier(n_estimators=num_trees, random_state=seed) \n",
    "results = cross_val_score(model, X, Y, cv=kfold) \n",
    "print(results.mean())"
   ]
  },
  {
   "cell_type": "markdown",
   "metadata": {},
   "source": [
    "### Stochastic Gradient Boosting \n",
    "\n",
    "- Stochastic Gradient Boosting (also called Gradient Boosting Machines) are one of the most sophisticated ensemble techniques. \n",
    "- It is also a technique that is proving to be perhaps one of the best techniques available for improving performance via ensembles."
   ]
  },
  {
   "cell_type": "code",
   "execution_count": 85,
   "metadata": {
    "ExecuteTime": {
     "end_time": "2019-10-11T01:06:12.685405Z",
     "start_time": "2019-10-11T01:06:11.507860Z"
    }
   },
   "outputs": [
    {
     "name": "stdout",
     "output_type": "stream",
     "text": [
      "0.7681989063568012\n"
     ]
    }
   ],
   "source": [
    "# Stochastic Gradient Boosting Classification \n",
    "from pandas import read_csv \n",
    "from sklearn.model_selection import KFold \n",
    "from sklearn.model_selection import cross_val_score \n",
    "from sklearn.ensemble import GradientBoostingClassifier \n",
    "filename = 'pima-indians-diabetes.data.csv' \n",
    "names = ['preg' , 'plas' , 'pres' , 'skin' , 'test' , 'mass' , 'pedi' , 'age' , 'class'] \n",
    "dataframe = read_csv(filename, names=names) \n",
    "array = dataframe.values \n",
    "X = array[:,0:8] \n",
    "Y = array[:,8] \n",
    "seed = 7 \n",
    "num_trees = 100 \n",
    "kfold = KFold(n_splits=10, random_state=seed) \n",
    "model = GradientBoostingClassifier(n_estimators=num_trees, random_state=seed) \n",
    "results = cross_val_score(model, X, Y, cv=kfold) \n",
    "print(results.mean())"
   ]
  },
  {
   "cell_type": "markdown",
   "metadata": {},
   "source": [
    "## Voting\n",
    "\n",
    "- Building multiple models (typically of differing types) and simple statistics (like calculating the mean) are used to combine predictions.\n",
    "- Voting is one of the simplest ways of combining the predictions from multiple machine learning algorithms. \n",
    "- It works by first creating two or more standalone models from your training dataset. \n",
    "- A Voting Classifier can then be used to wrap your models and average the predictions of the sub-models when asked to make predictions for new data. \n",
    "- The predictions of the sub-models can be weighted, but specifying the weights for classifiers manually or even heuristically is difficult."
   ]
  },
  {
   "cell_type": "code",
   "execution_count": 86,
   "metadata": {
    "ExecuteTime": {
     "end_time": "2019-10-11T01:06:13.244558Z",
     "start_time": "2019-10-11T01:06:12.688037Z"
    }
   },
   "outputs": [
    {
     "name": "stdout",
     "output_type": "stream",
     "text": [
      "0.7303827751196172\n"
     ]
    }
   ],
   "source": [
    "# Voting Ensemble for Classification \n",
    "from pandas import read_csv \n",
    "from sklearn.model_selection import KFold \n",
    "from sklearn.model_selection import cross_val_score \n",
    "from sklearn.linear_model import LogisticRegression \n",
    "from sklearn.tree import DecisionTreeClassifier \n",
    "from sklearn.svm import SVC \n",
    "from sklearn.ensemble import VotingClassifier \n",
    "filename = 'pima-indians-diabetes.data.csv' \n",
    "names = ['preg' , 'plas' , 'pres' , 'skin' , 'test' , 'mass' , 'pedi' , 'age' , 'class'] \n",
    "dataframe = read_csv(filename, names=names) \n",
    "array = dataframe.values \n",
    "X = array[:,0:8] \n",
    "Y = array[:,8] \n",
    "kfold = KFold(n_splits=10, random_state=7) \n",
    "\n",
    "# create the sub models \n",
    "estimators = [] \n",
    "model1 = LogisticRegression() \n",
    "estimators.append((' logistic' , model1)) \n",
    "model2 = DecisionTreeClassifier() \n",
    "estimators.append((' cart' , model2)) \n",
    "model3 = SVC() \n",
    "estimators.append((' svm' , model3)) \n",
    "\n",
    "# create the ensemble model \n",
    "ensemble = VotingClassifier(estimators) \n",
    "results = cross_val_score(ensemble, X, Y, cv=kfold) \n",
    "print(results.mean())"
   ]
  },
  {
   "cell_type": "markdown",
   "metadata": {},
   "source": [
    "# Improve Performance with Algorithm Tuning\n",
    "\n",
    "- Algorithm tuning is a final step in the process of applied machine learning before finalizing your model. \n",
    "- It is sometimes called hyperparameter optimization where the algorithm parameters are referred to as hyperparameters, whereas the coefficients found by the machine learning algorithm itself are referred to as parameters. \n",
    "- Optimization suggests the search-nature of the problem. \n",
    "- Phrased as a search problem, you can use different search strategies to find a good and robust parameter or set of parameters for an algorithm on a given problem. \n",
    "- The two simple methods for algorithm parameter tuning:\n",
    "    - Grid Search Parameter Tuning\n",
    "    - Random Search Parameter Tuning"
   ]
  },
  {
   "cell_type": "markdown",
   "metadata": {},
   "source": [
    "## Grid search parameter tuning\n",
    "\n",
    "- Grid search is an approach to parameter tuning that will methodically build and evaluate a model for each combination of algorithm parameters specified in a grid."
   ]
  },
  {
   "cell_type": "code",
   "execution_count": 87,
   "metadata": {
    "ExecuteTime": {
     "end_time": "2019-10-11T01:06:13.316349Z",
     "start_time": "2019-10-11T01:06:13.247526Z"
    }
   },
   "outputs": [
    {
     "name": "stdout",
     "output_type": "stream",
     "text": [
      "0.7708333333333334\n",
      "1.0\n"
     ]
    }
   ],
   "source": [
    "# Grid Search for Algorithm Tuning \n",
    "import numpy \n",
    "from pandas import read_csv \n",
    "from sklearn.linear_model import RidgeClassifier \n",
    "from sklearn.model_selection import GridSearchCV \n",
    "filename = 'pima-indians-diabetes.data.csv' \n",
    "names = ['preg' , 'plas' , 'pres' , 'skin' , 'test' , 'mass' , 'pedi' , 'age' , 'class'] \n",
    "dataframe = read_csv(filename, names=names) \n",
    "array = dataframe.values \n",
    "X = array[:,0:8] \n",
    "Y = array[:,8] \n",
    "alphas = numpy.array([1,0.1,0.01,0.001,0.0001,0]) \n",
    "param_grid = dict(alpha=alphas) \n",
    "model = RidgeClassifier() \n",
    "grid = GridSearchCV(estimator=model, param_grid=param_grid) \n",
    "grid.fit(X, Y) \n",
    "print(grid.best_score_) \n",
    "print(grid.best_estimator_.alpha)"
   ]
  },
  {
   "cell_type": "markdown",
   "metadata": {},
   "source": [
    "## Random search parameter tuning\n",
    "\n",
    "- Random search is an approach to parameter tuning that will sample algorithm parameters from a random distribution (i.e. uniform) for a fixed number of iterations. \n",
    "- A model is constructed and evaluated for each combination of parameters chosen."
   ]
  },
  {
   "cell_type": "code",
   "execution_count": 88,
   "metadata": {
    "ExecuteTime": {
     "end_time": "2019-10-11T01:06:14.088255Z",
     "start_time": "2019-10-11T01:06:13.319719Z"
    },
    "scrolled": true
   },
   "outputs": [
    {
     "name": "stdout",
     "output_type": "stream",
     "text": [
      "0.7708333333333334\n",
      "0.7799187922401146\n"
     ]
    }
   ],
   "source": [
    "# Randomized for Algorithm Tuning \n",
    "from pandas import read_csv \n",
    "from scipy.stats import uniform \n",
    "from sklearn.linear_model import RidgeClassifier \n",
    "from sklearn.model_selection import RandomizedSearchCV \n",
    "filename = 'pima-indians-diabetes.data.csv'\n",
    "names = ['preg' , 'plas' , 'pres' , 'skin' , 'test' , 'mass' , 'pedi' , 'age' , 'class'] \n",
    "dataframe = read_csv(filename, names=names) \n",
    "array = dataframe.values \n",
    "X = array[:,0:8] \n",
    "Y = array[:,8] \n",
    "param_grid = {'alpha' : uniform()} \n",
    "model = RidgeClassifier() \n",
    "rsearch = RandomizedSearchCV(estimator=model, param_distributions=param_grid, n_iter=100, random_state=7) \n",
    "rsearch.fit(X, Y) \n",
    "print(rsearch.best_score_) \n",
    "print(rsearch.best_estimator_.alpha)"
   ]
  },
  {
   "cell_type": "markdown",
   "metadata": {},
   "source": [
    "# Save and Load Machine Learning Models"
   ]
  },
  {
   "cell_type": "markdown",
   "metadata": {},
   "source": [
    "## `pickle`\n",
    "\n",
    "- Pickle is the standard way of serializing objects in Python. \n",
    "- You can use the `pickle` operation to serialize your machine learning algorithms and save the serialized format to a file. \n",
    "- Later you can load this file to deserialize your model and use it to make new predictions."
   ]
  },
  {
   "cell_type": "code",
   "execution_count": 89,
   "metadata": {
    "ExecuteTime": {
     "end_time": "2019-10-11T01:06:14.124745Z",
     "start_time": "2019-10-11T01:06:14.091269Z"
    }
   },
   "outputs": [
    {
     "name": "stdout",
     "output_type": "stream",
     "text": [
      "0.7559055118110236\n"
     ]
    }
   ],
   "source": [
    "# Save Model Using Pickle \n",
    "from pandas import read_csv \n",
    "from sklearn.model_selection import train_test_split \n",
    "from sklearn.linear_model import LogisticRegression \n",
    "from pickle import dump \n",
    "from pickle import load \n",
    "filename = 'pima-indians-diabetes.data.csv' \n",
    "names = ['preg' , 'plas' , 'pres' , 'skin' , 'test' , 'mass' , 'pedi' , 'age' , 'class'] \n",
    "dataframe = read_csv(filename, names=names) \n",
    "array = dataframe.values \n",
    "X = array[:,0:8] \n",
    "Y = array[:,8]\n",
    "X_train, X_test, Y_train, Y_test = train_test_split(X, Y, test_size=0.33, random_state=7) \n",
    "\n",
    "# Fit the model on 33% \n",
    "model = LogisticRegression() \n",
    "model.fit(X_train, Y_train) \n",
    "\n",
    "# save the model to disk \n",
    "filename = 'finalized_model.sav' \n",
    "dump(model, open(filename, 'wb'))\n",
    "\n",
    "# some time later...\n",
    "# load the model from disk \n",
    "loaded_model = load(open(filename, 'rb')) \n",
    "result = loaded_model.score(X_test, Y_test) \n",
    "print(result)"
   ]
  },
  {
   "cell_type": "markdown",
   "metadata": {},
   "source": [
    "## `joblib`\n",
    "\n",
    "- The `joblib` library is part of the Scipy ecosystem and provides utilities for pipelining Python jobs. \n",
    "- It provides utilities for saving and loading Python objects that make use of Numpy data structures, efficiently. \n",
    "- This can be useful for some machine learning algorithms that require a lot of parameters or store the entire dataset such as k-Nearest Neighbors."
   ]
  },
  {
   "cell_type": "code",
   "execution_count": 90,
   "metadata": {
    "ExecuteTime": {
     "end_time": "2019-10-11T01:06:14.157976Z",
     "start_time": "2019-10-11T01:06:14.127005Z"
    }
   },
   "outputs": [
    {
     "name": "stdout",
     "output_type": "stream",
     "text": [
      "0.7559055118110236\n"
     ]
    },
    {
     "name": "stderr",
     "output_type": "stream",
     "text": [
      "/home/lorenzo/anaconda/envs/ml-env/lib/python3.6/site-packages/sklearn/externals/joblib/__init__.py:15: DeprecationWarning: sklearn.externals.joblib is deprecated in 0.21 and will be removed in 0.23. Please import this functionality directly from joblib, which can be installed with: pip install joblib. If this warning is raised when loading pickled models, you may need to re-serialize those models with scikit-learn 0.21+.\n",
      "  warnings.warn(msg, category=DeprecationWarning)\n"
     ]
    }
   ],
   "source": [
    "# Save Model Using joblib \n",
    "from pandas import read_csv \n",
    "from sklearn.model_selection import train_test_split \n",
    "from sklearn.linear_model import LogisticRegression \n",
    "from sklearn.externals.joblib import dump \n",
    "from sklearn.externals.joblib import load \n",
    "filename = 'pima-indians-diabetes.data.csv' \n",
    "names = ['preg' , 'plas' , 'pres' , 'skin' , 'test' , 'mass' , 'pedi' , 'age' , 'class'] \n",
    "dataframe = read_csv(filename, names=names) \n",
    "array = dataframe.values \n",
    "X = array[:,0:8] \n",
    "Y = array[:,8] \n",
    "X_train, X_test, Y_train, Y_test = train_test_split(X, Y, test_size=0.33, random_state=7) \n",
    "\n",
    "# Fit the model on 33% \n",
    "model = LogisticRegression() \n",
    "model.fit(X_train, Y_train)\n",
    "\n",
    "# save the model to disk \n",
    "filename = 'finalized_model.sav' \n",
    "dump(model, filename)\n",
    "\n",
    "# some time later...\n",
    "# load the model from disk \n",
    "loaded_model = load(filename) \n",
    "result = loaded_model.score(X_test, Y_test) \n",
    "print(result)"
   ]
  },
  {
   "cell_type": "markdown",
   "metadata": {},
   "source": [
    "# Sources\n",
    "\n",
    "Brownlee, J. (2018). Understand Your Data, Create Accurate Models and Work Projects End-To-End.\n",
    "\n",
    "Diez, D. M., Barr, C. D., & Cetinkaya-Rundel, M. (2019). OpenIntro Statistics: Fourth Edition.\n",
    "\n",
    "IBM. (2011). IBM SPSS Modeler CRISP-DM Guide. Career: Data and Analytics.\n",
    "\n",
    "James, G., Witten, D., Hastie, T., & Tibshirani, R. (2013). An Introduction to Statistical Learning.\n",
    "\n",
    "Taboga, M. (2012). Lectures on Probability Theory and Mathematical Statistics."
   ]
  }
 ],
 "metadata": {
  "kernelspec": {
   "display_name": "Python 3",
   "language": "python",
   "name": "python3"
  },
  "language_info": {
   "codemirror_mode": {
    "name": "ipython",
    "version": 3
   },
   "file_extension": ".py",
   "mimetype": "text/x-python",
   "name": "python",
   "nbconvert_exporter": "python",
   "pygments_lexer": "ipython3",
   "version": "3.7.1"
  },
  "latex_envs": {
   "LaTeX_envs_menu_present": true,
   "autoclose": false,
   "autocomplete": true,
   "bibliofile": "biblio.bib",
   "cite_by": "apalike",
   "current_citInitial": 1,
   "eqLabelWithNumbers": true,
   "eqNumInitial": 1,
   "hotkeys": {
    "equation": "Ctrl-E",
    "itemize": "Ctrl-I"
   },
   "labels_anchors": false,
   "latex_user_defs": false,
   "report_style_numbering": false,
   "user_envs_cfg": false
  },
  "toc": {
   "base_numbering": 1,
   "nav_menu": {},
   "number_sections": true,
   "sideBar": true,
   "skip_h1_title": false,
   "title_cell": "Table of Contents",
   "title_sidebar": "Contents",
   "toc_cell": false,
   "toc_position": {
    "height": "458px",
    "left": "198px",
    "top": "110px",
    "width": "328px"
   },
   "toc_section_display": true,
   "toc_window_display": true
  },
  "varInspector": {
   "cols": {
    "lenName": 16,
    "lenType": 16,
    "lenVar": 40
   },
   "kernels_config": {
    "python": {
     "delete_cmd_postfix": "",
     "delete_cmd_prefix": "del ",
     "library": "var_list.py",
     "varRefreshCmd": "print(var_dic_list())"
    },
    "r": {
     "delete_cmd_postfix": ") ",
     "delete_cmd_prefix": "rm(",
     "library": "var_list.r",
     "varRefreshCmd": "cat(var_dic_list()) "
    }
   },
   "types_to_exclude": [
    "module",
    "function",
    "builtin_function_or_method",
    "instance",
    "_Feature"
   ],
   "window_display": false
  }
 },
 "nbformat": 4,
 "nbformat_minor": 2
}
