{
 "cells": [
  {
   "cell_type": "code",
   "execution_count": 18,
   "metadata": {},
   "outputs": [
    {
     "data": {
      "image/png": "[encoded data removed]",
      "text/plain": [
       "<Figure size 432x288 with 2 Axes>"
      ]
     },
     "metadata": {
      "needs_background": "light"
     },
     "output_type": "display_data"
    }
   ],
   "source": [
    "# Correlation Matrix Plot \n",
    "from matplotlib import pyplot \n",
    "from pandas import read_csv \n",
    "import numpy \n",
    "filename = 'Student_Admissions.csv' \n",
    "names = ['0','Batch','Eng7','Eng8','Eng9','Math7','Math8','Math9','Sci7','Sci8','Sci9','GWA7','GWA8','GWA9','UP','IQ','Target']\n",
    "data = read_csv(filename) \n",
    "correlations = data.corr() \n",
    "\n",
    "# plot correlation matrix \n",
    "fig = pyplot.figure() \n",
    "ax = fig.add_subplot(111) \n",
    "cax = ax.matshow(correlations, vmin=-1, vmax=1) \n",
    "fig.colorbar(cax) \n",
    "ticks = numpy.arange(0,17,1) \n",
    "ax.set_xticks(ticks) \n",
    "ax.set_yticks(ticks) \n",
    "ax.set_xticklabels(names) \n",
    "ax.set_yticklabels(names) \n",
    "pyplot.show()"
   ]
  },
  {
   "cell_type": "code",
   "execution_count": 27,
   "metadata": {},
   "outputs": [
    {
     "data": {
      "text/plain": [
       "array([[0.000e+00, 0.000e+00, 6.346e-01, 7.727e-01, 7.647e-01, 9.153e-01,\n",
       "        7.931e-01, 8.793e-01, 6.957e-01, 8.000e-01, 8.621e-01, 2.482e-01,\n",
       "        2.377e-04, 2.426e-02, 5.000e-01, 5.056e-01],\n",
       "       [9.911e-04, 0.000e+00, 2.500e-01, 3.939e-01, 2.353e-01, 2.542e-01,\n",
       "        8.621e-02, 2.759e-01, 2.174e-02, 4.500e-01, 1.897e-01, 8.377e-01,\n",
       "        8.956e-04, 4.648e-02, 5.000e-01, 3.146e-01],\n",
       "       [1.982e-03, 0.000e+00, 2.115e-01, 3.182e-01, 1.569e-01, 2.881e-01,\n",
       "        2.069e-01, 1.724e-01, 1.087e-01, 6.200e-01, 1.552e-01, 8.164e-01,\n",
       "        8.856e-04, 4.676e-02, 0.000e+00, 7.865e-02],\n",
       "       [2.973e-03, 0.000e+00, 4.808e-01, 7.121e-01, 6.078e-01, 7.966e-01,\n",
       "        6.552e-01, 6.552e-01, 6.739e-01, 8.200e-01, 6.379e-01, 3.708e-01,\n",
       "        2.977e-04, 2.934e-02, 5.000e-01, 3.933e-01],\n",
       "       [3.964e-03, 0.000e+00, 3.846e-01, 6.061e-01, 4.118e-01, 5.254e-01,\n",
       "        2.759e-01, 2.241e-01, 1.739e-01, 5.900e-01, 2.241e-01, 7.221e-01,\n",
       "        7.480e-04, 4.253e-02, 5.000e-01, 6.404e-01]])"
      ]
     },
     "execution_count": 27,
     "metadata": {},
     "output_type": "execute_result"
    }
   ],
   "source": [
    "# Rescale data (between 0 and 1) \n",
    "from pandas import read_csv \n",
    "from numpy import set_printoptions \n",
    "from sklearn.preprocessing import MinMaxScaler \n",
    "filename = 'Student_Admissions.csv' \n",
    "#names = ['0','Batch','Eng7','Eng8','Eng9','Math7','Math8','Math9','Sci7','Sci8','Sci9','GWA7','GWA8','GWA9','UP','IQ','Target'] \n",
    "dataframe = read_csv(filename) \n",
    "array = dataframe.values \n",
    "\n",
    "# separate array into input and output components \n",
    "X = array[:,0:16] \n",
    "Y = array[:,16] \n",
    "scaler = MinMaxScaler(feature_range=(0, 1)) \n",
    "rescaledX = scaler.fit_transform(X) \n",
    "\n",
    "# summarize transformed data \n",
    "set_printoptions(precision=3)\n",
    "rescaledX[0:5,:]"
   ]
  },
  {
   "cell_type": "code",
   "execution_count": 6,
   "metadata": {},
   "outputs": [
    {
     "name": "stdout",
     "output_type": "stream",
     "text": [
      "[[-1.73  -1.49   0.616  0.982  1.362  1.577  1.247  1.589  0.807  0.524\n",
      "   1.663 -1.344 -0.041 -0.383  0.848 -0.522]\n",
      " [-1.727 -1.49  -1.334 -1.332 -1.281 -1.598 -1.978 -1.12  -2.261 -2.34\n",
      "  -1.625  1.753 -0.02   0.333  0.848 -1.36 ]\n",
      " [-1.723 -1.49  -1.529 -1.794 -1.673 -1.435 -1.427 -1.585 -1.865 -0.949\n",
      "  -1.793  1.642 -0.02   0.342 -1.068 -2.395]\n",
      " [-1.72  -1.49  -0.164  0.611  0.579  1.007  0.617  0.583  0.708  0.688\n",
      "   0.567 -0.7   -0.039 -0.219  0.848 -1.015]\n",
      " [-1.717 -1.49  -0.651 -0.036 -0.4   -0.296 -1.113 -1.353 -1.568 -1.194\n",
      "  -1.456  1.146 -0.024  0.206  0.848  0.07 ]\n",
      " [-1.713 -1.49  -0.456 -0.961 -0.4   -1.435 -1.663 -1.43  -0.479 -1.849\n",
      "  -1.456  1.233 -0.022  0.203 -1.068  0.662]\n",
      " [-1.71  -1.49   0.226  0.982  0.481  1.251  0.853  0.196  0.114  0.279\n",
      "  -0.36  -0.601 -0.038 -0.092  0.848  1.155]\n",
      " [-1.706 -1.49   1.396  1.352  1.557  0.6    0.382  0.505  1.698  1.097\n",
      "   0.736 -1.344 -0.041 -0.333 -1.068  1.401]\n",
      " [-1.703 -1.49  -0.066 -0.314 -0.498  0.193 -0.326 -0.811 -0.38  -1.031\n",
      "  -0.866  0.13  -0.028  0.178 -1.068  1.204]\n",
      " [-1.699 -1.49  -2.113 -2.072 -2.064 -1.924 -1.663 -1.662 -1.37  -1.522\n",
      "  -2.131  1.654 -0.02   0.387 -1.068 -2.001]\n",
      " [-1.696 -1.49   0.518  0.611  0.285  0.681  0.46   0.97   1.005  0.279\n",
      "   0.652 -0.737 -0.037 -0.215 -1.068  0.76 ]\n",
      " [-1.693 -1.49  -0.749 -1.054 -1.477 -1.028 -0.719 -1.198 -0.677 -0.621\n",
      "  -1.203  0.712 -0.026  0.14   0.848 -1.803]\n",
      " [-1.689 -1.49   0.908  0.982  1.068  0.844  0.696  0.738  1.599  1.097\n",
      "   0.905 -1.257 -0.039 -0.251 -1.068  1.253]\n",
      " [-1.686 -1.49  -0.944 -1.517 -0.792 -1.842 -1.82  -1.043 -1.271 -1.358\n",
      "  -1.625  1.431 -0.02   0.262 -1.068 -0.67 ]\n",
      " [-1.682 -1.49  -0.749 -0.499 -0.302 -0.866 -0.955 -1.43   0.015 -1.931\n",
      "  -1.119  0.403 -0.027  0.115  0.848 -0.423]\n",
      " [-1.679 -1.49  -0.066  0.334  0.187  0.763  0.146  0.738  0.609 -0.212\n",
      "  -0.107 -0.341 -0.033 -0.099 -1.068  1.056]]\n"
     ]
    }
   ],
   "source": [
    "# Standardize data (0 mean, 1 stdev) \n",
    "from sklearn.preprocessing import StandardScaler \n",
    "from pandas import read_csv \n",
    "from numpy import set_printoptions \n",
    "filename = 'Student_Admissions.csv'  \n",
    "dataframe = read_csv(filename) \n",
    "array = dataframe.values \n",
    "\n",
    "# separate array into input and output components \n",
    "X = array[:,0:16] \n",
    "Y = array[:,16] \n",
    "scaler = StandardScaler().fit(X) \n",
    "rescaledX = scaler.transform(X) \n",
    "\n",
    "# summarize transformed data \n",
    "set_printoptions(precision=3) \n",
    "print(rescaledX[0:16,:])"
   ]
  },
  {
   "cell_type": "code",
   "execution_count": 7,
   "metadata": {},
   "outputs": [
    {
     "data": {
      "text/plain": [
       "0         0\n",
       "Batch     0\n",
       "Eng7      0\n",
       "Eng8      0\n",
       "Eng9      0\n",
       "Math7     0\n",
       "Math8     0\n",
       "Math9     0\n",
       "Sci7      0\n",
       "Sci8      0\n",
       "Sci9      0\n",
       "GWA7      0\n",
       "GWA8      0\n",
       "GWA9      0\n",
       "UP        0\n",
       "IQ        0\n",
       "Target    0\n",
       "dtype: int64"
      ]
     },
     "execution_count": 7,
     "metadata": {},
     "output_type": "execute_result"
    }
   ],
   "source": [
    "# Normalize data (length of 1) \n",
    "from sklearn.preprocessing import Normalizer \n",
    "from pandas import read_csv \n",
    "from numpy import set_printoptions \n",
    "filename = 'Student_Admissions.csv'   \n",
    "dataframe = read_csv(filename) \n",
    "\n",
    "#dropping\n",
    "dataframe2=dataframe.dropna(how='any')\n",
    "#check if there's null\n",
    "dataframe2.isnull().sum()\n"
   ]
  },
  {
   "cell_type": "code",
   "execution_count": 8,
   "metadata": {},
   "outputs": [
    {
     "data": {
      "text/plain": [
       "array([[0.000e+00, 9.914e-01, 3.807e-02, 4.055e-02, 4.252e-02, 4.648e-02,\n",
       "        4.302e-02, 4.549e-02, 4.154e-02, 3.956e-02, 4.549e-02, 7.300e-04,\n",
       "        7.439e-04, 6.971e-04, 4.945e-04, 2.720e-02],\n",
       "       [4.971e-04, 9.966e-01, 2.833e-02, 2.833e-02, 2.933e-02, 2.734e-02,\n",
       "        2.286e-02, 2.833e-02, 2.634e-02, 2.237e-02, 2.634e-02, 1.320e-03,\n",
       "        1.342e-03, 1.342e-03, 4.971e-04, 1.889e-02],\n",
       "       [9.941e-04, 9.966e-01, 2.734e-02, 2.585e-02, 2.734e-02, 2.833e-02,\n",
       "        2.634e-02, 2.535e-02, 2.833e-02, 3.082e-02, 2.535e-02, 1.299e-03,\n",
       "        1.333e-03, 1.351e-03, 0.000e+00, 8.450e-03],\n",
       "       [1.485e-03, 9.928e-01, 3.416e-02, 3.862e-02, 3.862e-02, 4.308e-02,\n",
       "        3.912e-02, 3.912e-02, 4.110e-02, 4.060e-02, 3.912e-02, 8.525e-04,\n",
       "        7.990e-04, 8.442e-04, 4.951e-04, 2.228e-02],\n",
       "       [1.985e-03, 9.951e-01, 3.176e-02, 3.524e-02, 3.375e-02, 3.524e-02,\n",
       "        2.829e-02, 2.680e-02, 2.978e-02, 2.928e-02, 2.730e-02, 1.203e-03,\n",
       "        1.207e-03, 1.227e-03, 4.963e-04, 3.325e-02]])"
      ]
     },
     "execution_count": 8,
     "metadata": {},
     "output_type": "execute_result"
    }
   ],
   "source": [
    "# Normalize data (length of 1) \n",
    "from sklearn.preprocessing import Normalizer \n",
    "from pandas import read_csv \n",
    "from numpy import set_printoptions \n",
    "filename = 'Student_Admissions.csv'   \n",
    "dataframe = read_csv(filename) \n",
    "array = dataframe2.values \n",
    "\n",
    "# separate array into input and output components \n",
    "X = array[:,0:16] \n",
    "Y = array[:,16] \n",
    "scaler = Normalizer().fit(X) \n",
    "normalizedX = scaler.transform(X) \n",
    "\n",
    "# summarize transformed data \n",
    "set_printoptions(precision=3) \n",
    "normalizedX[0:5,:]"
   ]
  },
  {
   "cell_type": "code",
   "execution_count": 9,
   "metadata": {},
   "outputs": [
    {
     "name": "stdout",
     "output_type": "stream",
     "text": [
      "[[0. 1. 1. 1. 1. 1. 1. 1. 1. 1. 1. 0. 0. 0. 0. 1.]\n",
      " [0. 1. 1. 1. 1. 1. 0. 1. 1. 0. 1. 0. 0. 0. 0. 0.]\n",
      " [0. 1. 1. 1. 1. 1. 1. 1. 1. 1. 1. 0. 0. 0. 0. 0.]\n",
      " [0. 1. 1. 1. 1. 1. 1. 1. 1. 1. 1. 0. 0. 0. 0. 0.]\n",
      " [0. 1. 1. 1. 1. 1. 1. 1. 1. 1. 1. 0. 0. 0. 0. 1.]\n",
      " [0. 1. 1. 1. 1. 1. 0. 1. 1. 1. 1. 0. 0. 0. 0. 1.]]\n"
     ]
    }
   ],
   "source": [
    "# binarization \n",
    "from sklearn.preprocessing import Binarizer \n",
    "from pandas import read_csv\n",
    "from numpy import set_printoptions \n",
    "filename = 'Student_Admissions.csv' \n",
    "dataframe = read_csv(filename) \n",
    "array = dataframe2.values \n",
    "\n",
    "# separate array into input and output components \n",
    "X = array[:,0:16] \n",
    "Y = array[:,16] \n",
    "binarizer = Binarizer(threshold=50).fit(X) \n",
    "binaryX = binarizer.transform(X) \n",
    "\n",
    "# summarize transformed data \n",
    "set_printoptions(precision=3) \n",
    "print(binaryX[0:6,:])"
   ]
  },
  {
   "cell_type": "code",
   "execution_count": 10,
   "metadata": {},
   "outputs": [
    {
     "name": "stdout",
     "output_type": "stream",
     "text": [
      "[7.619e+02 2.131e-02 6.443e+02 7.442e+02 6.929e+02 8.333e+02 9.557e+02\n",
      " 9.850e+02 6.518e+02 8.405e+02 8.165e+02 3.618e+01 1.037e+03 4.748e+01\n",
      " 2.715e+00 1.765e+03]\n",
      "[[87.    92.     1.504 55.   ]\n",
      " [46.    57.     2.7   38.   ]\n",
      " [53.    51.     2.682 17.   ]\n",
      " [79.    79.     1.614 45.   ]\n",
      " [57.    54.     2.432 67.   ]]\n"
     ]
    }
   ],
   "source": [
    "# Feature Extraction with Univariate Statistical Tests (Chi-squared for classification) \n",
    "from pandas import read_csv \n",
    "from numpy import set_printoptions \n",
    "from sklearn.feature_selection import SelectKBest \n",
    "from sklearn.feature_selection import chi2 \n",
    "\n",
    "# load data \n",
    "filename = 'Student_Admissions.csv' \n",
    "dataframe = read_csv(filename) \n",
    "array = dataframe2.values \n",
    "X = array[:,0:16] \n",
    "Y = array[:,16] \n",
    "\n",
    "# feature extraction \n",
    "test = SelectKBest(score_func=chi2, k=4) \n",
    "fit = test.fit(X, Y) \n",
    "\n",
    "# summarize scores\n",
    "set_printoptions(precision=3) \n",
    "print(fit.scores_) \n",
    "features = fit.transform(X) \n",
    "\n",
    "# summarize selected features \n",
    "print(features[0:5,:])\n",
    "# pd.DataFrame(fit.scores_.reshape(1, 8).tolist(), columns=names[:-1]).T.sort_values(0, ascending=False)"
   ]
  },
  {
   "cell_type": "code",
   "execution_count": 17,
   "metadata": {},
   "outputs": [
    {
     "name": "stderr",
     "output_type": "stream",
     "text": [
      "C:\\Users\\Nojor\\Anaconda\\lib\\site-packages\\sklearn\\linear_model\\logistic.py:433: FutureWarning: Default solver will be changed to 'lbfgs' in 0.22. Specify a solver to silence this warning.\n",
      "  FutureWarning)\n",
      "C:\\Users\\Nojor\\Anaconda\\lib\\site-packages\\sklearn\\linear_model\\logistic.py:433: FutureWarning: Default solver will be changed to 'lbfgs' in 0.22. Specify a solver to silence this warning.\n",
      "  FutureWarning)\n",
      "C:\\Users\\Nojor\\Anaconda\\lib\\site-packages\\sklearn\\linear_model\\logistic.py:433: FutureWarning: Default solver will be changed to 'lbfgs' in 0.22. Specify a solver to silence this warning.\n",
      "  FutureWarning)\n",
      "C:\\Users\\Nojor\\Anaconda\\lib\\site-packages\\sklearn\\linear_model\\logistic.py:433: FutureWarning: Default solver will be changed to 'lbfgs' in 0.22. Specify a solver to silence this warning.\n",
      "  FutureWarning)\n",
      "C:\\Users\\Nojor\\Anaconda\\lib\\site-packages\\sklearn\\linear_model\\logistic.py:433: FutureWarning: Default solver will be changed to 'lbfgs' in 0.22. Specify a solver to silence this warning.\n",
      "  FutureWarning)\n",
      "C:\\Users\\Nojor\\Anaconda\\lib\\site-packages\\sklearn\\linear_model\\logistic.py:433: FutureWarning: Default solver will be changed to 'lbfgs' in 0.22. Specify a solver to silence this warning.\n",
      "  FutureWarning)\n",
      "C:\\Users\\Nojor\\Anaconda\\lib\\site-packages\\sklearn\\linear_model\\logistic.py:433: FutureWarning: Default solver will be changed to 'lbfgs' in 0.22. Specify a solver to silence this warning.\n",
      "  FutureWarning)\n",
      "C:\\Users\\Nojor\\Anaconda\\lib\\site-packages\\sklearn\\linear_model\\logistic.py:433: FutureWarning: Default solver will be changed to 'lbfgs' in 0.22. Specify a solver to silence this warning.\n",
      "  FutureWarning)\n",
      "C:\\Users\\Nojor\\Anaconda\\lib\\site-packages\\sklearn\\linear_model\\logistic.py:433: FutureWarning: Default solver will be changed to 'lbfgs' in 0.22. Specify a solver to silence this warning.\n",
      "  FutureWarning)\n",
      "C:\\Users\\Nojor\\Anaconda\\lib\\site-packages\\sklearn\\linear_model\\logistic.py:433: FutureWarning: Default solver will be changed to 'lbfgs' in 0.22. Specify a solver to silence this warning.\n",
      "  FutureWarning)\n",
      "C:\\Users\\Nojor\\Anaconda\\lib\\site-packages\\sklearn\\linear_model\\logistic.py:433: FutureWarning: Default solver will be changed to 'lbfgs' in 0.22. Specify a solver to silence this warning.\n",
      "  FutureWarning)\n",
      "C:\\Users\\Nojor\\Anaconda\\lib\\site-packages\\sklearn\\linear_model\\logistic.py:433: FutureWarning: Default solver will be changed to 'lbfgs' in 0.22. Specify a solver to silence this warning.\n",
      "  FutureWarning)\n",
      "C:\\Users\\Nojor\\Anaconda\\lib\\site-packages\\sklearn\\linear_model\\logistic.py:433: FutureWarning: Default solver will be changed to 'lbfgs' in 0.22. Specify a solver to silence this warning.\n",
      "  FutureWarning)\n",
      "C:\\Users\\Nojor\\Anaconda\\lib\\site-packages\\sklearn\\linear_model\\logistic.py:433: FutureWarning: Default solver will be changed to 'lbfgs' in 0.22. Specify a solver to silence this warning.\n",
      "  FutureWarning)\n"
     ]
    },
    {
     "name": "stdout",
     "output_type": "stream",
     "text": [
      "Num Features: 3\n",
      "Selected Features: [False False False False  True False False  True  True False False False\n",
      " False False False False]\n",
      "Feature Ranking: [14  9  8  3  1  5  4  1  1 12  6 13 11 10  7  2]\n"
     ]
    },
    {
     "data": {
      "text/html": [
       "<div>\n",
       "<style scoped>\n",
       "    .dataframe tbody tr th:only-of-type {\n",
       "        vertical-align: middle;\n",
       "    }\n",
       "\n",
       "    .dataframe tbody tr th {\n",
       "        vertical-align: top;\n",
       "    }\n",
       "\n",
       "    .dataframe thead th {\n",
       "        text-align: right;\n",
       "    }\n",
       "</style>\n",
       "<table border=\"1\" class=\"dataframe\">\n",
       "  <thead>\n",
       "    <tr style=\"text-align: right;\">\n",
       "      <th></th>\n",
       "      <th>0</th>\n",
       "    </tr>\n",
       "  </thead>\n",
       "  <tbody>\n",
       "    <tr>\n",
       "      <th>Eng9</th>\n",
       "      <td>1</td>\n",
       "    </tr>\n",
       "    <tr>\n",
       "      <th>Math9</th>\n",
       "      <td>1</td>\n",
       "    </tr>\n",
       "    <tr>\n",
       "      <th>Sci7</th>\n",
       "      <td>1</td>\n",
       "    </tr>\n",
       "    <tr>\n",
       "      <th>IQ</th>\n",
       "      <td>2</td>\n",
       "    </tr>\n",
       "    <tr>\n",
       "      <th>Eng8</th>\n",
       "      <td>3</td>\n",
       "    </tr>\n",
       "    <tr>\n",
       "      <th>Math8</th>\n",
       "      <td>4</td>\n",
       "    </tr>\n",
       "    <tr>\n",
       "      <th>Math7</th>\n",
       "      <td>5</td>\n",
       "    </tr>\n",
       "    <tr>\n",
       "      <th>Sci9</th>\n",
       "      <td>6</td>\n",
       "    </tr>\n",
       "    <tr>\n",
       "      <th>UP</th>\n",
       "      <td>7</td>\n",
       "    </tr>\n",
       "    <tr>\n",
       "      <th>Eng7</th>\n",
       "      <td>8</td>\n",
       "    </tr>\n",
       "    <tr>\n",
       "      <th>Batch</th>\n",
       "      <td>9</td>\n",
       "    </tr>\n",
       "    <tr>\n",
       "      <th>GWA9</th>\n",
       "      <td>10</td>\n",
       "    </tr>\n",
       "    <tr>\n",
       "      <th>GWA8</th>\n",
       "      <td>11</td>\n",
       "    </tr>\n",
       "    <tr>\n",
       "      <th>Sci8</th>\n",
       "      <td>12</td>\n",
       "    </tr>\n",
       "    <tr>\n",
       "      <th>GWA7</th>\n",
       "      <td>13</td>\n",
       "    </tr>\n",
       "    <tr>\n",
       "      <th>0</th>\n",
       "      <td>14</td>\n",
       "    </tr>\n",
       "  </tbody>\n",
       "</table>\n",
       "</div>"
      ],
      "text/plain": [
       "        0\n",
       "Eng9    1\n",
       "Math9   1\n",
       "Sci7    1\n",
       "IQ      2\n",
       "Eng8    3\n",
       "Math8   4\n",
       "Math7   5\n",
       "Sci9    6\n",
       "UP      7\n",
       "Eng7    8\n",
       "Batch   9\n",
       "GWA9   10\n",
       "GWA8   11\n",
       "Sci8   12\n",
       "GWA7   13\n",
       "0      14"
      ]
     },
     "execution_count": 17,
     "metadata": {},
     "output_type": "execute_result"
    }
   ],
   "source": [
    "# Feature Extraction with RFE \n",
    "import pandas as pd\n",
    "from pandas import read_csv \n",
    "from sklearn.feature_selection import RFE \n",
    "from sklearn.linear_model import LogisticRegression \n",
    "\n",
    "# load data \n",
    "filename = 'Student_Admissions.csv' \n",
    "#names = ['0','Batch','Eng7','Eng8','Eng9','Math7','Math8','Math9','Sci7','Sci8','Sci9','GWA7','GWA8','GWA9','UP','IQ','Target'] \n",
    "dataframe = read_csv(filename) \n",
    "array = dataframe2.values \n",
    "X = array[:,0:16] \n",
    "Y = array[:,16] \n",
    "\n",
    "# feature extraction \n",
    "model = LogisticRegression() \n",
    "rfe = RFE(model, 3) \n",
    "fit = rfe.fit(X, Y) \n",
    "print(\"Num Features: %d\" % fit.n_features_) \n",
    "print(\"Selected Features: %s\" % fit.support_) \n",
    "print(\"Feature Ranking: %s\" % fit.ranking_)\n",
    "pd.DataFrame(fit.ranking_.reshape(1, 16).tolist(), columns=dataframe2.columns[:-1]).T.sort_values(0, ascending=True)"
   ]
  },
  {
   "cell_type": "code",
   "execution_count": null,
   "metadata": {},
   "outputs": [],
   "source": []
  }
 ],
 "metadata": {
  "kernelspec": {
   "display_name": "Python 3",
   "language": "python",
   "name": "python3"
  }
 },
 "nbformat": 4,
 "nbformat_minor": 2
}
